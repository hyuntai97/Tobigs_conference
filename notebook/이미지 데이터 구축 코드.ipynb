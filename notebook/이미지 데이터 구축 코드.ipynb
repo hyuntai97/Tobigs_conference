{
 "cells": [
  {
   "cell_type": "markdown",
   "id": "e918a32b",
   "metadata": {},
   "source": [
    "## [샘플 데이터셋 만들기]\n",
    "\n",
    "- 종목 : BTC-KRW(업비트), BTC/USDT(바이낸스)\n",
    "- 데이터 : 4시간봉(pyupbit 기준 'minute240')\n",
    "- 데이터 수 : count=300 (4시간봉이므로 50일 데이터)\n",
    "\n",
    "- 이미지 변환 (양봉/음봉 구분은 부차적)\n",
    "- 이미지 변환 및 저장, 로드 타임스탬프 확인"
   ]
  },
  {
   "cell_type": "code",
   "execution_count": 100,
   "id": "47a061d1",
   "metadata": {},
   "outputs": [
    {
     "name": "stdout",
     "output_type": "stream",
     "text": [
      "Requirement already satisfied: pyupbit in c:\\users\\sweet\\anaconda3\\lib\\site-packages (0.2.29)\n",
      "Requirement already satisfied: websockets in c:\\users\\sweet\\anaconda3\\lib\\site-packages (from pyupbit) (10.3)\n",
      "Requirement already satisfied: requests in c:\\users\\sweet\\anaconda3\\lib\\site-packages (from pyupbit) (2.26.0)\n",
      "Requirement already satisfied: pandas in c:\\users\\sweet\\anaconda3\\lib\\site-packages (from pyupbit) (1.3.4)\n",
      "Requirement already satisfied: pyjwt>=2.0.0 in c:\\users\\sweet\\anaconda3\\lib\\site-packages (from pyupbit) (2.1.0)\n",
      "Requirement already satisfied: pytz>=2017.3 in c:\\users\\sweet\\anaconda3\\lib\\site-packages (from pandas->pyupbit) (2021.3)\n",
      "Requirement already satisfied: python-dateutil>=2.7.3 in c:\\users\\sweet\\anaconda3\\lib\\site-packages (from pandas->pyupbit) (2.8.2)\n",
      "Requirement already satisfied: numpy>=1.17.3 in c:\\users\\sweet\\anaconda3\\lib\\site-packages (from pandas->pyupbit) (1.20.3)\n",
      "Requirement already satisfied: six>=1.5 in c:\\users\\sweet\\anaconda3\\lib\\site-packages (from python-dateutil>=2.7.3->pandas->pyupbit) (1.16.0)\n",
      "Requirement already satisfied: charset-normalizer~=2.0.0 in c:\\users\\sweet\\anaconda3\\lib\\site-packages (from requests->pyupbit) (2.0.4)\n",
      "Requirement already satisfied: idna<4,>=2.5 in c:\\users\\sweet\\anaconda3\\lib\\site-packages (from requests->pyupbit) (3.2)\n",
      "Requirement already satisfied: certifi>=2017.4.17 in c:\\users\\sweet\\anaconda3\\lib\\site-packages (from requests->pyupbit) (2021.10.8)\n",
      "Requirement already satisfied: urllib3<1.27,>=1.21.1 in c:\\users\\sweet\\anaconda3\\lib\\site-packages (from requests->pyupbit) (1.26.7)\n",
      "Requirement already satisfied: mpl_finance in c:\\users\\sweet\\anaconda3\\lib\\site-packages (0.10.1)\n",
      "Requirement already satisfied: matplotlib in c:\\users\\sweet\\anaconda3\\lib\\site-packages (from mpl_finance) (3.4.3)\n",
      "Requirement already satisfied: numpy>=1.16 in c:\\users\\sweet\\anaconda3\\lib\\site-packages (from matplotlib->mpl_finance) (1.20.3)\n",
      "Requirement already satisfied: pyparsing>=2.2.1 in c:\\users\\sweet\\anaconda3\\lib\\site-packages (from matplotlib->mpl_finance) (3.0.4)\n",
      "Requirement already satisfied: cycler>=0.10 in c:\\users\\sweet\\anaconda3\\lib\\site-packages (from matplotlib->mpl_finance) (0.10.0)\n",
      "Requirement already satisfied: kiwisolver>=1.0.1 in c:\\users\\sweet\\anaconda3\\lib\\site-packages (from matplotlib->mpl_finance) (1.3.1)\n",
      "Requirement already satisfied: pillow>=6.2.0 in c:\\users\\sweet\\anaconda3\\lib\\site-packages (from matplotlib->mpl_finance) (8.4.0)\n",
      "Requirement already satisfied: python-dateutil>=2.7 in c:\\users\\sweet\\anaconda3\\lib\\site-packages (from matplotlib->mpl_finance) (2.8.2)\n",
      "Requirement already satisfied: six in c:\\users\\sweet\\anaconda3\\lib\\site-packages (from cycler>=0.10->matplotlib->mpl_finance) (1.16.0)\n"
     ]
    }
   ],
   "source": [
    "!pip install pyupbit\n",
    "! pip install mpl_finance\n",
    "import pyupbit\n",
    "import numpy as np\n",
    "import matplotlib.pyplot as plt\n",
    "import time\n",
    "import mpl_finance"
   ]
  },
  {
   "cell_type": "code",
   "execution_count": 131,
   "id": "7917b37a",
   "metadata": {
    "scrolled": true
   },
   "outputs": [
    {
     "data": {
      "text/html": [
       "<div>\n",
       "<style scoped>\n",
       "    .dataframe tbody tr th:only-of-type {\n",
       "        vertical-align: middle;\n",
       "    }\n",
       "\n",
       "    .dataframe tbody tr th {\n",
       "        vertical-align: top;\n",
       "    }\n",
       "\n",
       "    .dataframe thead th {\n",
       "        text-align: right;\n",
       "    }\n",
       "</style>\n",
       "<table border=\"1\" class=\"dataframe\">\n",
       "  <thead>\n",
       "    <tr style=\"text-align: right;\">\n",
       "      <th></th>\n",
       "      <th>open</th>\n",
       "      <th>high</th>\n",
       "      <th>low</th>\n",
       "      <th>close</th>\n",
       "      <th>volume</th>\n",
       "      <th>value</th>\n",
       "    </tr>\n",
       "  </thead>\n",
       "  <tbody>\n",
       "    <tr>\n",
       "      <th>2022-03-23 21:00:00</th>\n",
       "      <td>51425000.0</td>\n",
       "      <td>51988000.0</td>\n",
       "      <td>51268000.0</td>\n",
       "      <td>51865000.0</td>\n",
       "      <td>1171.324756</td>\n",
       "      <td>6.047619e+10</td>\n",
       "    </tr>\n",
       "    <tr>\n",
       "      <th>2022-03-24 01:00:00</th>\n",
       "      <td>51858000.0</td>\n",
       "      <td>51998000.0</td>\n",
       "      <td>51354000.0</td>\n",
       "      <td>51539000.0</td>\n",
       "      <td>441.956334</td>\n",
       "      <td>2.283363e+10</td>\n",
       "    </tr>\n",
       "    <tr>\n",
       "      <th>2022-03-24 05:00:00</th>\n",
       "      <td>51539000.0</td>\n",
       "      <td>52232000.0</td>\n",
       "      <td>51500000.0</td>\n",
       "      <td>52138000.0</td>\n",
       "      <td>594.896208</td>\n",
       "      <td>3.084105e+10</td>\n",
       "    </tr>\n",
       "    <tr>\n",
       "      <th>2022-03-24 09:00:00</th>\n",
       "      <td>52138000.0</td>\n",
       "      <td>52511000.0</td>\n",
       "      <td>51800000.0</td>\n",
       "      <td>52013000.0</td>\n",
       "      <td>1771.530262</td>\n",
       "      <td>9.238201e+10</td>\n",
       "    </tr>\n",
       "    <tr>\n",
       "      <th>2022-03-24 13:00:00</th>\n",
       "      <td>52010000.0</td>\n",
       "      <td>52627000.0</td>\n",
       "      <td>52000000.0</td>\n",
       "      <td>52393000.0</td>\n",
       "      <td>1250.068825</td>\n",
       "      <td>6.537671e+10</td>\n",
       "    </tr>\n",
       "    <tr>\n",
       "      <th>...</th>\n",
       "      <td>...</td>\n",
       "      <td>...</td>\n",
       "      <td>...</td>\n",
       "      <td>...</td>\n",
       "      <td>...</td>\n",
       "      <td>...</td>\n",
       "    </tr>\n",
       "    <tr>\n",
       "      <th>2022-05-12 01:00:00</th>\n",
       "      <td>41720000.0</td>\n",
       "      <td>41874000.0</td>\n",
       "      <td>40379000.0</td>\n",
       "      <td>40383000.0</td>\n",
       "      <td>2859.366893</td>\n",
       "      <td>1.173701e+11</td>\n",
       "    </tr>\n",
       "    <tr>\n",
       "      <th>2022-05-12 05:00:00</th>\n",
       "      <td>40383000.0</td>\n",
       "      <td>40642000.0</td>\n",
       "      <td>39088000.0</td>\n",
       "      <td>40290000.0</td>\n",
       "      <td>3475.102918</td>\n",
       "      <td>1.384524e+11</td>\n",
       "    </tr>\n",
       "    <tr>\n",
       "      <th>2022-05-12 09:00:00</th>\n",
       "      <td>40263000.0</td>\n",
       "      <td>41178000.0</td>\n",
       "      <td>39000000.0</td>\n",
       "      <td>39095000.0</td>\n",
       "      <td>4660.773771</td>\n",
       "      <td>1.867482e+11</td>\n",
       "    </tr>\n",
       "    <tr>\n",
       "      <th>2022-05-12 13:00:00</th>\n",
       "      <td>39095000.0</td>\n",
       "      <td>39120000.0</td>\n",
       "      <td>37000000.0</td>\n",
       "      <td>38690000.0</td>\n",
       "      <td>6158.000045</td>\n",
       "      <td>2.347481e+11</td>\n",
       "    </tr>\n",
       "    <tr>\n",
       "      <th>2022-05-12 17:00:00</th>\n",
       "      <td>38669000.0</td>\n",
       "      <td>38800000.0</td>\n",
       "      <td>38495000.0</td>\n",
       "      <td>38743000.0</td>\n",
       "      <td>99.504665</td>\n",
       "      <td>3.846890e+09</td>\n",
       "    </tr>\n",
       "  </tbody>\n",
       "</table>\n",
       "<p>300 rows × 6 columns</p>\n",
       "</div>"
      ],
      "text/plain": [
       "                           open        high         low       close  \\\n",
       "2022-03-23 21:00:00  51425000.0  51988000.0  51268000.0  51865000.0   \n",
       "2022-03-24 01:00:00  51858000.0  51998000.0  51354000.0  51539000.0   \n",
       "2022-03-24 05:00:00  51539000.0  52232000.0  51500000.0  52138000.0   \n",
       "2022-03-24 09:00:00  52138000.0  52511000.0  51800000.0  52013000.0   \n",
       "2022-03-24 13:00:00  52010000.0  52627000.0  52000000.0  52393000.0   \n",
       "...                         ...         ...         ...         ...   \n",
       "2022-05-12 01:00:00  41720000.0  41874000.0  40379000.0  40383000.0   \n",
       "2022-05-12 05:00:00  40383000.0  40642000.0  39088000.0  40290000.0   \n",
       "2022-05-12 09:00:00  40263000.0  41178000.0  39000000.0  39095000.0   \n",
       "2022-05-12 13:00:00  39095000.0  39120000.0  37000000.0  38690000.0   \n",
       "2022-05-12 17:00:00  38669000.0  38800000.0  38495000.0  38743000.0   \n",
       "\n",
       "                          volume         value  \n",
       "2022-03-23 21:00:00  1171.324756  6.047619e+10  \n",
       "2022-03-24 01:00:00   441.956334  2.283363e+10  \n",
       "2022-03-24 05:00:00   594.896208  3.084105e+10  \n",
       "2022-03-24 09:00:00  1771.530262  9.238201e+10  \n",
       "2022-03-24 13:00:00  1250.068825  6.537671e+10  \n",
       "...                          ...           ...  \n",
       "2022-05-12 01:00:00  2859.366893  1.173701e+11  \n",
       "2022-05-12 05:00:00  3475.102918  1.384524e+11  \n",
       "2022-05-12 09:00:00  4660.773771  1.867482e+11  \n",
       "2022-05-12 13:00:00  6158.000045  2.347481e+11  \n",
       "2022-05-12 17:00:00    99.504665  3.846890e+09  \n",
       "\n",
       "[300 rows x 6 columns]"
      ]
     },
     "execution_count": 131,
     "metadata": {},
     "output_type": "execute_result"
    }
   ],
   "source": [
    "upbit_df = pyupbit.get_ohlcv(\"KRW-BTC\", interval=\"minute240\", count=300)     # 4시간봉 데이터\n",
    "upbit_df\n",
    "## 시가(open), 고가(high), 저가(low), 종가(close), 거래량(volume)\n",
    "\n",
    "### 큰 데이터셋에서 인덱싱해서 그림 그리기 vs 작은 데이터셋을 계속 불러와서 그림 그리기\n",
    "### 큰 데이터셋에서 인덱싱해서 그림 그리는게 나을듯?? \n",
    "# 4시간봉을 하루에 6개, 일주일에 42개봉, 50일에 300개봉"
   ]
  },
  {
   "cell_type": "markdown",
   "id": "8ecacd81",
   "metadata": {},
   "source": [
    "### 양/음봉 나누고 x축 날짜가 아닌 정수 나오게 하는 경우\n",
    "#### 50일을 한페이지에 볼 경우 202개 이미지 데이터밖에 나오지 않음 (총 4시간봉 데이터는 10132개)\n",
    "#### 4시간 봉 30일치를 한 페이지에 보겠다=337개 이미지 데이터\n",
    "#### 일주일치를 볼 경우, 1447개 데이터"
   ]
  },
  {
   "cell_type": "code",
   "execution_count": 132,
   "id": "c396a12d",
   "metadata": {
    "scrolled": false
   },
   "outputs": [
    {
     "name": "stdout",
     "output_type": "stream",
     "text": [
      "time : 0.0981299877166748\n"
     ]
    },
    {
     "data": {
      "image/png": "[encoded data removed]",
      "text/plain": [
       "<Figure size 864x576 with 1 Axes>"
      ]
     },
     "metadata": {
      "needs_background": "light"
     },
     "output_type": "display_data"
    }
   ],
   "source": [
    "start = time.time()  # 시작 시간 저장\n",
    "\n",
    "fig = plt.figure(figsize=(12, 8))\n",
    "ax = fig.add_subplot(111)\n",
    "mpl_finance.candlestick2_ohlc(ax, upbit_df['open'], upbit_df['high'], upbit_df['low'], upbit_df['close'],\n",
    "                              width=0.5, colorup='r', colordown='b')\n",
    "plt.savefig(\"C:/Users/Sweet/Desktop/2022 컨퍼/upbit_image1.png\")\n",
    "print(\"time :\", time.time() - start)  # 현재시각 - 시작시간 = 실행 시간"
   ]
  },
  {
   "cell_type": "markdown",
   "id": "68ab5426",
   "metadata": {},
   "source": [
    "## 한달치 데이터 이미지에 나타내기"
   ]
  },
  {
   "cell_type": "code",
   "execution_count": 133,
   "id": "e77ccdc6",
   "metadata": {},
   "outputs": [
    {
     "name": "stdout",
     "output_type": "stream",
     "text": [
      "time : 0.09563851356506348\n"
     ]
    },
    {
     "data": {
      "image/png": "[encoded data removed]",
      "text/plain": [
       "<Figure size 864x576 with 1 Axes>"
      ]
     },
     "metadata": {
      "needs_background": "light"
     },
     "output_type": "display_data"
    }
   ],
   "source": [
    "start = time.time()  # 시작 시간 저장\n",
    "\n",
    "fig = plt.figure(figsize=(12, 8))\n",
    "ax = fig.add_subplot(111)\n",
    "mpl_finance.candlestick2_ohlc(ax, upbit_df.iloc[:180,0], upbit_df.iloc[:180,1], upbit_df.iloc[:180,2], upbit_df.iloc[:180,3],\n",
    "                              width=0.5, colorup='r', colordown='b')\n",
    "plt.savefig(\"C:/Users/Sweet/Desktop/2022 컨퍼/upbit_image1.png\")\n",
    "print(\"time :\", time.time() - start)  # 현재시각 - 시작시간 = 실행 시간"
   ]
  },
  {
   "cell_type": "markdown",
   "id": "40afc0e3",
   "metadata": {},
   "source": [
    "## 보름치 데이터 이미지에 나타내기"
   ]
  },
  {
   "cell_type": "code",
   "execution_count": 135,
   "id": "8ed63f0a",
   "metadata": {},
   "outputs": [
    {
     "name": "stdout",
     "output_type": "stream",
     "text": [
      "time : 0.10146760940551758\n"
     ]
    },
    {
     "data": {
      "image/png": "[encoded data removed]",
      "text/plain": [
       "<Figure size 864x576 with 1 Axes>"
      ]
     },
     "metadata": {
      "needs_background": "light"
     },
     "output_type": "display_data"
    }
   ],
   "source": [
    "start = time.time()  # 시작 시간 저장\n",
    "\n",
    "fig = plt.figure(figsize=(12, 8))\n",
    "ax = fig.add_subplot(111)\n",
    "mpl_finance.candlestick2_ohlc(ax, upbit_df.iloc[:90,0], upbit_df.iloc[:90,1], upbit_df.iloc[:90,2], upbit_df.iloc[:90,3],\n",
    "                              width=0.5, colorup='r', colordown='b')\n",
    "plt.savefig(\"C:/Users/Sweet/Desktop/2022 컨퍼/upbit_image1.png\")\n",
    "print(\"time :\", time.time() - start)  # 현재시각 - 시작시간 = 실행 시간"
   ]
  },
  {
   "cell_type": "markdown",
   "id": "17c53c47",
   "metadata": {},
   "source": [
    "## 일주일치 데이터 이미지에 나타내기"
   ]
  },
  {
   "cell_type": "code",
   "execution_count": 134,
   "id": "33ee3dd1",
   "metadata": {},
   "outputs": [
    {
     "name": "stdout",
     "output_type": "stream",
     "text": [
      "time : 0.08678245544433594\n"
     ]
    },
    {
     "data": {
      "image/png": "[encoded data removed]",
      "text/plain": [
       "<Figure size 864x576 with 1 Axes>"
      ]
     },
     "metadata": {
      "needs_background": "light"
     },
     "output_type": "display_data"
    }
   ],
   "source": [
    "start = time.time()  # 시작 시간 저장\n",
    "\n",
    "fig = plt.figure(figsize=(12, 8))\n",
    "ax = fig.add_subplot(111)\n",
    "mpl_finance.candlestick2_ohlc(ax, upbit_df.iloc[:42,0], upbit_df.iloc[:42,1], upbit_df.iloc[:42,2], upbit_df.iloc[:42,3],\n",
    "                              width=0.5, colorup='r', colordown='b')\n",
    "plt.savefig(\"C:/Users/Sweet/Desktop/2022 컨퍼/upbit_image1.png\")\n",
    "print(\"time :\", time.time() - start)  # 현재시각 - 시작시간 = 실행 시간"
   ]
  },
  {
   "cell_type": "markdown",
   "id": "31bcdefe",
   "metadata": {},
   "source": [
    "## 양음봉 색 지정 없이 데이터 저장"
   ]
  },
  {
   "cell_type": "code",
   "execution_count": 119,
   "id": "4160f642",
   "metadata": {
    "scrolled": false
   },
   "outputs": [
    {
     "name": "stdout",
     "output_type": "stream",
     "text": [
      "time : 0.09400057792663574\n"
     ]
    },
    {
     "data": {
      "image/png": "[encoded data removed]",
      "text/plain": [
       "<Figure size 864x576 with 1 Axes>"
      ]
     },
     "metadata": {
      "needs_background": "light"
     },
     "output_type": "display_data"
    }
   ],
   "source": [
    "start = time.time()  # 시작 시간 저장\n",
    "\n",
    "fig = plt.figure(figsize=(12, 8))\n",
    "ax = fig.add_subplot(111)\n",
    "mpl_finance.candlestick2_ohlc(ax, upbit_df['open'], upbit_df['high'], upbit_df['low'], upbit_df['close'],\n",
    "                              width=0.5)\n",
    "plt.savefig(\"C:/Users/Sweet/Desktop/2022 컨퍼/upbit_image1.png\")\n",
    "print(\"time :\", time.time() - start)  # 현재시각 - 시작시간 = 실행 시간"
   ]
  },
  {
   "cell_type": "code",
   "execution_count": 122,
   "id": "ba1d1da2",
   "metadata": {},
   "outputs": [
    {
     "data": {
      "text/plain": [
       "27.0"
      ]
     },
     "execution_count": 122,
     "metadata": {},
     "output_type": "execute_result"
    }
   ],
   "source": [
    "# 후자의 경우 , 300개 데이터 구축해서 저장하는 데 약 27초밖에 안걸림\n",
    "(0.09*300)"
   ]
  },
  {
   "cell_type": "markdown",
   "id": "45357506",
   "metadata": {},
   "source": [
    "- 토의해봐야 할 부분\n",
    "1. 4시간봉 데이터가 10132개밖에 없다. 처음 시작이 2017년 9월달부터임\n",
    "2. 분봉 등과 함께 학습을 진행해야 할 것 같은데 하나의 이미지 안에 몇일치를 보일 것인가?\n",
    "3. 4시간봉으로 학습할 경우, 알림이 가는 데까지 최소한 4시간을 기다려야 의미있는 알림이 가는 것 아닌지? 그러면 해당 웹서빙이 의미가 있나? 앱도 아닌데 사용할 사람이 있을까..? 적어도 사람들이 컨퍼 이후에 웹으로 들어가서 오 이렇게 했구나 정도는 알아야 되는 것 아닌지?"
   ]
  }
 ],
 "metadata": {
  "kernelspec": {
   "display_name": "Python 3 (ipykernel)",
   "language": "python",
   "name": "python3"
  },
  "language_info": {
   "codemirror_mode": {
    "name": "ipython",
    "version": 3
   },
   "file_extension": ".py",
   "mimetype": "text/x-python",
   "name": "python",
   "nbconvert_exporter": "python",
   "pygments_lexer": "ipython3",
   "version": "3.9.7"
  }
 },
 "nbformat": 4,
 "nbformat_minor": 5
}
