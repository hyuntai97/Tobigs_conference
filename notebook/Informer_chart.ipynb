{
 "cells": [
  {
   "cell_type": "code",
   "execution_count": 1,
   "metadata": {},
   "outputs": [],
   "source": [
    "import sys \n",
    "sys.path.append('../') # 작업디렉터리 "
   ]
  },
  {
   "cell_type": "code",
   "execution_count": 2,
   "metadata": {},
   "outputs": [],
   "source": [
    "import pandas as pd\n",
    "import numpy as np\n",
    "import matplotlib.pyplot as plt\n",
    "from sklearn.preprocessing import MinMaxScaler\n",
    "\n",
    "import matplotlib.pyplot as plt \n",
    "\n",
    "from datetime import timedelta\n",
    "import torch\n",
    "from torch import nn\n",
    "from torch import optim\n",
    "from torch.utils.data import DataLoader, Dataset\n",
    "\n",
    "from tqdm import tqdm\n",
    "\n",
    "# model을 import\n",
    "from models.model import Informer"
   ]
  },
  {
   "cell_type": "markdown",
   "metadata": {},
   "source": [
    "## Util function "
   ]
  },
  {
   "cell_type": "code",
   "execution_count": 12,
   "metadata": {},
   "outputs": [],
   "source": [
    "# standard scler 구현\n",
    "class StandardScaler():\n",
    "    def __init__(self):\n",
    "        self.mean = 0.\n",
    "        self.std = 1.\n",
    "    \n",
    "    def fit(self, data):\n",
    "        self.mean = data.mean(0)\n",
    "        self.std = data.std(0)\n",
    "\n",
    "    def transform(self, data):\n",
    "        mean = torch.from_numpy(self.mean).type_as(data).to(data.device) if torch.is_tensor(data) else self.mean\n",
    "        std = torch.from_numpy(self.std).type_as(data).to(data.device) if torch.is_tensor(data) else self.std\n",
    "        return (data - mean) / std\n",
    "\n",
    "    def inverse_transform(self, data):\n",
    "        mean = torch.from_numpy(self.mean).type_as(data).to(data.device) if torch.is_tensor(data) else self.mean\n",
    "        std = torch.from_numpy(self.std).type_as(data).to(data.device) if torch.is_tensor(data) else self.std\n",
    "        return (data * std) + mean\n",
    "        \n",
    "# 시간 특징을 freq에 따라 추출\n",
    "def time_features(dates, freq='h'):\n",
    "    dates['month'] = dates.date.apply(lambda row:row.month,1)\n",
    "    dates['day'] = dates.date.apply(lambda row:row.day,1)\n",
    "    dates['weekday'] = dates.date.apply(lambda row:row.weekday(),1)\n",
    "    dates['hour'] = dates.date.apply(lambda row:row.hour,1)\n",
    "    dates['minute'] = dates.date.apply(lambda row:row.minute,1)\n",
    "    dates['minute'] = dates.minute.map(lambda x:x//15)\n",
    "    freq_map = {\n",
    "        'y':[],'m':['month'],'w':['month'],'d':['month','day','weekday'],\n",
    "        'b':['month','day','weekday'],'h':['month','day','weekday','hour'],\n",
    "        't':['month','day','weekday','hour','minute'],\n",
    "    }\n",
    "    return dates[freq_map[freq.lower()]].values\n",
    "\n",
    "# 한번의 batch를 실행하는 코드\n",
    "def _process_one_batch(batch_x, batch_y, batch_x_mark, batch_y_mark):\n",
    "    batch_x = batch_x.float().to(device)\n",
    "    batch_y = batch_y.float()\n",
    "    batch_x_mark = batch_x_mark.float().to(device)\n",
    "    batch_y_mark = batch_y_mark.float().to(device)\n",
    "    dec_inp = torch.zeros([batch_y.shape[0], pred_len, batch_y.shape[-1]]).float()\n",
    "    dec_inp = torch.cat([batch_y[:,:label_len,:], dec_inp], dim=1).float().to(device)\n",
    "    outputs = model(batch_x, batch_x_mark, dec_inp, batch_y_mark)\n",
    "    batch_y = batch_y[:,-pred_len:,0:].to(device)\n",
    "    return outputs, batch_y"
   ]
  },
  {
   "cell_type": "markdown",
   "metadata": {},
   "source": [
    "## Dataset "
   ]
  },
  {
   "cell_type": "code",
   "execution_count": 51,
   "metadata": {},
   "outputs": [],
   "source": [
    "class Dataset_Pred(Dataset):\n",
    "    def __init__(self, dataframe, size=None, scale=True):\n",
    "        self.seq_len = size[0]\n",
    "        self.label_len = size[1]\n",
    "        self.pred_len = size[2]\n",
    "        self.dataframe = dataframe\n",
    "        \n",
    "        self.scale = scale\n",
    "        self.__read_data__()\n",
    "\n",
    "    def __read_data__(self):\n",
    "        self.scaler = StandardScaler()\n",
    "        df_raw = self.dataframe\n",
    "        df_raw[\"date\"] = pd.to_datetime(df_raw[\"date\"])\n",
    "\n",
    "        delta = df_raw[\"date\"].iloc[1] - df_raw[\"date\"].iloc[0]\n",
    "        if delta>=timedelta(hours=1):\n",
    "            self.freq='h'\n",
    "        else:\n",
    "            self.freq='t'\n",
    "\n",
    "        border1 = 0\n",
    "        border2 = len(df_raw)\n",
    "        cols_data = df_raw.columns[1:]\n",
    "        df_data = df_raw[cols_data]\n",
    "\n",
    "\n",
    "        if self.scale:\n",
    "            self.scaler.fit(df_data.values)\n",
    "            data = self.scaler.transform(df_data.values)\n",
    "        else:\n",
    "            data = df_data.values\n",
    "            \n",
    "        tmp_stamp = df_raw[['date']][border1:border2]\n",
    "        tmp_stamp['date'] = pd.to_datetime(tmp_stamp.date)\n",
    "        pred_dates = pd.date_range(tmp_stamp.date.values[-1], periods=self.pred_len+1, freq='d')\n",
    "        \n",
    "        df_stamp = pd.DataFrame(columns = ['date'])\n",
    "        df_stamp.date = list(tmp_stamp.date.values) + list(pred_dates[1:])\n",
    "        data_stamp = time_features(df_stamp, freq=self.freq)\n",
    "\n",
    "        self.data_x = data[border1:border2]\n",
    "        self.data_y = data[border1:border2]\n",
    "        self.data_stamp = data_stamp\n",
    "    \n",
    "    def __getitem__(self, index):\n",
    "        s_begin = index\n",
    "        s_end = s_begin + self.seq_len\n",
    "        r_begin = s_end - self.label_len\n",
    "        r_end = r_begin + self.label_len + self.pred_len\n",
    "\n",
    "        seq_x = self.data_x[s_begin:s_end]\n",
    "        seq_y = self.data_y[r_begin:r_end]\n",
    "        seq_x_mark = self.data_stamp[s_begin:s_end]\n",
    "        seq_y_mark = self.data_stamp[r_begin:r_end]\n",
    "        return seq_x, seq_y, seq_x_mark, seq_y_mark\n",
    "\n",
    "    def __len__(self):\n",
    "        return len(self.data_x) - self.seq_len- self.pred_len + 1"
   ]
  },
  {
   "cell_type": "code",
   "execution_count": 22,
   "metadata": {},
   "outputs": [],
   "source": [
    "pred_len = 24\n",
    "\n",
    "scaler = StandardScaler()\n",
    "df_raw = data_tr.copy()\n",
    "df_raw[\"date\"] = pd.to_datetime(df_raw[\"date\"])\n",
    "\n",
    "delta = df_raw[\"date\"].iloc[1] - df_raw[\"date\"].iloc[0]\n",
    "if delta>=timedelta(hours=1):\n",
    "    freq='h'\n",
    "else:\n",
    "    freq='t'\n",
    "\n",
    "border1 = 0\n",
    "border2 = len(df_raw)\n",
    "cols_data = df_raw.columns[1:]\n",
    "df_data = df_raw[cols_data]\n",
    "\n",
    "\n",
    "scaler.fit(df_data.values)\n",
    "data = scaler.transform(df_data.values)\n",
    "\n",
    "    \n",
    "tmp_stamp = df_raw[['date']][border1:border2]\n",
    "tmp_stamp['date'] = pd.to_datetime(tmp_stamp.date)\n",
    "pred_dates = pd.date_range(tmp_stamp.date.values[-1], periods=pred_len+1, freq='d')\n",
    "\n",
    "df_stamp = pd.DataFrame(columns = ['date'])\n",
    "df_stamp.date = list(tmp_stamp.date.values) + list(pred_dates[1:])\n",
    "data_stamp = time_features(df_stamp, freq=freq)\n",
    "\n",
    "data_x = data[border1:border2]\n",
    "data_y = data[border1:border2]\n",
    "data_stamp = data_stamp"
   ]
  },
  {
   "cell_type": "code",
   "execution_count": null,
   "metadata": {},
   "outputs": [],
   "source": []
  },
  {
   "cell_type": "code",
   "execution_count": 23,
   "metadata": {},
   "outputs": [
    {
     "data": {
      "text/plain": [
       "(1360, 1)"
      ]
     },
     "execution_count": 23,
     "metadata": {},
     "output_type": "execute_result"
    }
   ],
   "source": [
    "data_x.shape"
   ]
  },
  {
   "cell_type": "code",
   "execution_count": 24,
   "metadata": {},
   "outputs": [
    {
     "data": {
      "text/plain": [
       "(1360, 1)"
      ]
     },
     "execution_count": 24,
     "metadata": {},
     "output_type": "execute_result"
    }
   ],
   "source": [
    "data_y.shape"
   ]
  },
  {
   "cell_type": "code",
   "execution_count": 25,
   "metadata": {},
   "outputs": [
    {
     "data": {
      "text/plain": [
       "(1384, 4)"
      ]
     },
     "execution_count": 25,
     "metadata": {},
     "output_type": "execute_result"
    }
   ],
   "source": [
    "data_stamp.shape"
   ]
  },
  {
   "cell_type": "code",
   "execution_count": 26,
   "metadata": {},
   "outputs": [
    {
     "data": {
      "text/plain": [
       "1360"
      ]
     },
     "execution_count": 26,
     "metadata": {},
     "output_type": "execute_result"
    }
   ],
   "source": [
    "(data_x == data_y).sum()"
   ]
  },
  {
   "cell_type": "code",
   "execution_count": 27,
   "metadata": {},
   "outputs": [
    {
     "data": {
      "text/plain": [
       "array([[ 9, 29,  4,  0],\n",
       "       [ 9, 30,  5,  0],\n",
       "       [10,  1,  6,  0],\n",
       "       ...,\n",
       "       [ 7, 11,  6,  0],\n",
       "       [ 7, 12,  0,  0],\n",
       "       [ 7, 13,  1,  0]], dtype=int64)"
      ]
     },
     "execution_count": 27,
     "metadata": {},
     "output_type": "execute_result"
    }
   ],
   "source": [
    "data_stamp"
   ]
  },
  {
   "cell_type": "code",
   "execution_count": 30,
   "metadata": {},
   "outputs": [],
   "source": [
    "index = 0\n",
    "seq_len = 96\n",
    "label_len = 48\n",
    "pred_len = 24\n",
    "\n",
    "s_begin = index\n",
    "s_end = s_begin + seq_len\n",
    "r_begin = s_end - label_len\n",
    "r_end = r_begin + label_len + pred_len\n",
    "\n",
    "seq_x = data_x[s_begin:s_end]\n",
    "seq_y = data_y[r_begin:r_end]\n",
    "seq_x_mark = data_stamp[s_begin:s_end]\n",
    "seq_y_mark = data_stamp[r_begin:r_end]\n",
    "# seq_x, seq_y, seq_x_mark, seq_y_mark"
   ]
  },
  {
   "cell_type": "code",
   "execution_count": 31,
   "metadata": {},
   "outputs": [
    {
     "data": {
      "text/plain": [
       "(96, 1)"
      ]
     },
     "execution_count": 31,
     "metadata": {},
     "output_type": "execute_result"
    }
   ],
   "source": [
    "seq_x.shape"
   ]
  },
  {
   "cell_type": "code",
   "execution_count": 32,
   "metadata": {},
   "outputs": [
    {
     "data": {
      "text/plain": [
       "(72, 1)"
      ]
     },
     "execution_count": 32,
     "metadata": {},
     "output_type": "execute_result"
    }
   ],
   "source": [
    "seq_y.shape"
   ]
  },
  {
   "cell_type": "code",
   "execution_count": 33,
   "metadata": {},
   "outputs": [
    {
     "data": {
      "text/plain": [
       "(96, 4)"
      ]
     },
     "execution_count": 33,
     "metadata": {},
     "output_type": "execute_result"
    }
   ],
   "source": [
    "seq_x_mark.shape"
   ]
  },
  {
   "cell_type": "code",
   "execution_count": 34,
   "metadata": {},
   "outputs": [
    {
     "data": {
      "text/plain": [
       "(72, 4)"
      ]
     },
     "execution_count": 34,
     "metadata": {},
     "output_type": "execute_result"
    }
   ],
   "source": [
    "seq_y_mark.shape"
   ]
  },
  {
   "cell_type": "markdown",
   "metadata": {},
   "source": [
    "## Load Data"
   ]
  },
  {
   "cell_type": "code",
   "execution_count": 38,
   "metadata": {},
   "outputs": [
    {
     "data": {
      "image/png": "[encoded data removed]",
      "text/plain": [
       "<Figure size 1440x360 with 1 Axes>"
      ]
     },
     "metadata": {
      "needs_background": "light"
     },
     "output_type": "display_data"
    },
    {
     "data": {
      "text/html": [
       "<div>\n",
       "<style scoped>\n",
       "    .dataframe tbody tr th:only-of-type {\n",
       "        vertical-align: middle;\n",
       "    }\n",
       "\n",
       "    .dataframe tbody tr th {\n",
       "        vertical-align: top;\n",
       "    }\n",
       "\n",
       "    .dataframe thead th {\n",
       "        text-align: right;\n",
       "    }\n",
       "</style>\n",
       "<table border=\"1\" class=\"dataframe\">\n",
       "  <thead>\n",
       "    <tr style=\"text-align: right;\">\n",
       "      <th></th>\n",
       "      <th>index</th>\n",
       "      <th>open</th>\n",
       "      <th>high</th>\n",
       "      <th>low</th>\n",
       "      <th>close</th>\n",
       "      <th>volume</th>\n",
       "      <th>value</th>\n",
       "    </tr>\n",
       "  </thead>\n",
       "  <tbody>\n",
       "    <tr>\n",
       "      <th>0</th>\n",
       "      <td>2017-09-29 09:00:00+09:00</td>\n",
       "      <td>4586000.0</td>\n",
       "      <td>4709000.0</td>\n",
       "      <td>4476000.0</td>\n",
       "      <td>4657000.0</td>\n",
       "      <td>59.352373</td>\n",
       "      <td>2.724558e+08</td>\n",
       "    </tr>\n",
       "    <tr>\n",
       "      <th>1</th>\n",
       "      <td>2017-09-30 09:00:00+09:00</td>\n",
       "      <td>4657000.0</td>\n",
       "      <td>4896000.0</td>\n",
       "      <td>4651000.0</td>\n",
       "      <td>4895000.0</td>\n",
       "      <td>19.998483</td>\n",
       "      <td>9.561476e+07</td>\n",
       "    </tr>\n",
       "    <tr>\n",
       "      <th>2</th>\n",
       "      <td>2017-10-01 09:00:00+09:00</td>\n",
       "      <td>4889000.0</td>\n",
       "      <td>4978000.0</td>\n",
       "      <td>4682000.0</td>\n",
       "      <td>4962000.0</td>\n",
       "      <td>27.323332</td>\n",
       "      <td>1.331325e+08</td>\n",
       "    </tr>\n",
       "    <tr>\n",
       "      <th>3</th>\n",
       "      <td>2017-10-02 09:00:00+09:00</td>\n",
       "      <td>4962000.0</td>\n",
       "      <td>5095000.0</td>\n",
       "      <td>4956000.0</td>\n",
       "      <td>5025000.0</td>\n",
       "      <td>31.728004</td>\n",
       "      <td>1.599315e+08</td>\n",
       "    </tr>\n",
       "    <tr>\n",
       "      <th>4</th>\n",
       "      <td>2017-10-03 09:00:00+09:00</td>\n",
       "      <td>5021000.0</td>\n",
       "      <td>5079000.0</td>\n",
       "      <td>4811000.0</td>\n",
       "      <td>4964000.0</td>\n",
       "      <td>11.899307</td>\n",
       "      <td>5.890130e+07</td>\n",
       "    </tr>\n",
       "  </tbody>\n",
       "</table>\n",
       "</div>"
      ],
      "text/plain": [
       "                      index       open       high        low      close  \\\n",
       "0 2017-09-29 09:00:00+09:00  4586000.0  4709000.0  4476000.0  4657000.0   \n",
       "1 2017-09-30 09:00:00+09:00  4657000.0  4896000.0  4651000.0  4895000.0   \n",
       "2 2017-10-01 09:00:00+09:00  4889000.0  4978000.0  4682000.0  4962000.0   \n",
       "3 2017-10-02 09:00:00+09:00  4962000.0  5095000.0  4956000.0  5025000.0   \n",
       "4 2017-10-03 09:00:00+09:00  5021000.0  5079000.0  4811000.0  4964000.0   \n",
       "\n",
       "      volume         value  \n",
       "0  59.352373  2.724558e+08  \n",
       "1  19.998483  9.561476e+07  \n",
       "2  27.323332  1.331325e+08  \n",
       "3  31.728004  1.599315e+08  \n",
       "4  11.899307  5.890130e+07  "
      ]
     },
     "execution_count": 38,
     "metadata": {},
     "output_type": "execute_result"
    }
   ],
   "source": [
    "data = pd.read_csv('../dataset/upbit_ohlcv_1700.csv', parse_dates=['index'])\n",
    "plt.figure(figsize=(20,5))\n",
    "plt.plot(data[\"open\"])\n",
    "plt.show()\n",
    "data.head()"
   ]
  },
  {
   "cell_type": "code",
   "execution_count": 39,
   "metadata": {},
   "outputs": [],
   "source": [
    "data = data[['index', 'open']]\n",
    "data.rename(columns={'index':'date'}, inplace=True)"
   ]
  },
  {
   "cell_type": "code",
   "execution_count": 40,
   "metadata": {},
   "outputs": [],
   "source": [
    "pred_len = 24#예측할 크기\n",
    "\n",
    "# train / test split\n",
    "train_periods = int(data.shape[0] * 0.8)\n",
    "\n",
    "data_tr = data.iloc[:train_periods, :]\n",
    "data_te = data.iloc[train_periods:, :]"
   ]
  },
  {
   "cell_type": "code",
   "execution_count": 41,
   "metadata": {},
   "outputs": [
    {
     "data": {
      "text/plain": [
       "(1360, 2)"
      ]
     },
     "execution_count": 41,
     "metadata": {},
     "output_type": "execute_result"
    }
   ],
   "source": [
    "data_tr.shape"
   ]
  },
  {
   "cell_type": "code",
   "execution_count": 42,
   "metadata": {},
   "outputs": [
    {
     "data": {
      "text/plain": [
       "(340, 2)"
      ]
     },
     "execution_count": 42,
     "metadata": {},
     "output_type": "execute_result"
    }
   ],
   "source": [
    "data_te.shape"
   ]
  },
  {
   "cell_type": "code",
   "execution_count": 52,
   "metadata": {},
   "outputs": [
    {
     "name": "stderr",
     "output_type": "stream",
     "text": [
      "C:\\Users\\82108\\AppData\\Local\\Temp\\ipykernel_5452\\2418081455.py:14: SettingWithCopyWarning: \n",
      "A value is trying to be set on a copy of a slice from a DataFrame.\n",
      "Try using .loc[row_indexer,col_indexer] = value instead\n",
      "\n",
      "See the caveats in the documentation: https://pandas.pydata.org/pandas-docs/stable/user_guide/indexing.html#returning-a-view-versus-a-copy\n",
      "  df_raw[\"date\"] = pd.to_datetime(df_raw[\"date\"])\n"
     ]
    }
   ],
   "source": [
    "seq_len = 96#인풋 크기\n",
    "label_len = 48#디코더에서 참고할 크기\n",
    "pred_len = 24#예측할 크기\n",
    "\n",
    "batch_size = 32\n",
    "shuffle_flag = True\n",
    "num_workers = 0\n",
    "drop_last = True\n",
    "\n",
    "dataset = Dataset_Pred(dataframe=data_tr ,scale=True, size = (seq_len, label_len,pred_len))\n",
    "data_loader = DataLoader(dataset,batch_size=batch_size,shuffle=shuffle_flag,num_workers=num_workers,drop_last=drop_last)"
   ]
  },
  {
   "cell_type": "code",
   "execution_count": 53,
   "metadata": {},
   "outputs": [
    {
     "name": "stdout",
     "output_type": "stream",
     "text": [
      "torch.Size([32, 96, 1])\n",
      "torch.Size([32, 72, 1])\n",
      "torch.Size([32, 96, 4])\n",
      "torch.Size([32, 72, 4])\n"
     ]
    }
   ],
   "source": [
    "seq_x, seq_y, seq_x_mark, seq_y_mark = next(iter(data_loader))\n",
    "\n",
    "print(seq_x.shape)\n",
    "print(seq_y.shape)\n",
    "print(seq_x_mark.shape)\n",
    "print(seq_y_mark.shape)"
   ]
  },
  {
   "cell_type": "code",
   "execution_count": 47,
   "metadata": {},
   "outputs": [
    {
     "data": {
      "text/plain": [
       "torch.Size([32, 24, 1])"
      ]
     },
     "execution_count": 47,
     "metadata": {},
     "output_type": "execute_result"
    }
   ],
   "source": [
    "dec_inp = torch.zeros([seq_y.shape[0], pred_len, seq_y.shape[-1]])\n",
    "dec_inp.shape"
   ]
  },
  {
   "cell_type": "code",
   "execution_count": 48,
   "metadata": {},
   "outputs": [
    {
     "data": {
      "text/plain": [
       "torch.Size([32, 48, 1])"
      ]
     },
     "execution_count": 48,
     "metadata": {},
     "output_type": "execute_result"
    }
   ],
   "source": [
    "seq_y[:, :label_len, :].shape"
   ]
  },
  {
   "cell_type": "code",
   "execution_count": 50,
   "metadata": {},
   "outputs": [
    {
     "data": {
      "text/plain": [
       "torch.Size([32, 72, 1])"
      ]
     },
     "execution_count": 50,
     "metadata": {},
     "output_type": "execute_result"
    }
   ],
   "source": [
    "torch.cat([seq_y[:, :label_len, :], dec_inp], dim=1).shape"
   ]
  },
  {
   "cell_type": "markdown",
   "metadata": {},
   "source": [
    "## Train"
   ]
  },
  {
   "cell_type": "code",
   "execution_count": 54,
   "metadata": {},
   "outputs": [],
   "source": [
    "enc_in = 1\n",
    "dec_in = 1\n",
    "c_out = 1\n",
    "device = torch.device(\"cuda\")\n",
    "\n",
    "model = Informer(enc_in, dec_in, c_out, seq_len, label_len, pred_len, freq='d', device = device).to(device)\n",
    "learning_rate = 1e-4\n",
    "criterion =  nn.MSELoss()\n",
    "\n",
    "model_optim = optim.Adam(model.parameters(), lr=learning_rate)"
   ]
  },
  {
   "cell_type": "code",
   "execution_count": 56,
   "metadata": {},
   "outputs": [
    {
     "name": "stderr",
     "output_type": "stream",
     "text": [
      "loss: 0.002832: 100%|██████████| 100/100 [50:24<00:00, 30.25s/it]\n"
     ]
    }
   ],
   "source": [
    "train_epochs = 100\n",
    "model.train()\n",
    "progress = tqdm(range(train_epochs))\n",
    "for epoch in progress:\n",
    "    train_loss = []\n",
    "    for i, (batch_x,batch_y,batch_x_mark,batch_y_mark) in enumerate(data_loader):\n",
    "        model_optim.zero_grad()\n",
    "        pred, true = _process_one_batch(batch_x, batch_y, batch_x_mark, batch_y_mark)\n",
    "        loss = criterion(pred, true)\n",
    "        train_loss.append(loss.item())\n",
    "        loss.backward()\n",
    "        model_optim.step()\n",
    "    train_loss = np.average(train_loss)\n",
    "    progress.set_description(\"loss: {:0.6f}\".format(train_loss))"
   ]
  },
  {
   "cell_type": "markdown",
   "metadata": {},
   "source": [
    "## Test"
   ]
  },
  {
   "cell_type": "code",
   "execution_count": 61,
   "metadata": {},
   "outputs": [
    {
     "data": {
      "text/plain": [
       "Informer(\n",
       "  (enc_embedding): DataEmbedding(\n",
       "    (value_embedding): TokenEmbedding(\n",
       "      (tokenConv): Conv1d(1, 512, kernel_size=(3,), stride=(1,), padding=(1,), padding_mode=circular)\n",
       "    )\n",
       "    (position_embedding): PositionalEmbedding()\n",
       "    (temporal_embedding): TemporalEmbedding(\n",
       "      (hour_embed): FixedEmbedding(\n",
       "        (emb): Embedding(24, 512)\n",
       "      )\n",
       "      (weekday_embed): FixedEmbedding(\n",
       "        (emb): Embedding(7, 512)\n",
       "      )\n",
       "      (day_embed): FixedEmbedding(\n",
       "        (emb): Embedding(32, 512)\n",
       "      )\n",
       "      (month_embed): FixedEmbedding(\n",
       "        (emb): Embedding(13, 512)\n",
       "      )\n",
       "    )\n",
       "    (dropout): Dropout(p=0.0, inplace=False)\n",
       "  )\n",
       "  (dec_embedding): DataEmbedding(\n",
       "    (value_embedding): TokenEmbedding(\n",
       "      (tokenConv): Conv1d(1, 512, kernel_size=(3,), stride=(1,), padding=(1,), padding_mode=circular)\n",
       "    )\n",
       "    (position_embedding): PositionalEmbedding()\n",
       "    (temporal_embedding): TemporalEmbedding(\n",
       "      (hour_embed): FixedEmbedding(\n",
       "        (emb): Embedding(24, 512)\n",
       "      )\n",
       "      (weekday_embed): FixedEmbedding(\n",
       "        (emb): Embedding(7, 512)\n",
       "      )\n",
       "      (day_embed): FixedEmbedding(\n",
       "        (emb): Embedding(32, 512)\n",
       "      )\n",
       "      (month_embed): FixedEmbedding(\n",
       "        (emb): Embedding(13, 512)\n",
       "      )\n",
       "    )\n",
       "    (dropout): Dropout(p=0.0, inplace=False)\n",
       "  )\n",
       "  (encoder): Encoder(\n",
       "    (attn_layers): ModuleList(\n",
       "      (0): EncoderLayer(\n",
       "        (attention): AttentionLayer(\n",
       "          (inner_attention): ProbAttention(\n",
       "            (dropout): Dropout(p=0.0, inplace=False)\n",
       "          )\n",
       "          (query_projection): Linear(in_features=512, out_features=512, bias=True)\n",
       "          (key_projection): Linear(in_features=512, out_features=512, bias=True)\n",
       "          (value_projection): Linear(in_features=512, out_features=512, bias=True)\n",
       "          (out_projection): Linear(in_features=512, out_features=512, bias=True)\n",
       "        )\n",
       "        (conv1): Conv1d(512, 512, kernel_size=(1,), stride=(1,))\n",
       "        (conv2): Conv1d(512, 512, kernel_size=(1,), stride=(1,))\n",
       "        (norm1): LayerNorm((512,), eps=1e-05, elementwise_affine=True)\n",
       "        (norm2): LayerNorm((512,), eps=1e-05, elementwise_affine=True)\n",
       "        (dropout): Dropout(p=0.0, inplace=False)\n",
       "      )\n",
       "      (1): EncoderLayer(\n",
       "        (attention): AttentionLayer(\n",
       "          (inner_attention): ProbAttention(\n",
       "            (dropout): Dropout(p=0.0, inplace=False)\n",
       "          )\n",
       "          (query_projection): Linear(in_features=512, out_features=512, bias=True)\n",
       "          (key_projection): Linear(in_features=512, out_features=512, bias=True)\n",
       "          (value_projection): Linear(in_features=512, out_features=512, bias=True)\n",
       "          (out_projection): Linear(in_features=512, out_features=512, bias=True)\n",
       "        )\n",
       "        (conv1): Conv1d(512, 512, kernel_size=(1,), stride=(1,))\n",
       "        (conv2): Conv1d(512, 512, kernel_size=(1,), stride=(1,))\n",
       "        (norm1): LayerNorm((512,), eps=1e-05, elementwise_affine=True)\n",
       "        (norm2): LayerNorm((512,), eps=1e-05, elementwise_affine=True)\n",
       "        (dropout): Dropout(p=0.0, inplace=False)\n",
       "      )\n",
       "      (2): EncoderLayer(\n",
       "        (attention): AttentionLayer(\n",
       "          (inner_attention): ProbAttention(\n",
       "            (dropout): Dropout(p=0.0, inplace=False)\n",
       "          )\n",
       "          (query_projection): Linear(in_features=512, out_features=512, bias=True)\n",
       "          (key_projection): Linear(in_features=512, out_features=512, bias=True)\n",
       "          (value_projection): Linear(in_features=512, out_features=512, bias=True)\n",
       "          (out_projection): Linear(in_features=512, out_features=512, bias=True)\n",
       "        )\n",
       "        (conv1): Conv1d(512, 512, kernel_size=(1,), stride=(1,))\n",
       "        (conv2): Conv1d(512, 512, kernel_size=(1,), stride=(1,))\n",
       "        (norm1): LayerNorm((512,), eps=1e-05, elementwise_affine=True)\n",
       "        (norm2): LayerNorm((512,), eps=1e-05, elementwise_affine=True)\n",
       "        (dropout): Dropout(p=0.0, inplace=False)\n",
       "      )\n",
       "    )\n",
       "    (conv_layers): ModuleList(\n",
       "      (0): ConvLayer(\n",
       "        (downConv): Conv1d(512, 512, kernel_size=(3,), stride=(1,), padding=(1,), padding_mode=circular)\n",
       "        (norm): BatchNorm1d(512, eps=1e-05, momentum=0.1, affine=True, track_running_stats=True)\n",
       "        (activation): ELU(alpha=1.0)\n",
       "        (maxPool): MaxPool1d(kernel_size=3, stride=2, padding=1, dilation=1, ceil_mode=False)\n",
       "      )\n",
       "      (1): ConvLayer(\n",
       "        (downConv): Conv1d(512, 512, kernel_size=(3,), stride=(1,), padding=(1,), padding_mode=circular)\n",
       "        (norm): BatchNorm1d(512, eps=1e-05, momentum=0.1, affine=True, track_running_stats=True)\n",
       "        (activation): ELU(alpha=1.0)\n",
       "        (maxPool): MaxPool1d(kernel_size=3, stride=2, padding=1, dilation=1, ceil_mode=False)\n",
       "      )\n",
       "    )\n",
       "    (norm): LayerNorm((512,), eps=1e-05, elementwise_affine=True)\n",
       "  )\n",
       "  (decoder): Decoder(\n",
       "    (layers): ModuleList(\n",
       "      (0): DecoderLayer(\n",
       "        (self_attention): AttentionLayer(\n",
       "          (inner_attention): ProbAttention(\n",
       "            (dropout): Dropout(p=0.0, inplace=False)\n",
       "          )\n",
       "          (query_projection): Linear(in_features=512, out_features=512, bias=True)\n",
       "          (key_projection): Linear(in_features=512, out_features=512, bias=True)\n",
       "          (value_projection): Linear(in_features=512, out_features=512, bias=True)\n",
       "          (out_projection): Linear(in_features=512, out_features=512, bias=True)\n",
       "        )\n",
       "        (cross_attention): AttentionLayer(\n",
       "          (inner_attention): FullAttention(\n",
       "            (dropout): Dropout(p=0.0, inplace=False)\n",
       "          )\n",
       "          (query_projection): Linear(in_features=512, out_features=512, bias=True)\n",
       "          (key_projection): Linear(in_features=512, out_features=512, bias=True)\n",
       "          (value_projection): Linear(in_features=512, out_features=512, bias=True)\n",
       "          (out_projection): Linear(in_features=512, out_features=512, bias=True)\n",
       "        )\n",
       "        (conv1): Conv1d(512, 512, kernel_size=(1,), stride=(1,))\n",
       "        (conv2): Conv1d(512, 512, kernel_size=(1,), stride=(1,))\n",
       "        (norm1): LayerNorm((512,), eps=1e-05, elementwise_affine=True)\n",
       "        (norm2): LayerNorm((512,), eps=1e-05, elementwise_affine=True)\n",
       "        (norm3): LayerNorm((512,), eps=1e-05, elementwise_affine=True)\n",
       "        (dropout): Dropout(p=0.0, inplace=False)\n",
       "      )\n",
       "      (1): DecoderLayer(\n",
       "        (self_attention): AttentionLayer(\n",
       "          (inner_attention): ProbAttention(\n",
       "            (dropout): Dropout(p=0.0, inplace=False)\n",
       "          )\n",
       "          (query_projection): Linear(in_features=512, out_features=512, bias=True)\n",
       "          (key_projection): Linear(in_features=512, out_features=512, bias=True)\n",
       "          (value_projection): Linear(in_features=512, out_features=512, bias=True)\n",
       "          (out_projection): Linear(in_features=512, out_features=512, bias=True)\n",
       "        )\n",
       "        (cross_attention): AttentionLayer(\n",
       "          (inner_attention): FullAttention(\n",
       "            (dropout): Dropout(p=0.0, inplace=False)\n",
       "          )\n",
       "          (query_projection): Linear(in_features=512, out_features=512, bias=True)\n",
       "          (key_projection): Linear(in_features=512, out_features=512, bias=True)\n",
       "          (value_projection): Linear(in_features=512, out_features=512, bias=True)\n",
       "          (out_projection): Linear(in_features=512, out_features=512, bias=True)\n",
       "        )\n",
       "        (conv1): Conv1d(512, 512, kernel_size=(1,), stride=(1,))\n",
       "        (conv2): Conv1d(512, 512, kernel_size=(1,), stride=(1,))\n",
       "        (norm1): LayerNorm((512,), eps=1e-05, elementwise_affine=True)\n",
       "        (norm2): LayerNorm((512,), eps=1e-05, elementwise_affine=True)\n",
       "        (norm3): LayerNorm((512,), eps=1e-05, elementwise_affine=True)\n",
       "        (dropout): Dropout(p=0.0, inplace=False)\n",
       "      )\n",
       "    )\n",
       "    (norm): LayerNorm((512,), eps=1e-05, elementwise_affine=True)\n",
       "  )\n",
       "  (projection): Linear(in_features=512, out_features=1, bias=True)\n",
       ")"
      ]
     },
     "execution_count": 61,
     "metadata": {},
     "output_type": "execute_result"
    }
   ],
   "source": [
    "model"
   ]
  },
  {
   "cell_type": "code",
   "execution_count": 71,
   "metadata": {},
   "outputs": [],
   "source": [
    "scaler = dataset.scaler\n",
    "\n",
    "df_test = data_tr.copy()\n",
    "\n",
    "df_test[\"open\"] = scaler.transform(df_test[\"open\"])"
   ]
  },
  {
   "cell_type": "code",
   "execution_count": 72,
   "metadata": {},
   "outputs": [],
   "source": [
    "delta = df_test[\"date\"][1] - df_test[\"date\"][0]\n",
    "\n",
    "lst = []\n",
    "\n",
    "for i in range(pred_len):\n",
    "    lst = []\n",
    "    lst.append(df_test[\"date\"].iloc[-1]+delta)\n",
    "    df_test = pd.concat([df_test, pd.DataFrame({'date':lst})])\n",
    "\n",
    "df_test.reset_index(drop=True, inplace=True)\n",
    "df_test = df_test.fillna(0)"
   ]
  },
  {
   "cell_type": "code",
   "execution_count": 73,
   "metadata": {},
   "outputs": [],
   "source": [
    "df_test_x = df_test.iloc[-seq_len-pred_len:-pred_len].copy()\n",
    "df_test_y = df_test.iloc[-label_len-pred_len:].copy()\n",
    "\n",
    "df_test_numpy = df_test.to_numpy()[:,1:].astype(\"float\")\n",
    "test_time_x = time_features(df_test_x, freq=dataset.freq) #인풋 타임 스템프\n",
    "test_data_x = df_test_numpy[-seq_len-pred_len:-pred_len] #인풋 데이터\n",
    "\n",
    "\n",
    "test_time_y = time_features(df_test_y, freq=dataset.freq) #아웃풋 타임스템프\n",
    "test_data_y =df_test_numpy[-label_len-pred_len:]\n",
    "test_data_y[-pred_len:] = np.zeros_like(test_data_y[-pred_len:]) #예측하는 부분을 0으로 채워준다."
   ]
  },
  {
   "cell_type": "code",
   "execution_count": 74,
   "metadata": {},
   "outputs": [],
   "source": [
    "test_time_x = test_time_x\n",
    "test_time_y = test_time_y\n",
    "test_data_y = test_data_y.astype(np.float64)\n",
    "test_data_x = test_data_x.astype(np.float64)\n",
    "\n",
    "_test = [(test_data_x,test_data_y,test_time_x,test_time_y)]\n",
    "_test_loader = DataLoader(_test,batch_size=1,shuffle=False)"
   ]
  },
  {
   "cell_type": "code",
   "execution_count": 75,
   "metadata": {},
   "outputs": [
    {
     "name": "stdout",
     "output_type": "stream",
     "text": [
      "torch.Size([1, 96, 1])\n",
      "torch.Size([1, 72, 1])\n",
      "torch.Size([1, 96, 4])\n",
      "torch.Size([1, 72, 4])\n"
     ]
    }
   ],
   "source": [
    "for i, (batch_x,batch_y,batch_x_mark,batch_y_mark) in enumerate(_test_loader):\n",
    "    print(batch_x.shape)\n",
    "    print(batch_y.shape)\n",
    "    print(batch_x_mark.shape)\n",
    "    print(batch_y_mark.shape)"
   ]
  },
  {
   "cell_type": "code",
   "execution_count": 78,
   "metadata": {},
   "outputs": [],
   "source": [
    "for i, (batch_x,batch_y,batch_x_mark,batch_y_mark) in enumerate(_test_loader):\n",
    "\n",
    "    batch_x = batch_x.float().to(device)\n",
    "    batch_y = batch_y.float().to(device)\n",
    "\n",
    "    batch_x_mark = batch_x_mark.float().to(device)\n",
    "    batch_y_mark = batch_y_mark.float().to(device)\n",
    "\n",
    "    outputs = model(batch_x, batch_x_mark, batch_y, batch_y_mark)\n",
    "    preds = outputs.detach().cpu().numpy()"
   ]
  },
  {
   "cell_type": "code",
   "execution_count": 80,
   "metadata": {},
   "outputs": [],
   "source": [
    "preds = scaler.inverse_transform(preds[0])"
   ]
  },
  {
   "cell_type": "code",
   "execution_count": 85,
   "metadata": {},
   "outputs": [
    {
     "data": {
      "text/plain": [
       "(24, 1)"
      ]
     },
     "execution_count": 85,
     "metadata": {},
     "output_type": "execute_result"
    }
   ],
   "source": [
    "preds.shape"
   ]
  },
  {
   "cell_type": "code",
   "execution_count": 89,
   "metadata": {},
   "outputs": [
    {
     "data": {
      "text/plain": [
       "array([ 4586000.,  4657000.,  4889000., ..., 39633000., 40194000.,\n",
       "       39177000.])"
      ]
     },
     "execution_count": 89,
     "metadata": {},
     "output_type": "execute_result"
    }
   ],
   "source": [
    "real = data.iloc[:1384]['open'].to_numpy()\n",
    "real"
   ]
  },
  {
   "cell_type": "code",
   "execution_count": 92,
   "metadata": {},
   "outputs": [
    {
     "data": {
      "image/png": "[encoded data removed]",
      "text/plain": [
       "<Figure size 1440x360 with 1 Axes>"
      ]
     },
     "metadata": {
      "needs_background": "light"
     },
     "output_type": "display_data"
    }
   ],
   "source": [
    "plt.figure(figsize=(20,5))\n",
    "plt.plot(range(1300, 1384), real[1300:], label='real')\n",
    "plt.plot(range(1384-24, 1384), preds, label='predict')\n",
    "plt.legend()\n",
    "plt.show()"
   ]
  },
  {
   "cell_type": "code",
   "execution_count": 94,
   "metadata": {},
   "outputs": [
    {
     "data": {
      "text/plain": [
       "35.11766412004603"
      ]
     },
     "execution_count": 94,
     "metadata": {},
     "output_type": "execute_result"
    }
   ],
   "source": [
    "def MAPEval(y_pred, y_true):\n",
    "    return np.mean(np.abs((y_true - y_pred) / y_true)) * 100\n",
    "\n",
    "MAPEval(preds, real[1360:])"
   ]
  },
  {
   "cell_type": "markdown",
   "metadata": {},
   "source": [
    "## Test2"
   ]
  },
  {
   "cell_type": "code",
   "execution_count": 96,
   "metadata": {},
   "outputs": [
    {
     "name": "stderr",
     "output_type": "stream",
     "text": [
      "C:\\Users\\82108\\AppData\\Local\\Temp\\ipykernel_5452\\2418081455.py:14: SettingWithCopyWarning: \n",
      "A value is trying to be set on a copy of a slice from a DataFrame.\n",
      "Try using .loc[row_indexer,col_indexer] = value instead\n",
      "\n",
      "See the caveats in the documentation: https://pandas.pydata.org/pandas-docs/stable/user_guide/indexing.html#returning-a-view-versus-a-copy\n",
      "  df_raw[\"date\"] = pd.to_datetime(df_raw[\"date\"])\n"
     ]
    }
   ],
   "source": [
    "test_dataset = Dataset_Pred(dataframe=data_te ,scale=True, size = (seq_len, label_len,pred_len))\n",
    "test_data_loader = DataLoader(dataset,batch_size=1,shuffle=shuffle_flag,num_workers=num_workers,drop_last=drop_last)"
   ]
  },
  {
   "cell_type": "code",
   "execution_count": 97,
   "metadata": {},
   "outputs": [],
   "source": [
    "seq_x, seq_y, seq_x_mark, seq_y_mark = next(iter(test_data_loader))"
   ]
  },
  {
   "cell_type": "code",
   "execution_count": 98,
   "metadata": {},
   "outputs": [
    {
     "name": "stdout",
     "output_type": "stream",
     "text": [
      "torch.Size([1, 96, 1])\n",
      "torch.Size([1, 72, 1])\n",
      "torch.Size([1, 96, 4])\n",
      "torch.Size([1, 72, 4])\n"
     ]
    }
   ],
   "source": [
    "print(batch_x.shape)\n",
    "print(batch_y.shape)\n",
    "print(batch_x_mark.shape)\n",
    "print(batch_y_mark.shape)"
   ]
  },
  {
   "cell_type": "code",
   "execution_count": 121,
   "metadata": {},
   "outputs": [],
   "source": [
    "# 한번의 batch를 실행하는 코드\n",
    "def predict(batch_x, batch_y, batch_x_mark, batch_y_mark):\n",
    "    scaler = dataset.scaler\n",
    "\n",
    "    batch_x = batch_x.float().to(device)\n",
    "    batch_y = batch_y.float()\n",
    "    batch_x_mark = batch_x_mark.float().to(device)\n",
    "    batch_y_mark = batch_y_mark.float().to(device)\n",
    "    dec_inp = torch.zeros([batch_y.shape[0], pred_len, batch_y.shape[-1]]).float()\n",
    "    dec_inp = torch.cat([batch_y[:,:label_len,:], dec_inp], dim=1).float().to(device)\n",
    "    outputs = model(batch_x, batch_x_mark, dec_inp, batch_y_mark)\n",
    "    batch_y = batch_y[:,-pred_len-label_len:,0:]\n",
    "    \n",
    "    preds = outputs.squeeze(0).detach().cpu().numpy()\n",
    "    true = batch_y.squeeze(0).detach().cpu().numpy()\n",
    "\n",
    "    return scaler.inverse_transform(preds), scaler.inverse_transform(true)"
   ]
  },
  {
   "cell_type": "code",
   "execution_count": 122,
   "metadata": {},
   "outputs": [],
   "source": [
    "model.eval()\n",
    "\n",
    "batch_x,batch_y,batch_x_mark,batch_y_mark = next(iter(test_data_loader))\n",
    "pred, true = predict(batch_x, batch_y, batch_x_mark, batch_y_mark)\n"
   ]
  },
  {
   "cell_type": "code",
   "execution_count": 123,
   "metadata": {},
   "outputs": [
    {
     "data": {
      "text/plain": [
       "(24, 1)"
      ]
     },
     "execution_count": 123,
     "metadata": {},
     "output_type": "execute_result"
    }
   ],
   "source": [
    "pred.shape"
   ]
  },
  {
   "cell_type": "code",
   "execution_count": 124,
   "metadata": {},
   "outputs": [
    {
     "data": {
      "text/plain": [
       "(72, 1)"
      ]
     },
     "execution_count": 124,
     "metadata": {},
     "output_type": "execute_result"
    }
   ],
   "source": [
    "true.shape"
   ]
  },
  {
   "cell_type": "code",
   "execution_count": 128,
   "metadata": {},
   "outputs": [
    {
     "data": {
      "image/png": "[encoded data removed]",
      "text/plain": [
       "<Figure size 1440x360 with 1 Axes>"
      ]
     },
     "metadata": {
      "needs_background": "light"
     },
     "output_type": "display_data"
    }
   ],
   "source": [
    "plt.figure(figsize=(20,5))\n",
    "plt.plot(range(72),true, label=\"real\")\n",
    "plt.plot(range(72-24,72), pred, label=\"predict\")\n",
    "plt.legend()\n",
    "plt.show()"
   ]
  },
  {
   "cell_type": "code",
   "execution_count": 132,
   "metadata": {},
   "outputs": [
    {
     "data": {
      "text/plain": [
       "7.324291342106175"
      ]
     },
     "execution_count": 132,
     "metadata": {},
     "output_type": "execute_result"
    }
   ],
   "source": [
    "MAPEval(pred, true[-24:])"
   ]
  },
  {
   "cell_type": "code",
   "execution_count": null,
   "metadata": {},
   "outputs": [],
   "source": []
  }
 ],
 "metadata": {
  "kernelspec": {
   "display_name": "Python 3.9.7 ('tobigs')",
   "language": "python",
   "name": "python3"
  },
  "language_info": {
   "codemirror_mode": {
    "name": "ipython",
    "version": 3
   },
   "file_extension": ".py",
   "mimetype": "text/x-python",
   "name": "python",
   "nbconvert_exporter": "python",
   "pygments_lexer": "ipython3",
   "version": "3.9.7"
  },
  "orig_nbformat": 4,
  "vscode": {
   "interpreter": {
    "hash": "d67b72366f26532c5f661c017539146322738586d7661e09ffcd2c8ef92eec78"
   }
  }
 },
 "nbformat": 4,
 "nbformat_minor": 2
}
