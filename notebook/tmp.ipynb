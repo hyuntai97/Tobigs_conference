{
 "cells": [
  {
   "cell_type": "code",
   "execution_count": 34,
   "metadata": {},
   "outputs": [],
   "source": [
    "import pandas as pd\n",
    "import numpy as np\n",
    "df = pd.read_csv('../dataset/upbit_ohlcv_1700.csv')"
   ]
  },
  {
   "cell_type": "code",
   "execution_count": 2,
   "metadata": {},
   "outputs": [
    {
     "data": {
      "text/plain": [
       "(1700, 7)"
      ]
     },
     "execution_count": 2,
     "metadata": {},
     "output_type": "execute_result"
    }
   ],
   "source": [
    "df.shape"
   ]
  },
  {
   "cell_type": "code",
   "execution_count": 3,
   "metadata": {},
   "outputs": [
    {
     "data": {
      "text/html": [
       "<div>\n",
       "<style scoped>\n",
       "    .dataframe tbody tr th:only-of-type {\n",
       "        vertical-align: middle;\n",
       "    }\n",
       "\n",
       "    .dataframe tbody tr th {\n",
       "        vertical-align: top;\n",
       "    }\n",
       "\n",
       "    .dataframe thead th {\n",
       "        text-align: right;\n",
       "    }\n",
       "</style>\n",
       "<table border=\"1\" class=\"dataframe\">\n",
       "  <thead>\n",
       "    <tr style=\"text-align: right;\">\n",
       "      <th></th>\n",
       "      <th>index</th>\n",
       "      <th>open</th>\n",
       "      <th>high</th>\n",
       "      <th>low</th>\n",
       "      <th>close</th>\n",
       "      <th>volume</th>\n",
       "      <th>value</th>\n",
       "    </tr>\n",
       "  </thead>\n",
       "  <tbody>\n",
       "    <tr>\n",
       "      <th>0</th>\n",
       "      <td>2017-09-29 09:00:00+09:00</td>\n",
       "      <td>4586000.0</td>\n",
       "      <td>4709000.0</td>\n",
       "      <td>4476000.0</td>\n",
       "      <td>4657000.0</td>\n",
       "      <td>59.352373</td>\n",
       "      <td>2.724558e+08</td>\n",
       "    </tr>\n",
       "    <tr>\n",
       "      <th>1</th>\n",
       "      <td>2017-09-30 09:00:00+09:00</td>\n",
       "      <td>4657000.0</td>\n",
       "      <td>4896000.0</td>\n",
       "      <td>4651000.0</td>\n",
       "      <td>4895000.0</td>\n",
       "      <td>19.998483</td>\n",
       "      <td>9.561476e+07</td>\n",
       "    </tr>\n",
       "    <tr>\n",
       "      <th>2</th>\n",
       "      <td>2017-10-01 09:00:00+09:00</td>\n",
       "      <td>4889000.0</td>\n",
       "      <td>4978000.0</td>\n",
       "      <td>4682000.0</td>\n",
       "      <td>4962000.0</td>\n",
       "      <td>27.323332</td>\n",
       "      <td>1.331325e+08</td>\n",
       "    </tr>\n",
       "    <tr>\n",
       "      <th>3</th>\n",
       "      <td>2017-10-02 09:00:00+09:00</td>\n",
       "      <td>4962000.0</td>\n",
       "      <td>5095000.0</td>\n",
       "      <td>4956000.0</td>\n",
       "      <td>5025000.0</td>\n",
       "      <td>31.728004</td>\n",
       "      <td>1.599315e+08</td>\n",
       "    </tr>\n",
       "    <tr>\n",
       "      <th>4</th>\n",
       "      <td>2017-10-03 09:00:00+09:00</td>\n",
       "      <td>5021000.0</td>\n",
       "      <td>5079000.0</td>\n",
       "      <td>4811000.0</td>\n",
       "      <td>4964000.0</td>\n",
       "      <td>11.899307</td>\n",
       "      <td>5.890130e+07</td>\n",
       "    </tr>\n",
       "  </tbody>\n",
       "</table>\n",
       "</div>"
      ],
      "text/plain": [
       "                       index       open       high        low      close  \\\n",
       "0  2017-09-29 09:00:00+09:00  4586000.0  4709000.0  4476000.0  4657000.0   \n",
       "1  2017-09-30 09:00:00+09:00  4657000.0  4896000.0  4651000.0  4895000.0   \n",
       "2  2017-10-01 09:00:00+09:00  4889000.0  4978000.0  4682000.0  4962000.0   \n",
       "3  2017-10-02 09:00:00+09:00  4962000.0  5095000.0  4956000.0  5025000.0   \n",
       "4  2017-10-03 09:00:00+09:00  5021000.0  5079000.0  4811000.0  4964000.0   \n",
       "\n",
       "      volume         value  \n",
       "0  59.352373  2.724558e+08  \n",
       "1  19.998483  9.561476e+07  \n",
       "2  27.323332  1.331325e+08  \n",
       "3  31.728004  1.599315e+08  \n",
       "4  11.899307  5.890130e+07  "
      ]
     },
     "execution_count": 3,
     "metadata": {},
     "output_type": "execute_result"
    }
   ],
   "source": [
    "df.head()"
   ]
  },
  {
   "cell_type": "code",
   "execution_count": 19,
   "metadata": {},
   "outputs": [
    {
     "data": {
      "text/html": [
       "<div>\n",
       "<style scoped>\n",
       "    .dataframe tbody tr th:only-of-type {\n",
       "        vertical-align: middle;\n",
       "    }\n",
       "\n",
       "    .dataframe tbody tr th {\n",
       "        vertical-align: top;\n",
       "    }\n",
       "\n",
       "    .dataframe thead th {\n",
       "        text-align: right;\n",
       "    }\n",
       "</style>\n",
       "<table border=\"1\" class=\"dataframe\">\n",
       "  <thead>\n",
       "    <tr style=\"text-align: right;\">\n",
       "      <th></th>\n",
       "      <th>open</th>\n",
       "      <th>high</th>\n",
       "      <th>low</th>\n",
       "      <th>close</th>\n",
       "      <th>volume</th>\n",
       "      <th>value</th>\n",
       "    </tr>\n",
       "    <tr>\n",
       "      <th>index</th>\n",
       "      <th></th>\n",
       "      <th></th>\n",
       "      <th></th>\n",
       "      <th></th>\n",
       "      <th></th>\n",
       "      <th></th>\n",
       "    </tr>\n",
       "  </thead>\n",
       "  <tbody>\n",
       "    <tr>\n",
       "      <th>2017-09-29 09:00:00+09:00</th>\n",
       "      <td>4586000.0</td>\n",
       "      <td>4709000.0</td>\n",
       "      <td>4476000.0</td>\n",
       "      <td>4657000.0</td>\n",
       "      <td>59.352373</td>\n",
       "      <td>2.724558e+08</td>\n",
       "    </tr>\n",
       "    <tr>\n",
       "      <th>2017-09-30 09:00:00+09:00</th>\n",
       "      <td>4657000.0</td>\n",
       "      <td>4896000.0</td>\n",
       "      <td>4651000.0</td>\n",
       "      <td>4895000.0</td>\n",
       "      <td>19.998483</td>\n",
       "      <td>9.561476e+07</td>\n",
       "    </tr>\n",
       "    <tr>\n",
       "      <th>2017-10-01 09:00:00+09:00</th>\n",
       "      <td>4889000.0</td>\n",
       "      <td>4978000.0</td>\n",
       "      <td>4682000.0</td>\n",
       "      <td>4962000.0</td>\n",
       "      <td>27.323332</td>\n",
       "      <td>1.331325e+08</td>\n",
       "    </tr>\n",
       "    <tr>\n",
       "      <th>2017-10-02 09:00:00+09:00</th>\n",
       "      <td>4962000.0</td>\n",
       "      <td>5095000.0</td>\n",
       "      <td>4956000.0</td>\n",
       "      <td>5025000.0</td>\n",
       "      <td>31.728004</td>\n",
       "      <td>1.599315e+08</td>\n",
       "    </tr>\n",
       "    <tr>\n",
       "      <th>2017-10-03 09:00:00+09:00</th>\n",
       "      <td>5021000.0</td>\n",
       "      <td>5079000.0</td>\n",
       "      <td>4811000.0</td>\n",
       "      <td>4964000.0</td>\n",
       "      <td>11.899307</td>\n",
       "      <td>5.890130e+07</td>\n",
       "    </tr>\n",
       "  </tbody>\n",
       "</table>\n",
       "</div>"
      ],
      "text/plain": [
       "                                open       high        low      close  \\\n",
       "index                                                                   \n",
       "2017-09-29 09:00:00+09:00  4586000.0  4709000.0  4476000.0  4657000.0   \n",
       "2017-09-30 09:00:00+09:00  4657000.0  4896000.0  4651000.0  4895000.0   \n",
       "2017-10-01 09:00:00+09:00  4889000.0  4978000.0  4682000.0  4962000.0   \n",
       "2017-10-02 09:00:00+09:00  4962000.0  5095000.0  4956000.0  5025000.0   \n",
       "2017-10-03 09:00:00+09:00  5021000.0  5079000.0  4811000.0  4964000.0   \n",
       "\n",
       "                              volume         value  \n",
       "index                                               \n",
       "2017-09-29 09:00:00+09:00  59.352373  2.724558e+08  \n",
       "2017-09-30 09:00:00+09:00  19.998483  9.561476e+07  \n",
       "2017-10-01 09:00:00+09:00  27.323332  1.331325e+08  \n",
       "2017-10-02 09:00:00+09:00  31.728004  1.599315e+08  \n",
       "2017-10-03 09:00:00+09:00  11.899307  5.890130e+07  "
      ]
     },
     "execution_count": 19,
     "metadata": {},
     "output_type": "execute_result"
    }
   ],
   "source": [
    "df['index'] = pd.to_datetime(df['index'], format=\"%Y-%m-%d %H:%M:%S\")\n",
    "df.set_index('index', inplace=True)\n",
    "df.head()"
   ]
  },
  {
   "cell_type": "code",
   "execution_count": 4,
   "metadata": {},
   "outputs": [
    {
     "data": {
      "text/plain": [
       "<AxesSubplot:>"
      ]
     },
     "execution_count": 4,
     "metadata": {},
     "output_type": "execute_result"
    },
    {
     "data": {
      "image/png": "[encoded data removed]",
      "text/plain": [
       "<Figure size 432x288 with 1 Axes>"
      ]
     },
     "metadata": {
      "needs_background": "light"
     },
     "output_type": "display_data"
    }
   ],
   "source": [
    "df['open'].plot()"
   ]
  },
  {
   "cell_type": "code",
   "execution_count": 22,
   "metadata": {},
   "outputs": [],
   "source": [
    "ts_selected = df['open']"
   ]
  },
  {
   "cell_type": "code",
   "execution_count": 23,
   "metadata": {},
   "outputs": [],
   "source": [
    "input_window = 90\n",
    "output_window = 28\n",
    "train_rate = 0.7"
   ]
  },
  {
   "cell_type": "code",
   "execution_count": 24,
   "metadata": {},
   "outputs": [
    {
     "name": "stdout",
     "output_type": "stream",
     "text": [
      "1170\n",
      "502\n"
     ]
    }
   ],
   "source": [
    "train_size = int((len(ts_selected)-output_window) * train_rate)\n",
    "valid_size = (len(ts_selected)-28)- train_size\n",
    "\n",
    "print(train_size)\n",
    "print(valid_size)"
   ]
  },
  {
   "cell_type": "code",
   "execution_count": 27,
   "metadata": {},
   "outputs": [],
   "source": [
    "train_data = ts_selected.iloc[:train_size]\n",
    "valid_data = ts_selected.iloc[train_size:train_size+valid_size]"
   ]
  },
  {
   "cell_type": "code",
   "execution_count": 35,
   "metadata": {},
   "outputs": [],
   "source": [
    "train_data = np.array(train_data).reshape(-1,1)\n",
    "valid_data = np.array(valid_data).reshape(-1,1)"
   ]
  },
  {
   "cell_type": "code",
   "execution_count": 36,
   "metadata": {},
   "outputs": [
    {
     "data": {
      "text/plain": [
       "(1170, 1)"
      ]
     },
     "execution_count": 36,
     "metadata": {},
     "output_type": "execute_result"
    }
   ],
   "source": [
    "train_data.shape\n"
   ]
  },
  {
   "cell_type": "code",
   "execution_count": 37,
   "metadata": {},
   "outputs": [],
   "source": [
    "from sklearn.preprocessing import MinMaxScaler\n",
    "scaler = MinMaxScaler()"
   ]
  },
  {
   "cell_type": "code",
   "execution_count": 39,
   "metadata": {},
   "outputs": [
    {
     "data": {
      "text/html": [
       "<style>#sk-container-id-2 {color: black;background-color: white;}#sk-container-id-2 pre{padding: 0;}#sk-container-id-2 div.sk-toggleable {background-color: white;}#sk-container-id-2 label.sk-toggleable__label {cursor: pointer;display: block;width: 100%;margin-bottom: 0;padding: 0.3em;box-sizing: border-box;text-align: center;}#sk-container-id-2 label.sk-toggleable__label-arrow:before {content: \"▸\";float: left;margin-right: 0.25em;color: #696969;}#sk-container-id-2 label.sk-toggleable__label-arrow:hover:before {color: black;}#sk-container-id-2 div.sk-estimator:hover label.sk-toggleable__label-arrow:before {color: black;}#sk-container-id-2 div.sk-toggleable__content {max-height: 0;max-width: 0;overflow: hidden;text-align: left;background-color: #f0f8ff;}#sk-container-id-2 div.sk-toggleable__content pre {margin: 0.2em;color: black;border-radius: 0.25em;background-color: #f0f8ff;}#sk-container-id-2 input.sk-toggleable__control:checked~div.sk-toggleable__content {max-height: 200px;max-width: 100%;overflow: auto;}#sk-container-id-2 input.sk-toggleable__control:checked~label.sk-toggleable__label-arrow:before {content: \"▾\";}#sk-container-id-2 div.sk-estimator input.sk-toggleable__control:checked~label.sk-toggleable__label {background-color: #d4ebff;}#sk-container-id-2 div.sk-label input.sk-toggleable__control:checked~label.sk-toggleable__label {background-color: #d4ebff;}#sk-container-id-2 input.sk-hidden--visually {border: 0;clip: rect(1px 1px 1px 1px);clip: rect(1px, 1px, 1px, 1px);height: 1px;margin: -1px;overflow: hidden;padding: 0;position: absolute;width: 1px;}#sk-container-id-2 div.sk-estimator {font-family: monospace;background-color: #f0f8ff;border: 1px dotted black;border-radius: 0.25em;box-sizing: border-box;margin-bottom: 0.5em;}#sk-container-id-2 div.sk-estimator:hover {background-color: #d4ebff;}#sk-container-id-2 div.sk-parallel-item::after {content: \"\";width: 100%;border-bottom: 1px solid gray;flex-grow: 1;}#sk-container-id-2 div.sk-label:hover label.sk-toggleable__label {background-color: #d4ebff;}#sk-container-id-2 div.sk-serial::before {content: \"\";position: absolute;border-left: 1px solid gray;box-sizing: border-box;top: 0;bottom: 0;left: 50%;z-index: 0;}#sk-container-id-2 div.sk-serial {display: flex;flex-direction: column;align-items: center;background-color: white;padding-right: 0.2em;padding-left: 0.2em;position: relative;}#sk-container-id-2 div.sk-item {position: relative;z-index: 1;}#sk-container-id-2 div.sk-parallel {display: flex;align-items: stretch;justify-content: center;background-color: white;position: relative;}#sk-container-id-2 div.sk-item::before, #sk-container-id-2 div.sk-parallel-item::before {content: \"\";position: absolute;border-left: 1px solid gray;box-sizing: border-box;top: 0;bottom: 0;left: 50%;z-index: -1;}#sk-container-id-2 div.sk-parallel-item {display: flex;flex-direction: column;z-index: 1;position: relative;background-color: white;}#sk-container-id-2 div.sk-parallel-item:first-child::after {align-self: flex-end;width: 50%;}#sk-container-id-2 div.sk-parallel-item:last-child::after {align-self: flex-start;width: 50%;}#sk-container-id-2 div.sk-parallel-item:only-child::after {width: 0;}#sk-container-id-2 div.sk-dashed-wrapped {border: 1px dashed gray;margin: 0 0.4em 0.5em 0.4em;box-sizing: border-box;padding-bottom: 0.4em;background-color: white;}#sk-container-id-2 div.sk-label label {font-family: monospace;font-weight: bold;display: inline-block;line-height: 1.2em;}#sk-container-id-2 div.sk-label-container {text-align: center;}#sk-container-id-2 div.sk-container {/* jupyter's `normalize.less` sets `[hidden] { display: none; }` but bootstrap.min.css set `[hidden] { display: none !important; }` so we also need the `!important` here to be able to override the default hidden behavior on the sphinx rendered scikit-learn.org. See: https://github.com/scikit-learn/scikit-learn/issues/21755 */display: inline-block !important;position: relative;}#sk-container-id-2 div.sk-text-repr-fallback {display: none;}</style><div id=\"sk-container-id-2\" class=\"sk-top-container\"><div class=\"sk-text-repr-fallback\"><pre>MinMaxScaler()</pre><b>In a Jupyter environment, please rerun this cell to show the HTML representation or trust the notebook. <br />On GitHub, the HTML representation is unable to render, please try loading this page with nbviewer.org.</b></div><div class=\"sk-container\" hidden><div class=\"sk-item\"><div class=\"sk-estimator sk-toggleable\"><input class=\"sk-toggleable__control sk-hidden--visually\" id=\"sk-estimator-id-2\" type=\"checkbox\" checked><label for=\"sk-estimator-id-2\" class=\"sk-toggleable__label sk-toggleable__label-arrow\">MinMaxScaler</label><div class=\"sk-toggleable__content\"><pre>MinMaxScaler()</pre></div></div></div></div></div>"
      ],
      "text/plain": [
       "MinMaxScaler()"
      ]
     },
     "execution_count": 39,
     "metadata": {},
     "output_type": "execute_result"
    }
   ],
   "source": [
    "scaler.fit(train_data)"
   ]
  },
  {
   "cell_type": "code",
   "execution_count": 40,
   "metadata": {},
   "outputs": [],
   "source": [
    "train_data_std = scaler.transform(train_data)\n",
    "valid_data_std = scaler.transform(valid_data)"
   ]
  },
  {
   "cell_type": "code",
   "execution_count": 42,
   "metadata": {},
   "outputs": [
    {
     "data": {
      "text/plain": [
       "(1170, 1)"
      ]
     },
     "execution_count": 42,
     "metadata": {},
     "output_type": "execute_result"
    }
   ],
   "source": [
    "train_data_std.shape"
   ]
  },
  {
   "cell_type": "code",
   "execution_count": 43,
   "metadata": {},
   "outputs": [
    {
     "data": {
      "text/html": [
       "<div>\n",
       "<style scoped>\n",
       "    .dataframe tbody tr th:only-of-type {\n",
       "        vertical-align: middle;\n",
       "    }\n",
       "\n",
       "    .dataframe tbody tr th {\n",
       "        vertical-align: top;\n",
       "    }\n",
       "\n",
       "    .dataframe thead th {\n",
       "        text-align: right;\n",
       "    }\n",
       "</style>\n",
       "<table border=\"1\" class=\"dataframe\">\n",
       "  <thead>\n",
       "    <tr style=\"text-align: right;\">\n",
       "      <th></th>\n",
       "      <th>0</th>\n",
       "    </tr>\n",
       "  </thead>\n",
       "  <tbody>\n",
       "    <tr>\n",
       "      <th>0</th>\n",
       "      <td>0.040535</td>\n",
       "    </tr>\n",
       "    <tr>\n",
       "      <th>1</th>\n",
       "      <td>0.043515</td>\n",
       "    </tr>\n",
       "    <tr>\n",
       "      <th>2</th>\n",
       "      <td>0.053250</td>\n",
       "    </tr>\n",
       "    <tr>\n",
       "      <th>3</th>\n",
       "      <td>0.056313</td>\n",
       "    </tr>\n",
       "    <tr>\n",
       "      <th>4</th>\n",
       "      <td>0.058789</td>\n",
       "    </tr>\n",
       "    <tr>\n",
       "      <th>...</th>\n",
       "      <td>...</td>\n",
       "    </tr>\n",
       "    <tr>\n",
       "      <th>1165</th>\n",
       "      <td>0.728295</td>\n",
       "    </tr>\n",
       "    <tr>\n",
       "      <th>1166</th>\n",
       "      <td>0.722336</td>\n",
       "    </tr>\n",
       "    <tr>\n",
       "      <th>1167</th>\n",
       "      <td>0.688389</td>\n",
       "    </tr>\n",
       "    <tr>\n",
       "      <th>1168</th>\n",
       "      <td>0.697914</td>\n",
       "    </tr>\n",
       "    <tr>\n",
       "      <th>1169</th>\n",
       "      <td>0.685242</td>\n",
       "    </tr>\n",
       "  </tbody>\n",
       "</table>\n",
       "<p>1170 rows × 1 columns</p>\n",
       "</div>"
      ],
      "text/plain": [
       "             0\n",
       "0     0.040535\n",
       "1     0.043515\n",
       "2     0.053250\n",
       "3     0.056313\n",
       "4     0.058789\n",
       "...        ...\n",
       "1165  0.728295\n",
       "1166  0.722336\n",
       "1167  0.688389\n",
       "1168  0.697914\n",
       "1169  0.685242\n",
       "\n",
       "[1170 rows x 1 columns]"
      ]
     },
     "execution_count": 43,
     "metadata": {},
     "output_type": "execute_result"
    }
   ],
   "source": [
    "pd.DataFrame(train_data_std)"
   ]
  },
  {
   "cell_type": "code",
   "execution_count": 45,
   "metadata": {},
   "outputs": [],
   "source": [
    "from torch.utils.data import Dataset\n",
    "import torch\n",
    "\n",
    "\n",
    "class WindowDataset(Dataset):\n",
    "    '''\n",
    "    Build a custom dataset \n",
    "    \n",
    "    --Return--\n",
    "    \n",
    "    x: inputs\n",
    "    y: targets \n",
    "    z: features\n",
    "    ----------\n",
    "    \n",
    "    '''\n",
    "    \n",
    "    def __init__(self, data, input_window, output_window, stride=1):\n",
    "        # total data length \n",
    "        L = data.shape[0]\n",
    "        \n",
    "        # total number of samples with stride\n",
    "        num_samples = (L - input_window - output_window) // stride + 1\n",
    "        \n",
    "        # input, output \n",
    "        X = []\n",
    "        Y = []\n",
    "        Z = []\n",
    "        \n",
    "        for i in range(num_samples):\n",
    "            start_x = stride*i\n",
    "            end_x = start_x + input_window \n",
    "            X.append(data.iloc[start_x: end_x, :].values)\n",
    "            \n",
    "            start_y = stride*i + input_window\n",
    "            end_y = start_y + output_window \n",
    "            Y.append(data.iloc[start_y:end_y, 0].values)\n",
    "            Z.append(data.iloc[start_y:end_y, 1:].values)\n",
    "            \n",
    "        self.x = X\n",
    "        self.y = Y\n",
    "        self.z = Z\n",
    "        \n",
    "        self.len = len(X)\n",
    "            \n",
    "    def __len__(self):\n",
    "        return self.len \n",
    "    \n",
    "    def __getitem__(self, idx):\n",
    "        x = torch.FloatTensor(self.x[idx])\n",
    "        y = torch.FloatTensor(self.y[idx])\n",
    "        y = y.unsqueeze(-1)\n",
    "        z = torch.FloatTensor(self.z[idx])\n",
    "        \n",
    "        return x, y, z"
   ]
  },
  {
   "cell_type": "code",
   "execution_count": 46,
   "metadata": {},
   "outputs": [],
   "source": [
    "from torch.utils.data import DataLoader\n",
    "target_feature = 'open'\n",
    "batch_size=64\n",
    "\n",
    "df = pd.read_csv('../dataset/upbit_ohlcv_1700.csv')\n",
    "\n",
    "#-- make datetime index\n",
    "df['index'] = pd.to_datetime(df['index'], format=\"%Y-%m-%d %H:%M:%S\")\n",
    "df.set_index('index', inplace=True)\n",
    "\n",
    "#-- train validation split \n",
    "ts_selected = df[target_feature]\n",
    "train_size = int((len(ts_selected)-output_window) * train_rate)\n",
    "valid_size = (len(ts_selected)-output_window)- train_size\n",
    "train_data = np.array(ts_selected.iloc[:train_size]).reshape(-1,1)\n",
    "valid_data = np.array(ts_selected.iloc[train_size:train_size+valid_size]).reshape(-1,1)\n",
    "\n",
    "#-- normalize data\n",
    "scaler = MinMaxScaler()\n",
    "scaler.fit(train_data)\n",
    "train_data_std = scaler.transform(train_data)\n",
    "valid_data_std = scaler.transform(valid_data)   \n",
    "# joblib.dump(scaler, os.path.join(log_dir, 'scaler.pkl'))\n",
    "\n",
    "#-- get dataloader\n",
    "train = pd.DataFrame(train_data_std)\n",
    "valid = pd.DataFrame(valid_data_std)\n",
    "\n",
    "train_dataset = WindowDataset(train, input_window, output_window)\n",
    "train_dataloader = DataLoader(train_dataset, batch_size)  \n",
    "\n",
    "valid_dataset = WindowDataset(valid, input_window, output_window)\n",
    "valid_dataloader = DataLoader(valid_dataset, batch_size)     \n",
    "\n"
   ]
  },
  {
   "cell_type": "code",
   "execution_count": 48,
   "metadata": {},
   "outputs": [],
   "source": [
    "x,y,z = next(iter(train_dataloader))"
   ]
  },
  {
   "cell_type": "code",
   "execution_count": 49,
   "metadata": {},
   "outputs": [
    {
     "data": {
      "text/plain": [
       "torch.Size([64, 90, 1])"
      ]
     },
     "execution_count": 49,
     "metadata": {},
     "output_type": "execute_result"
    }
   ],
   "source": [
    "x.shape"
   ]
  },
  {
   "cell_type": "code",
   "execution_count": 50,
   "metadata": {},
   "outputs": [
    {
     "data": {
      "text/plain": [
       "torch.Size([64, 28, 1])"
      ]
     },
     "execution_count": 50,
     "metadata": {},
     "output_type": "execute_result"
    }
   ],
   "source": [
    "y.shape"
   ]
  },
  {
   "cell_type": "code",
   "execution_count": 51,
   "metadata": {},
   "outputs": [
    {
     "data": {
      "text/plain": [
       "torch.Size([64, 28, 0])"
      ]
     },
     "execution_count": 51,
     "metadata": {},
     "output_type": "execute_result"
    }
   ],
   "source": [
    "z.shape"
   ]
  },
  {
   "cell_type": "code",
   "execution_count": 55,
   "metadata": {},
   "outputs": [],
   "source": [
    "target_len = 28\n",
    "input_window = 90\n",
    "target_feature = 'open'\n",
    "\n",
    "df_ = pd.read_csv('../dataset/upbit_ohlcv_1700.csv')\n",
    "\n",
    "real = df_[target_feature].to_numpy()\n",
    "pred = np.array(df_.iloc[-(input_window + target_len):-target_len, :][target_feature])\n",
    "pred = pred.reshape(-1,1)\n",
    "pred_std = scaler.transform(pred)"
   ]
  },
  {
   "cell_type": "code",
   "execution_count": 56,
   "metadata": {},
   "outputs": [
    {
     "data": {
      "text/plain": [
       "(90, 1)"
      ]
     },
     "execution_count": 56,
     "metadata": {},
     "output_type": "execute_result"
    }
   ],
   "source": [
    "pred_std.shape"
   ]
  },
  {
   "cell_type": "code",
   "execution_count": 58,
   "metadata": {},
   "outputs": [
    {
     "data": {
      "text/plain": [
       "torch.Size([90, 1])"
      ]
     },
     "execution_count": 58,
     "metadata": {},
     "output_type": "execute_result"
    }
   ],
   "source": [
    "torch.tensor(pred_std).shape"
   ]
  },
  {
   "cell_type": "code",
   "execution_count": null,
   "metadata": {},
   "outputs": [],
   "source": []
  },
  {
   "cell_type": "markdown",
   "metadata": {},
   "source": [
    "# Inference"
   ]
  },
  {
   "cell_type": "code",
   "execution_count": 101,
   "metadata": {},
   "outputs": [],
   "source": [
    "import pickle \n",
    "import joblib \n",
    "import matplotlib.pyplot as plt\n",
    "history = joblib.load('../logs/history.pkl')"
   ]
  },
  {
   "cell_type": "code",
   "execution_count": 102,
   "metadata": {},
   "outputs": [
    {
     "data": {
      "text/plain": [
       "3000"
      ]
     },
     "execution_count": 102,
     "metadata": {},
     "output_type": "execute_result"
    }
   ],
   "source": [
    "train_loss = history['train'][0]['train_loss']\n",
    "len(train_loss)"
   ]
  },
  {
   "cell_type": "code",
   "execution_count": 103,
   "metadata": {},
   "outputs": [
    {
     "data": {
      "text/plain": [
       "[<matplotlib.lines.Line2D at 0x28dd0787a90>]"
      ]
     },
     "execution_count": 103,
     "metadata": {},
     "output_type": "execute_result"
    },
    {
     "data": {
      "image/png": "[encoded data removed]",
      "text/plain": [
       "<Figure size 432x288 with 1 Axes>"
      ]
     },
     "metadata": {
      "needs_background": "light"
     },
     "output_type": "display_data"
    }
   ],
   "source": [
    "plt.plot(range(len(train_loss)), train_loss)"
   ]
  },
  {
   "cell_type": "code",
   "execution_count": 104,
   "metadata": {},
   "outputs": [
    {
     "data": {
      "text/plain": [
       "3000"
      ]
     },
     "execution_count": 104,
     "metadata": {},
     "output_type": "execute_result"
    }
   ],
   "source": [
    "valid_loss = history['valid'][0]['valid_loss']\n",
    "len(valid_loss)"
   ]
  },
  {
   "cell_type": "code",
   "execution_count": 105,
   "metadata": {},
   "outputs": [
    {
     "data": {
      "text/plain": [
       "[<matplotlib.lines.Line2D at 0x28dd07c92e0>]"
      ]
     },
     "execution_count": 105,
     "metadata": {},
     "output_type": "execute_result"
    },
    {
     "data": {
      "image/png": "[encoded data removed]",
      "text/plain": [
       "<Figure size 432x288 with 1 Axes>"
      ]
     },
     "metadata": {
      "needs_background": "light"
     },
     "output_type": "display_data"
    }
   ],
   "source": [
    "plt.plot(range(len(valid_loss)), valid_loss)"
   ]
  },
  {
   "cell_type": "code",
   "execution_count": null,
   "metadata": {},
   "outputs": [],
   "source": []
  },
  {
   "cell_type": "code",
   "execution_count": 106,
   "metadata": {},
   "outputs": [
    {
     "ename": "IndentationError",
     "evalue": "expected an indented block (920135153.py, line 3)",
     "output_type": "error",
     "traceback": [
      "\u001b[1;36m  Input \u001b[1;32mIn [106]\u001b[1;36m\u001b[0m\n\u001b[1;33m    def __init__(self, input_size, hidden_size, target_len):\u001b[0m\n\u001b[1;37m                                                            ^\u001b[0m\n\u001b[1;31mIndentationError\u001b[0m\u001b[1;31m:\u001b[0m expected an indented block\n"
     ]
    }
   ],
   "source": [
    "#-- Seq2Seq    \n",
    "class seq2seq(nn.Module):\n",
    "    def __init__(self, input_size, hidden_size, target_len):"
   ]
  },
  {
   "cell_type": "code",
   "execution_count": 107,
   "metadata": {},
   "outputs": [],
   "source": [
    "import joblib\n",
    "import sys\n",
    "sys.path.append('../')\n",
    "from model import *\n"
   ]
  },
  {
   "cell_type": "code",
   "execution_count": 108,
   "metadata": {},
   "outputs": [],
   "source": [
    "hidden_size = 32\n",
    "output_window=28\n",
    "input_window=90"
   ]
  },
  {
   "cell_type": "code",
   "execution_count": 109,
   "metadata": {},
   "outputs": [
    {
     "data": {
      "text/plain": [
       "<All keys matched successfully>"
      ]
     },
     "execution_count": 109,
     "metadata": {},
     "output_type": "execute_result"
    }
   ],
   "source": [
    "df = pd.read_csv('../dataset/upbit_ohlcv_1700.csv')\n",
    "\n",
    "scaler = joblib.load('../logs/scaler.pkl')\n",
    "\n",
    "pred = np.array(df.iloc[-(input_window + target_len):-target_len, :][target_feature])\n",
    "pred = pred.reshape(-1,1)\n",
    "pred_std = scaler.transform(pred)\n",
    "\n",
    "model = seq2seq(1, hidden_size, output_window)\n",
    "model.load_state_dict(torch.load('../logs/model.pth'))\n",
    "\n"
   ]
  },
  {
   "cell_type": "code",
   "execution_count": 110,
   "metadata": {},
   "outputs": [],
   "source": [
    "device = 'cuda'\n",
    "predict = model.predict(torch.tensor(pred_std).float())\n",
    "\n",
    "predict = scaler.inverse_transform(predict.reshape(-1,1))\n",
    "real = df[target_feature].to_numpy()"
   ]
  },
  {
   "cell_type": "code",
   "execution_count": 112,
   "metadata": {},
   "outputs": [
    {
     "data": {
      "image/png": "[encoded data removed]",
      "text/plain": [
       "<Figure size 432x288 with 1 Axes>"
      ]
     },
     "metadata": {
      "needs_background": "light"
     },
     "output_type": "display_data"
    }
   ],
   "source": [
    "plt.plot(range(100), real[-100:], label='real')\n",
    "plt.plot(range(100-target_len, 100), predict, label='predict')\n",
    "\n",
    "plt.legend()\n",
    "plt.show()"
   ]
  },
  {
   "cell_type": "code",
   "execution_count": 113,
   "metadata": {},
   "outputs": [
    {
     "data": {
      "text/plain": [
       "array([[31699700.],\n",
       "       [29295886.],\n",
       "       [27922362.],\n",
       "       [26869678.],\n",
       "       [26030520.],\n",
       "       [25349012.],\n",
       "       [24787026.],\n",
       "       [24317484.],\n",
       "       [23920712.],\n",
       "       [23582140.],\n",
       "       [23290792.],\n",
       "       [23038240.],\n",
       "       [22817936.],\n",
       "       [22624708.],\n",
       "       [22454414.],\n",
       "       [22303706.],\n",
       "       [22169844.],\n",
       "       [22050558.],\n",
       "       [21943964.],\n",
       "       [21848464.],\n",
       "       [21762718.],\n",
       "       [21685578.],\n",
       "       [21616052.],\n",
       "       [21553292.],\n",
       "       [21496558.],\n",
       "       [21445204.],\n",
       "       [21398670.],\n",
       "       [21356456.]], dtype=float32)"
      ]
     },
     "execution_count": 113,
     "metadata": {},
     "output_type": "execute_result"
    }
   ],
   "source": [
    "predict"
   ]
  },
  {
   "cell_type": "code",
   "execution_count": 114,
   "metadata": {},
   "outputs": [
    {
     "data": {
      "text/plain": [
       "array([49954000., 50580000., 49731000., 49283000., 49383000., 49501000.,\n",
       "       48772000., 50631000., 47650000., 47030000., 46507000., 44763000.,\n",
       "       41000000., 41044000., 40263000., 39246000., 39270000., 39967000.,\n",
       "       40902000., 39260000., 39260000., 37100000., 38781000., 37798000.,\n",
       "       38037000., 38933000., 37436000., 37827000.])"
      ]
     },
     "execution_count": 114,
     "metadata": {},
     "output_type": "execute_result"
    }
   ],
   "source": [
    "real[-28:]"
   ]
  },
  {
   "cell_type": "code",
   "execution_count": 115,
   "metadata": {},
   "outputs": [],
   "source": [
    "def MAPEval(y_pred, y_true):\n",
    "    return np.mean(np.abs((y_true - y_pred) / y_true)) * 100"
   ]
  },
  {
   "cell_type": "code",
   "execution_count": 116,
   "metadata": {},
   "outputs": [
    {
     "data": {
      "text/plain": [
       "45.25451699987933"
      ]
     },
     "execution_count": 116,
     "metadata": {},
     "output_type": "execute_result"
    }
   ],
   "source": [
    "MAPEval(predict, real[-28:].reshape(-1,1))"
   ]
  },
  {
   "cell_type": "code",
   "execution_count": null,
   "metadata": {},
   "outputs": [],
   "source": []
  }
 ],
 "metadata": {
  "interpreter": {
   "hash": "d67b72366f26532c5f661c017539146322738586d7661e09ffcd2c8ef92eec78"
  },
  "kernelspec": {
   "display_name": "Python 3.9.7 ('tobigs')",
   "language": "python",
   "name": "python3"
  },
  "language_info": {
   "codemirror_mode": {
    "name": "ipython",
    "version": 3
   },
   "file_extension": ".py",
   "mimetype": "text/x-python",
   "name": "python",
   "nbconvert_exporter": "python",
   "pygments_lexer": "ipython3",
   "version": "3.9.7"
  },
  "orig_nbformat": 4
 },
 "nbformat": 4,
 "nbformat_minor": 2
}
