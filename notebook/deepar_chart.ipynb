{
 "cells": [
  {
   "cell_type": "code",
   "execution_count": 1,
   "metadata": {},
   "outputs": [],
   "source": [
    "import torch \n",
    "from torch import nn\n",
    "import torch.nn.functional as F \n",
    "from torch.optim import Adam\n",
    "\n",
    "import numpy as np\n",
    "import os\n",
    "import random\n",
    "import matplotlib.pyplot as plt\n",
    "import pickle\n",
    "from tqdm import tqdm\n",
    "import pandas as pd\n",
    "from sklearn.preprocessing import StandardScaler\n",
    "# import util\n",
    "from datetime import date\n",
    "import argparse\n",
    "from progressbar import *\n",
    "import datetime"
   ]
  },
  {
   "cell_type": "markdown",
   "metadata": {},
   "source": [
    "## Config"
   ]
  },
  {
   "cell_type": "code",
   "execution_count": 2,
   "metadata": {},
   "outputs": [],
   "source": [
    "# config \n",
    "\n",
    "num_epochs = 100\n",
    "step_per_epoch = 3\n",
    "n_layers = 1\n",
    "likelihood = 'g'\n",
    "num_obs_to_train = 168\n",
    "embedding_size = 10\n",
    "hidden_size = 50\n",
    "seq_len = 60\n",
    "batch_size=64\n",
    "lr = 1e-3"
   ]
  },
  {
   "cell_type": "markdown",
   "metadata": {},
   "source": [
    "## Load Data"
   ]
  },
  {
   "cell_type": "code",
   "execution_count": 3,
   "metadata": {},
   "outputs": [],
   "source": [
    "from torch.utils.data import Dataset\n",
    "import torch\n",
    "from torch.utils import data\n",
    "from torch.utils.data import DataLoader\n",
    "class WindowDataset(Dataset):\n",
    "    '''\n",
    "    Build a custom dataset \n",
    "    \n",
    "    --Return--\n",
    "    \n",
    "    x: inputs\n",
    "    y: targets \n",
    "    z: features\n",
    "    ----------\n",
    "    \n",
    "    '''\n",
    "    \n",
    "    def __init__(self, data, input_window, output_window, stride=1):\n",
    "        # total data length \n",
    "        L = data.shape[0]\n",
    "        \n",
    "        # total number of samples with stride\n",
    "        num_samples = (L - input_window - output_window) // stride + 1\n",
    "        \n",
    "        # input, output \n",
    "        X = []\n",
    "        Y = []\n",
    "        Xf = []\n",
    "        Yf = []\n",
    "        \n",
    "        for i in range(num_samples):\n",
    "            start_x = stride*i\n",
    "            end_x = start_x + input_window \n",
    "            Y.append(data.iloc[start_x: end_x, 0].values)\n",
    "            X.append(data.iloc[start_x: end_x, 1:].values)\n",
    "            start_y = stride*i + input_window\n",
    "            end_y = start_y + output_window \n",
    "            Yf.append(data.iloc[start_y:end_y, 0].values)\n",
    "            Xf.append(data.iloc[start_y:end_y, 1:].values)\n",
    "            \n",
    "        self.X = X\n",
    "        self.Y = Y\n",
    "        self.Xf = Xf\n",
    "        self.Yf = Yf\n",
    "        \n",
    "        self.len = len(X)\n",
    "            \n",
    "    def __len__(self):\n",
    "        return self.len \n",
    "    \n",
    "    def __getitem__(self, idx):\n",
    "        X = torch.FloatTensor(self.X[idx])\n",
    "        Y = torch.FloatTensor(self.Y[idx])\n",
    "        Y = Y.unsqueeze(-1)\n",
    "        Xf = torch.FloatTensor(self.Xf[idx])\n",
    "        Yf = torch.FloatTensor(self.Yf[idx])\n",
    "        Yf = Yf.unsqueeze(-1)\n",
    "        \n",
    "        return X, Y, Xf, Yf"
   ]
  },
  {
   "cell_type": "code",
   "execution_count": 4,
   "metadata": {},
   "outputs": [],
   "source": [
    "data_path = '../dataset'\n",
    "\n",
    "data = pd.read_csv(os.path.join(data_path, \"upbit_ohlcv_1700.csv\"), parse_dates=[\"index\"])\n",
    "data.rename(columns={'index':'date'}, inplace=True)\n",
    "\n",
    "data['hour'] = data['date'].apply(lambda x: x.hour)\n",
    "data[\"year\"] = data[\"date\"].apply(lambda x: x.year)\n",
    "data[\"day_of_week\"] = data[\"date\"].apply(lambda x: x.dayofweek)\n",
    "\n",
    "features = [\"hour\", \"day_of_week\"]\n",
    "# # hours = pd.get_dummies(data[\"hour\"])\n",
    "# # dows = pd.get_dummies(data[\"day_of_week\"])\n",
    "hours = data[\"hour\"]\n",
    "dows = data[\"day_of_week\"]"
   ]
  },
  {
   "cell_type": "code",
   "execution_count": 5,
   "metadata": {},
   "outputs": [
    {
     "data": {
      "text/html": [
       "<div>\n",
       "<style scoped>\n",
       "    .dataframe tbody tr th:only-of-type {\n",
       "        vertical-align: middle;\n",
       "    }\n",
       "\n",
       "    .dataframe tbody tr th {\n",
       "        vertical-align: top;\n",
       "    }\n",
       "\n",
       "    .dataframe thead th {\n",
       "        text-align: right;\n",
       "    }\n",
       "</style>\n",
       "<table border=\"1\" class=\"dataframe\">\n",
       "  <thead>\n",
       "    <tr style=\"text-align: right;\">\n",
       "      <th></th>\n",
       "      <th>date</th>\n",
       "      <th>open</th>\n",
       "      <th>high</th>\n",
       "      <th>low</th>\n",
       "      <th>close</th>\n",
       "      <th>volume</th>\n",
       "      <th>value</th>\n",
       "      <th>hour</th>\n",
       "      <th>year</th>\n",
       "      <th>day_of_week</th>\n",
       "    </tr>\n",
       "  </thead>\n",
       "  <tbody>\n",
       "    <tr>\n",
       "      <th>0</th>\n",
       "      <td>2017-09-29 09:00:00+09:00</td>\n",
       "      <td>4586000.0</td>\n",
       "      <td>4709000.0</td>\n",
       "      <td>4476000.0</td>\n",
       "      <td>4657000.0</td>\n",
       "      <td>59.352373</td>\n",
       "      <td>2.724558e+08</td>\n",
       "      <td>9</td>\n",
       "      <td>2017</td>\n",
       "      <td>4</td>\n",
       "    </tr>\n",
       "    <tr>\n",
       "      <th>1</th>\n",
       "      <td>2017-09-30 09:00:00+09:00</td>\n",
       "      <td>4657000.0</td>\n",
       "      <td>4896000.0</td>\n",
       "      <td>4651000.0</td>\n",
       "      <td>4895000.0</td>\n",
       "      <td>19.998483</td>\n",
       "      <td>9.561476e+07</td>\n",
       "      <td>9</td>\n",
       "      <td>2017</td>\n",
       "      <td>5</td>\n",
       "    </tr>\n",
       "    <tr>\n",
       "      <th>2</th>\n",
       "      <td>2017-10-01 09:00:00+09:00</td>\n",
       "      <td>4889000.0</td>\n",
       "      <td>4978000.0</td>\n",
       "      <td>4682000.0</td>\n",
       "      <td>4962000.0</td>\n",
       "      <td>27.323332</td>\n",
       "      <td>1.331325e+08</td>\n",
       "      <td>9</td>\n",
       "      <td>2017</td>\n",
       "      <td>6</td>\n",
       "    </tr>\n",
       "    <tr>\n",
       "      <th>3</th>\n",
       "      <td>2017-10-02 09:00:00+09:00</td>\n",
       "      <td>4962000.0</td>\n",
       "      <td>5095000.0</td>\n",
       "      <td>4956000.0</td>\n",
       "      <td>5025000.0</td>\n",
       "      <td>31.728004</td>\n",
       "      <td>1.599315e+08</td>\n",
       "      <td>9</td>\n",
       "      <td>2017</td>\n",
       "      <td>0</td>\n",
       "    </tr>\n",
       "    <tr>\n",
       "      <th>4</th>\n",
       "      <td>2017-10-03 09:00:00+09:00</td>\n",
       "      <td>5021000.0</td>\n",
       "      <td>5079000.0</td>\n",
       "      <td>4811000.0</td>\n",
       "      <td>4964000.0</td>\n",
       "      <td>11.899307</td>\n",
       "      <td>5.890130e+07</td>\n",
       "      <td>9</td>\n",
       "      <td>2017</td>\n",
       "      <td>1</td>\n",
       "    </tr>\n",
       "  </tbody>\n",
       "</table>\n",
       "</div>"
      ],
      "text/plain": [
       "                       date       open       high        low      close  \\\n",
       "0 2017-09-29 09:00:00+09:00  4586000.0  4709000.0  4476000.0  4657000.0   \n",
       "1 2017-09-30 09:00:00+09:00  4657000.0  4896000.0  4651000.0  4895000.0   \n",
       "2 2017-10-01 09:00:00+09:00  4889000.0  4978000.0  4682000.0  4962000.0   \n",
       "3 2017-10-02 09:00:00+09:00  4962000.0  5095000.0  4956000.0  5025000.0   \n",
       "4 2017-10-03 09:00:00+09:00  5021000.0  5079000.0  4811000.0  4964000.0   \n",
       "\n",
       "      volume         value  hour  year  day_of_week  \n",
       "0  59.352373  2.724558e+08     9  2017            4  \n",
       "1  19.998483  9.561476e+07     9  2017            5  \n",
       "2  27.323332  1.331325e+08     9  2017            6  \n",
       "3  31.728004  1.599315e+08     9  2017            0  \n",
       "4  11.899307  5.890130e+07     9  2017            1  "
      ]
     },
     "execution_count": 5,
     "metadata": {},
     "output_type": "execute_result"
    }
   ],
   "source": [
    "data.head()"
   ]
  },
  {
   "cell_type": "code",
   "execution_count": 6,
   "metadata": {},
   "outputs": [],
   "source": [
    "# scaler\n",
    "\n",
    "class MeanScaler:\n",
    "    \n",
    "    def fit_transform(self, y):\n",
    "        self.mean = np.mean(y)\n",
    "        return y / self.mean\n",
    "    \n",
    "    def inverse_transform(self, y):\n",
    "        return y * self.mean\n",
    "\n",
    "    def transform(self, y):\n",
    "        return y / self.mean"
   ]
  },
  {
   "cell_type": "markdown",
   "metadata": {},
   "source": [
    "## Model"
   ]
  },
  {
   "cell_type": "code",
   "execution_count": 7,
   "metadata": {},
   "outputs": [],
   "source": [
    "class Gaussian(nn.Module):\n",
    "\n",
    "    def __init__(self, hidden_size, output_size):\n",
    "        '''\n",
    "        Gaussian Likelihood Supports Continuous Data\n",
    "        Args:\n",
    "        input_size (int): hidden h_{i,t} column size\n",
    "        output_size (int): embedding size\n",
    "        '''\n",
    "        super(Gaussian, self).__init__()\n",
    "        self.mu_layer = nn.Linear(hidden_size, output_size)\n",
    "        self.sigma_layer = nn.Linear(hidden_size, output_size)\n",
    "\n",
    "        # initialize weights\n",
    "        # nn.init.xavier_uniform_(self.mu_layer.weight)\n",
    "        # nn.init.xavier_uniform_(self.sigma_layer.weight)\n",
    "    \n",
    "    def forward(self, h):\n",
    "        _, hidden_size = h.size()\n",
    "        sigma_t = torch.log(1 + torch.exp(self.sigma_layer(h))) + 1e-6\n",
    "        sigma_t = sigma_t.squeeze(0)\n",
    "        mu_t = self.mu_layer(h).squeeze(0)\n",
    "        return mu_t, sigma_t\n",
    "\n",
    "def gaussian_sample(mu, sigma):\n",
    "    '''\n",
    "    Gaussian Sample\n",
    "    Args:\n",
    "    ytrue (array like)\n",
    "    mu (array like)\n",
    "    sigma (array like): standard deviation\n",
    "    gaussian maximum likelihood using log \n",
    "        l_{G} (z|mu, sigma) = (2 * pi * sigma^2)^(-0.5) * exp(- (z - mu)^2 / (2 * sigma^2))\n",
    "    '''\n",
    "    # likelihood = (2 * np.pi * sigma ** 2) ** (-0.5) * \\\n",
    "    #         torch.exp((- (ytrue - mu) ** 2) / (2 * sigma ** 2))\n",
    "    # return likelihood\n",
    "    gaussian = torch.distributions.normal.Normal(mu, sigma)\n",
    "    ypred = gaussian.sample()\n",
    "    if ypred.dim() == 1:\n",
    "        ypred = ypred.unsqueeze(0)\n",
    "    return ypred\n",
    "\n",
    "def gaussian_likelihood_loss(z, mu, sigma):\n",
    "    '''\n",
    "    Gaussian Liklihood Loss\n",
    "    Args:\n",
    "    z (tensor): true observations, shape (num_ts, num_periods)\n",
    "    mu (tensor): mean, shape (num_ts, num_periods)\n",
    "    sigma (tensor): standard deviation, shape (num_ts, num_periods)\n",
    "    likelihood: \n",
    "    (2 pi sigma^2)^(-1/2) exp(-(z - mu)^2 / (2 sigma^2))\n",
    "    log likelihood:\n",
    "    -1/2 * (log (2 pi) + 2 * log (sigma)) - (z - mu)^2 / (2 sigma^2)\n",
    "    '''\n",
    "    negative_likelihood = torch.log(sigma + 1) + (z - mu) ** 2 / (2 * sigma ** 2) + 6\n",
    "    return negative_likelihood.mean()"
   ]
  },
  {
   "cell_type": "code",
   "execution_count": 8,
   "metadata": {},
   "outputs": [],
   "source": [
    "class DeepAR(nn.Module):\n",
    "\n",
    "    def __init__(self, input_size, embedding_size, hidden_size, num_layers, lr=1e-3, likelihood=\"g\"):\n",
    "        super(DeepAR, self).__init__()\n",
    "\n",
    "        # network\n",
    "        self.input_embed = nn.Linear(1, embedding_size)\n",
    "        self.encoder = nn.LSTM(embedding_size+input_size, hidden_size, \\\n",
    "                num_layers, bias=True, batch_first=True)\n",
    "        if likelihood == \"g\":\n",
    "            self.likelihood_layer = Gaussian(hidden_size, 1)\n",
    "\n",
    "        self.likelihood = likelihood\n",
    "\n",
    "    def forward(self, X, y, Xf):\n",
    "        num_ts, seq_len, _ = X.size() # 64, 168, 2\n",
    "        _, output_horizon, num_features = Xf.size() # 64, 60, 2\n",
    "\n",
    "        ynext = None\n",
    "        ypred = []\n",
    "        mus = []\n",
    "        sigmas = []       \n",
    "        h, c = None, None\n",
    "        for s in range(seq_len + output_horizon):\n",
    "            if s < seq_len:\n",
    "                ynext = y[:, s].view(-1, 1) # (batch_size, 1) \n",
    "                yembed = self.input_embed(ynext).view(num_ts, -1) # (batch_size, embed_size)\n",
    "                x = X[:, s, :].view(num_ts, -1) # (batch_size, num_feature)\n",
    "            else:\n",
    "                yembed = self.input_embed(ynext).view(num_ts, -1) # (batch_size, embed_size)\n",
    "                x = Xf[:, s-seq_len, :].view(num_ts, -1) # (batch_size, num_feature)\n",
    "            x = torch.cat([x, yembed], dim=1) # (batch_size, num_feature+embed_size)\n",
    "            inp = x.unsqueeze(1) # (batch_size, 1, num_feature+embed_size)\n",
    "            if h is None and c is None:\n",
    "                out, (h, c) = self.encoder(inp) # h size (num_layers, num_ts, hidden_size)\n",
    "            else:\n",
    "                out, (h, c) = self.encoder(inp, (h, c))\n",
    "\n",
    "            hs = h[-1, :, :] # (batch_size, hidden_size)\n",
    "            hs = F.relu(hs)\n",
    "            mu, sigma = self.likelihood_layer(hs)\n",
    "            mus.append(mu.view(-1, 1))\n",
    "            sigmas.append(sigma.view(-1, 1))\n",
    "            if self.likelihood == 'g':\n",
    "                ynext = gaussian_sample(mu, sigma)\n",
    "\n",
    "            if s >= seq_len - 1 and s < output_horizon + seq_len - 1:\n",
    "                ypred.append(ynext)\n",
    "                \n",
    "        ypred = torch.cat(ypred, dim=1).view(num_ts, -1)\n",
    "        mu = torch.cat(mus, dim=1).view(num_ts, -1)\n",
    "        sigma = torch.cat(sigmas, dim=1).view(num_ts, -1)\n",
    "        return ypred, mu, sigma   \n",
    "        "
   ]
  },
  {
   "cell_type": "markdown",
   "metadata": {},
   "source": [
    "## Train"
   ]
  },
  {
   "cell_type": "code",
   "execution_count": 9,
   "metadata": {},
   "outputs": [],
   "source": [
    "def MAPE(ytrue, ypred):\n",
    "    ytrue = np.array(ytrue).ravel() + 1e-4\n",
    "    ypred = np.array(ypred).ravel()\n",
    "    return np.mean(np.abs((ytrue - ypred) \\\n",
    "        / ytrue))"
   ]
  },
  {
   "cell_type": "code",
   "execution_count": 10,
   "metadata": {},
   "outputs": [],
   "source": [
    "def train(data):\n",
    "    # num_ts, num_periods, num_features = X.shape\n",
    "    model = DeepAR(2, embedding_size, \n",
    "        hidden_size, n_layers)\n",
    "\n",
    "    optimizer = Adam(model.parameters(), lr=lr)\n",
    "    random.seed(42)\n",
    "    \n",
    "    losses = []\n",
    "    cnt = 0\n",
    "\n",
    "    # train / test split\n",
    "    train_periods = int(data.shape[0] * 0.8)\n",
    "\n",
    "    data_tr = data.iloc[:train_periods, :]\n",
    "    data_te = data.iloc[train_periods:, :]\n",
    "\n",
    "    data_tr = data_tr[['open','hour','day_of_week']]\n",
    "    data_tr.reset_index(drop=True, inplace=True)\n",
    "\n",
    "    data_te = data_te[['open','hour','day_of_week']]\n",
    "    data_te.reset_index(drop=True, inplace=True)\n",
    "    \n",
    "    yscaler = MeanScaler()\n",
    "    tmp = yscaler.fit_transform(data_tr['open'])\n",
    "    data_tr['open'] = tmp\n",
    "\n",
    "    custom_dataset = WindowDataset(data_tr, 168, 60)\n",
    "    train_dataloader = DataLoader(custom_dataset, batch_size) \n",
    "\n",
    "    #-- train\n",
    "    progress = ProgressBar()\n",
    "\n",
    "    for epoch in progress(range(num_epochs)):\n",
    "        for X, Y, Xf, Yf in train_dataloader:\n",
    "            ypred, mu, sigma = model(X, Y, Xf)\n",
    "            ytrain_tensor = torch.cat([Y, Yf], dim=1)\n",
    "            z = ytrain_tensor.squeeze(2)\n",
    "            loss = gaussian_likelihood_loss(z, mu, sigma)\n",
    "            losses.append(loss.item())\n",
    "            optimizer.zero_grad()\n",
    "            loss.backward()\n",
    "            optimizer.step()\n",
    "            cnt += 1\n",
    "\n",
    "    #-- test \n",
    "    mape_list = []\n",
    "\n",
    "    tmp = yscaler.transform(data_te['open'])\n",
    "    data_te['open'] = tmp\n",
    "\n",
    "    custom_dataset = WindowDataset(data_te, 168, 60)\n",
    "    test_dataloader = DataLoader(custom_dataset, 1)   \n",
    "\n",
    "    X_te, Y_te, Xf_te, Yf_te = next(iter(test_dataloader))  \n",
    "\n",
    "    n_samples = 100\n",
    "    result = []\n",
    "    for _ in tqdm(range(n_samples)):\n",
    "        y_pred, _, _ = model(X_te, Y_te, Xf_te)\n",
    "        y_pred = y_pred.data.numpy()\n",
    "        y_pred = yscaler.inverse_transform(y_pred)\n",
    "\n",
    "        result.append(y_pred.reshape((-1,1)))\n",
    "\n",
    "    result = np.concatenate(result, axis=1)\n",
    "    p50 = np.quantile(result, 0.5, axis=1)\n",
    "    p60 = np.quantile(result, 0.6, axis=1)\n",
    "    p40 = np.quantile(result, 0.4, axis=1)   \n",
    "\n",
    "    mape = MAPE(Yf_te, p50)\n",
    "    print(\"P50 MAPE: {}\".format(mape))\n",
    "    mape_list.append(mape)    \n",
    "\n",
    "    Y_total = torch.concat([Y_te, Yf_te], dim=1)\n",
    "    Y_total = yscaler.inverse_transform(Y_total.data.numpy())\n",
    "    plt.figure(1, figsize=(20, 5))\n",
    "    plt.plot([k + seq_len + num_obs_to_train - seq_len \\\n",
    "        for k in range(seq_len)], p50, \"r-\")\n",
    "    plt.fill_between(x=[k + seq_len + num_obs_to_train - seq_len for k in range(seq_len)], \\\n",
    "        y1=p40, y2=p60, alpha=0.5)\n",
    "    plt.title('Prediction uncertainty')\n",
    "    yplot = Y_total[-1, -seq_len-num_obs_to_train:]\n",
    "    plt.plot(range(len(yplot)), yplot, \"k-\")\n",
    "    plt.legend([\"P50 forecast\", \"P40-P60 quantile\", \"true\"], loc=\"upper left\")\n",
    "    ymin, ymax = plt.ylim()\n",
    "    plt.vlines(seq_len + num_obs_to_train - seq_len, ymin, ymax, color=\"blue\", linestyles=\"dashed\", linewidth=2)\n",
    "    plt.ylim(ymin, ymax)\n",
    "    plt.xlabel(\"Periods\")\n",
    "    plt.ylabel(\"Y\")\n",
    "    # plt.show()\n",
    "    plt.savefig(f'../img/deepar_pred.png')\n",
    "\n",
    "    return losses, mape_list \n"
   ]
  },
  {
   "cell_type": "code",
   "execution_count": 12,
   "metadata": {},
   "outputs": [
    {
     "name": "stderr",
     "output_type": "stream",
     "text": [
      "100% |########################################################################|\n",
      "100%|██████████| 100/100 [00:11<00:00,  8.76it/s]\n"
     ]
    },
    {
     "name": "stdout",
     "output_type": "stream",
     "text": [
      "P50 MAPE: 18946224.90236561\n"
     ]
    },
    {
     "data": {
      "image/png": "[encoded data removed]",
      "text/plain": [
       "<Figure size 1440x360 with 1 Axes>"
      ]
     },
     "metadata": {
      "needs_background": "light"
     },
     "output_type": "display_data"
    }
   ],
   "source": [
    "losses, mape_list = train(data)"
   ]
  },
  {
   "cell_type": "code",
   "execution_count": 13,
   "metadata": {},
   "outputs": [
    {
     "data": {
      "text/plain": [
       "[18946224.90236561]"
      ]
     },
     "execution_count": 13,
     "metadata": {},
     "output_type": "execute_result"
    }
   ],
   "source": [
    "mape_list"
   ]
  },
  {
   "cell_type": "code",
   "execution_count": 14,
   "metadata": {},
   "outputs": [
    {
     "data": {
      "text/plain": [
       "[<matplotlib.lines.Line2D at 0x1899f9f00a0>]"
      ]
     },
     "execution_count": 14,
     "metadata": {},
     "output_type": "execute_result"
    },
    {
     "data": {
      "image/png": "[encoded data removed]",
      "text/plain": [
       "<Figure size 432x288 with 1 Axes>"
      ]
     },
     "metadata": {
      "needs_background": "light"
     },
     "output_type": "display_data"
    }
   ],
   "source": [
    "plt.plot(range(len(losses)), losses, \"k-\")"
   ]
  },
  {
   "cell_type": "code",
   "execution_count": null,
   "metadata": {},
   "outputs": [],
   "source": []
  }
 ],
 "metadata": {
  "interpreter": {
   "hash": "d67b72366f26532c5f661c017539146322738586d7661e09ffcd2c8ef92eec78"
  },
  "kernelspec": {
   "display_name": "Python 3.9.7 ('tobigs')",
   "language": "python",
   "name": "python3"
  },
  "language_info": {
   "codemirror_mode": {
    "name": "ipython",
    "version": 3
   },
   "file_extension": ".py",
   "mimetype": "text/x-python",
   "name": "python",
   "nbconvert_exporter": "python",
   "pygments_lexer": "ipython3",
   "version": "3.9.7"
  },
  "orig_nbformat": 4
 },
 "nbformat": 4,
 "nbformat_minor": 2
}
