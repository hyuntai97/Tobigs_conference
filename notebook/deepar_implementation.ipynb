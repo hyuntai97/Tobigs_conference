{
 "cells": [
  {
   "cell_type": "code",
   "execution_count": 1,
   "metadata": {},
   "outputs": [],
   "source": [
    "import torch \n",
    "from torch import nn\n",
    "import torch.nn.functional as F \n",
    "from torch.optim import Adam\n",
    "\n",
    "import numpy as np\n",
    "import os\n",
    "import random\n",
    "import matplotlib.pyplot as plt\n",
    "import pickle\n",
    "from tqdm import tqdm\n",
    "import pandas as pd\n",
    "from sklearn.preprocessing import StandardScaler\n",
    "# import util\n",
    "from datetime import date\n",
    "import argparse\n",
    "from progressbar import *\n",
    "import datetime"
   ]
  },
  {
   "cell_type": "code",
   "execution_count": 2,
   "metadata": {},
   "outputs": [],
   "source": [
    "# ! pip install progressbar"
   ]
  },
  {
   "cell_type": "markdown",
   "metadata": {},
   "source": [
    "## Config"
   ]
  },
  {
   "cell_type": "code",
   "execution_count": 3,
   "metadata": {},
   "outputs": [],
   "source": [
    "# config \n",
    "\n",
    "num_epochs = 100\n",
    "step_per_epoch = 3\n",
    "n_layers = 1\n",
    "likelihood = 'g'\n",
    "num_obs_to_train = 168\n",
    "embedding_size = 10\n",
    "hidden_size = 50\n",
    "seq_len = 60\n",
    "batch_size=64"
   ]
  },
  {
   "cell_type": "markdown",
   "metadata": {},
   "source": [
    "## Load data"
   ]
  },
  {
   "cell_type": "code",
   "execution_count": 10,
   "metadata": {},
   "outputs": [],
   "source": [
    "data_path = '../dataset'\n",
    "\n",
    "data = pd.read_csv(os.path.join(data_path, \"LD_MT200_hour.csv\"), parse_dates=[\"date\"])\n",
    "data[\"year\"] = data[\"date\"].apply(lambda x: x.year)\n",
    "data[\"day_of_week\"] = data[\"date\"].apply(lambda x: x.dayofweek)\n",
    "data = data.loc[(data[\"date\"] >= pd.to_datetime('2014, 1, 1')) & (data[\"date\"] <= pd.to_datetime('2014, 3, 1'))]\n",
    "\n",
    "features = [\"hour\", \"day_of_week\"]\n",
    "# hours = pd.get_dummies(data[\"hour\"])\n",
    "# dows = pd.get_dummies(data[\"day_of_week\"])\n",
    "hours = data[\"hour\"]\n",
    "dows = data[\"day_of_week\"]"
   ]
  },
  {
   "cell_type": "code",
   "execution_count": 6,
   "metadata": {},
   "outputs": [],
   "source": [
    "def train_test_split(X, y, train_ratio=0.7):\n",
    "    num_ts, num_periods, num_features = X.shape\n",
    "    train_periods = int(num_periods * train_ratio)\n",
    "    random.seed(2)\n",
    "    Xtr = X[:, :train_periods, :]\n",
    "    ytr = y[:, :train_periods]\n",
    "    Xte = X[:, train_periods:, :]\n",
    "    yte = y[:, train_periods:]\n",
    "    return Xtr, ytr, Xte, yte"
   ]
  },
  {
   "cell_type": "code",
   "execution_count": 7,
   "metadata": {},
   "outputs": [],
   "source": [
    "def batch_generator(X, y, num_obs_to_train, seq_len, batch_size):\n",
    "    '''\n",
    "    Args:\n",
    "    X (array like): shape (num_samples, num_features, num_periods)\n",
    "    y (array like): shape (num_samples, num_periods)\n",
    "    num_obs_to_train (int):\n",
    "    seq_len (int): sequence/encoder/decoder length\n",
    "    batch_size (int)\n",
    "    '''\n",
    "    num_ts, num_periods, _ = X.shape\n",
    "    if num_ts < batch_size:\n",
    "        batch_size = num_ts\n",
    "    t = random.choice(range(num_obs_to_train, num_periods-seq_len))\n",
    "    batch = random.sample(range(num_ts), batch_size)\n",
    "    X_train_batch = X[batch, t-num_obs_to_train:t, :]\n",
    "    y_train_batch = y[batch, t-num_obs_to_train:t]\n",
    "    Xf = X[batch, t:t+seq_len]\n",
    "    yf = y[batch, t:t+seq_len]\n",
    "    return X_train_batch, y_train_batch, Xf, yf"
   ]
  },
  {
   "cell_type": "code",
   "execution_count": 8,
   "metadata": {},
   "outputs": [],
   "source": [
    "from torch.utils.data import Dataset\n",
    "import torch\n",
    "from torch.utils import data\n",
    "from torch.utils.data import DataLoader\n",
    "class WindowDataset(Dataset):\n",
    "    '''\n",
    "    Build a custom dataset \n",
    "    \n",
    "    --Return--\n",
    "    \n",
    "    x: inputs\n",
    "    y: targets \n",
    "    z: features\n",
    "    ----------\n",
    "    \n",
    "    '''\n",
    "    \n",
    "    def __init__(self, data, input_window, output_window, stride=1):\n",
    "        # total data length \n",
    "        L = data.shape[0]\n",
    "        \n",
    "        # total number of samples with stride\n",
    "        num_samples = (L - input_window - output_window) // stride + 1\n",
    "        \n",
    "        # input, output \n",
    "        X = []\n",
    "        Y = []\n",
    "        Xf = []\n",
    "        Yf = []\n",
    "        \n",
    "        for i in range(num_samples):\n",
    "            start_x = stride*i\n",
    "            end_x = start_x + input_window \n",
    "            Y.append(data.iloc[start_x: end_x, 0].values)\n",
    "            X.append(data.iloc[start_x: end_x, 1:].values)\n",
    "            start_y = stride*i + input_window\n",
    "            end_y = start_y + output_window \n",
    "            Yf.append(data.iloc[start_y:end_y, 0].values)\n",
    "            Xf.append(data.iloc[start_y:end_y, 1:].values)\n",
    "            \n",
    "        self.X = X\n",
    "        self.Y = Y\n",
    "        self.Xf = Xf\n",
    "        self.Yf = Yf\n",
    "        \n",
    "        self.len = len(X)\n",
    "            \n",
    "    def __len__(self):\n",
    "        return self.len \n",
    "    \n",
    "    def __getitem__(self, idx):\n",
    "        X = torch.FloatTensor(self.X[idx])\n",
    "        Y = torch.FloatTensor(self.Y[idx])\n",
    "        Y = Y.unsqueeze(-1)\n",
    "        Xf = torch.FloatTensor(self.Xf[idx])\n",
    "        Yf = torch.FloatTensor(self.Yf[idx])\n",
    "        Yf = Yf.unsqueeze(-1)\n",
    "        \n",
    "        return X, Y, Xf, Yf"
   ]
  },
  {
   "cell_type": "code",
   "execution_count": 41,
   "metadata": {},
   "outputs": [
    {
     "data": {
      "text/plain": [
       "(1440, 3)"
      ]
     },
     "execution_count": 41,
     "metadata": {},
     "output_type": "execute_result"
    }
   ],
   "source": [
    "data.shape"
   ]
  },
  {
   "cell_type": "code",
   "execution_count": 42,
   "metadata": {},
   "outputs": [
    {
     "data": {
      "text/plain": [
       "1152"
      ]
     },
     "execution_count": 42,
     "metadata": {},
     "output_type": "execute_result"
    }
   ],
   "source": [
    "train_periods = int(data.shape[0] * 0.8)\n",
    "train_periods"
   ]
  },
  {
   "cell_type": "code",
   "execution_count": 43,
   "metadata": {},
   "outputs": [],
   "source": [
    "data_tr = data.iloc[:train_periods, :]\n",
    "data_te = data.iloc[train_periods:, :]"
   ]
  },
  {
   "cell_type": "code",
   "execution_count": 44,
   "metadata": {},
   "outputs": [
    {
     "data": {
      "text/plain": [
       "(1152, 3)"
      ]
     },
     "execution_count": 44,
     "metadata": {},
     "output_type": "execute_result"
    }
   ],
   "source": [
    "data_tr.shape"
   ]
  },
  {
   "cell_type": "code",
   "execution_count": 45,
   "metadata": {},
   "outputs": [
    {
     "data": {
      "text/plain": [
       "(288, 3)"
      ]
     },
     "execution_count": 45,
     "metadata": {},
     "output_type": "execute_result"
    }
   ],
   "source": [
    "data_te.shape"
   ]
  },
  {
   "cell_type": "code",
   "execution_count": 46,
   "metadata": {},
   "outputs": [],
   "source": [
    "data_tr = data_tr[['MT_200','hour','day_of_week']]\n",
    "data_tr.reset_index(drop=True, inplace=True)"
   ]
  },
  {
   "cell_type": "code",
   "execution_count": 47,
   "metadata": {},
   "outputs": [],
   "source": [
    "custom_dataset = WindowDataset(data_tr, 168, 60)\n",
    "dataloader = DataLoader(custom_dataset, batch_size)  \n",
    "X, Y, Xf, Yf = next(iter(dataloader))"
   ]
  },
  {
   "cell_type": "code",
   "execution_count": 48,
   "metadata": {},
   "outputs": [
    {
     "data": {
      "text/plain": [
       "torch.Size([64, 168, 2])"
      ]
     },
     "execution_count": 48,
     "metadata": {},
     "output_type": "execute_result"
    }
   ],
   "source": [
    "X.shape"
   ]
  },
  {
   "cell_type": "code",
   "execution_count": 49,
   "metadata": {},
   "outputs": [
    {
     "data": {
      "text/plain": [
       "torch.Size([64, 168, 1])"
      ]
     },
     "execution_count": 49,
     "metadata": {},
     "output_type": "execute_result"
    }
   ],
   "source": [
    "Y.shape"
   ]
  },
  {
   "cell_type": "code",
   "execution_count": 50,
   "metadata": {},
   "outputs": [
    {
     "data": {
      "text/plain": [
       "torch.Size([64, 60, 2])"
      ]
     },
     "execution_count": 50,
     "metadata": {},
     "output_type": "execute_result"
    }
   ],
   "source": [
    "Xf.shape"
   ]
  },
  {
   "cell_type": "code",
   "execution_count": 51,
   "metadata": {},
   "outputs": [
    {
     "data": {
      "text/plain": [
       "torch.Size([64, 60, 1])"
      ]
     },
     "execution_count": 51,
     "metadata": {},
     "output_type": "execute_result"
    }
   ],
   "source": [
    "Yf.shape"
   ]
  },
  {
   "cell_type": "code",
   "execution_count": 180,
   "metadata": {},
   "outputs": [],
   "source": [
    "class Gaussian(nn.Module):\n",
    "\n",
    "    def __init__(self, hidden_size, output_size):\n",
    "        '''\n",
    "        Gaussian Likelihood Supports Continuous Data\n",
    "        Args:\n",
    "        input_size (int): hidden h_{i,t} column size\n",
    "        output_size (int): embedding size\n",
    "        '''\n",
    "        super(Gaussian, self).__init__()\n",
    "        self.mu_layer = nn.Linear(hidden_size, output_size)\n",
    "        self.sigma_layer = nn.Linear(hidden_size, output_size)\n",
    "\n",
    "        # initialize weights\n",
    "        # nn.init.xavier_uniform_(self.mu_layer.weight)\n",
    "        # nn.init.xavier_uniform_(self.sigma_layer.weight)\n",
    "    \n",
    "    def forward(self, h):\n",
    "        _, hidden_size = h.size()\n",
    "        sigma_t = torch.log(1 + torch.exp(self.sigma_layer(h))) + 1e-6\n",
    "        sigma_t = sigma_t.squeeze(0)\n",
    "        mu_t = self.mu_layer(h).squeeze(0)\n",
    "        return mu_t, sigma_t\n",
    "\n",
    "def gaussian_sample(mu, sigma):\n",
    "    '''\n",
    "    Gaussian Sample\n",
    "    Args:\n",
    "    ytrue (array like)\n",
    "    mu (array like)\n",
    "    sigma (array like): standard deviation\n",
    "    gaussian maximum likelihood using log \n",
    "        l_{G} (z|mu, sigma) = (2 * pi * sigma^2)^(-0.5) * exp(- (z - mu)^2 / (2 * sigma^2))\n",
    "    '''\n",
    "    # likelihood = (2 * np.pi * sigma ** 2) ** (-0.5) * \\\n",
    "    #         torch.exp((- (ytrue - mu) ** 2) / (2 * sigma ** 2))\n",
    "    # return likelihood\n",
    "    gaussian = torch.distributions.normal.Normal(mu, sigma)\n",
    "    ypred = gaussian.sample()\n",
    "    if ypred.dim() == 1:\n",
    "        ypred = ypred.unsqueeze(0)\n",
    "    return ypred\n",
    "\n",
    "def gaussian_likelihood_loss(z, mu, sigma):\n",
    "    '''\n",
    "    Gaussian Liklihood Loss\n",
    "    Args:\n",
    "    z (tensor): true observations, shape (num_ts, num_periods)\n",
    "    mu (tensor): mean, shape (num_ts, num_periods)\n",
    "    sigma (tensor): standard deviation, shape (num_ts, num_periods)\n",
    "    likelihood: \n",
    "    (2 pi sigma^2)^(-1/2) exp(-(z - mu)^2 / (2 sigma^2))\n",
    "    log likelihood:\n",
    "    -1/2 * (log (2 pi) + 2 * log (sigma)) - (z - mu)^2 / (2 sigma^2)\n",
    "    '''\n",
    "    negative_likelihood = torch.log(sigma + 1) + (z - mu) ** 2 / (2 * sigma ** 2) + 6\n",
    "    return negative_likelihood.mean()"
   ]
  },
  {
   "cell_type": "code",
   "execution_count": 181,
   "metadata": {},
   "outputs": [],
   "source": [
    "class DeepAR(nn.Module):\n",
    "\n",
    "    def __init__(self, input_size, embedding_size, hidden_size, num_layers, lr=1e-3, likelihood=\"g\"):\n",
    "        super(DeepAR, self).__init__()\n",
    "\n",
    "        # network\n",
    "        self.input_embed = nn.Linear(1, embedding_size)\n",
    "        self.encoder = nn.LSTM(embedding_size+input_size, hidden_size, \\\n",
    "                num_layers, bias=True, batch_first=True)\n",
    "        if likelihood == \"g\":\n",
    "            self.likelihood_layer = Gaussian(hidden_size, 1)\n",
    "\n",
    "        self.likelihood = likelihood\n",
    "\n",
    "    def forward(self, X, y, Xf):\n",
    "        num_ts, seq_len, _ = X.size() # 64, 168, 2\n",
    "        _, output_horizon, num_features = Xf.size() # 64, 60, 2\n",
    "\n",
    "        ynext = None\n",
    "        ypred = []\n",
    "        mus = []\n",
    "        sigmas = []       \n",
    "        h, c = None, None\n",
    "        for s in range(seq_len + output_horizon):\n",
    "            if s < seq_len:\n",
    "                ynext = y[:, s].view(-1, 1) # (batch_size, 1) \n",
    "                yembed = self.input_embed(ynext).view(num_ts, -1) # (batch_size, embed_size)\n",
    "                x = X[:, s, :].view(num_ts, -1) # (batch_size, num_feature)\n",
    "            else:\n",
    "                yembed = self.input_embed(ynext).view(num_ts, -1) # (batch_size, embed_size)\n",
    "                x = Xf[:, s-seq_len, :].view(num_ts, -1) # (batch_size, num_feature)\n",
    "            x = torch.cat([x, yembed], dim=1) # (batch_size, num_feature+embed_size)\n",
    "            inp = x.unsqueeze(1) # (batch_size, 1, num_feature+embed_size)\n",
    "            if h is None and c is None:\n",
    "                out, (h, c) = self.encoder(inp) # h size (num_layers, num_ts, hidden_size)\n",
    "            else:\n",
    "                out, (h, c) = self.encoder(inp, (h, c))\n",
    "\n",
    "            hs = h[-1, :, :] # (batch_size, hidden_size)\n",
    "            hs = F.relu(hs)\n",
    "            mu, sigma = self.likelihood_layer(hs)\n",
    "            mus.append(mu.view(-1, 1))\n",
    "            sigmas.append(sigma.view(-1, 1))\n",
    "            if self.likelihood == 'g':\n",
    "                ynext = gaussian_sample(mu, sigma)\n",
    "\n",
    "            if s >= seq_len - 1 and s < output_horizon + seq_len - 1:\n",
    "                ypred.append(ynext)\n",
    "                \n",
    "        ypred = torch.cat(ypred, dim=1).view(num_ts, -1)\n",
    "        mu = torch.cat(mus, dim=1).view(num_ts, -1)\n",
    "        sigma = torch.cat(sigmas, dim=1).view(num_ts, -1)\n",
    "        return ypred, mu, sigma   \n",
    "        "
   ]
  },
  {
   "cell_type": "code",
   "execution_count": 182,
   "metadata": {},
   "outputs": [],
   "source": [
    "model = DeepAR(2, embedding_size, hidden_size, n_layers)"
   ]
  },
  {
   "cell_type": "code",
   "execution_count": 146,
   "metadata": {},
   "outputs": [],
   "source": [
    "ypred, mu, sigma = model(X, Y, Xf)"
   ]
  },
  {
   "cell_type": "code",
   "execution_count": 147,
   "metadata": {},
   "outputs": [
    {
     "data": {
      "text/plain": [
       "torch.Size([64, 60])"
      ]
     },
     "execution_count": 147,
     "metadata": {},
     "output_type": "execute_result"
    }
   ],
   "source": [
    "ypred.shape"
   ]
  },
  {
   "cell_type": "code",
   "execution_count": 148,
   "metadata": {},
   "outputs": [
    {
     "data": {
      "text/plain": [
       "torch.Size([64, 228])"
      ]
     },
     "execution_count": 148,
     "metadata": {},
     "output_type": "execute_result"
    }
   ],
   "source": [
    "mu.shape"
   ]
  },
  {
   "cell_type": "code",
   "execution_count": 149,
   "metadata": {},
   "outputs": [
    {
     "data": {
      "text/plain": [
       "torch.Size([64, 228])"
      ]
     },
     "execution_count": 149,
     "metadata": {},
     "output_type": "execute_result"
    }
   ],
   "source": [
    "sigma.shape"
   ]
  },
  {
   "cell_type": "code",
   "execution_count": 150,
   "metadata": {},
   "outputs": [],
   "source": [
    "def gaussian_likelihood_loss(z, mu, sigma):\n",
    "    '''\n",
    "    Gaussian Liklihood Loss\n",
    "    Args:\n",
    "    z (tensor): true observations, shape (num_ts, num_periods)\n",
    "    mu (tensor): mean, shape (num_ts, num_periods)\n",
    "    sigma (tensor): standard deviation, shape (num_ts, num_periods)\n",
    "    likelihood: \n",
    "    (2 pi sigma^2)^(-1/2) exp(-(z - mu)^2 / (2 sigma^2))\n",
    "    log likelihood:\n",
    "    -1/2 * (log (2 pi) + 2 * log (sigma)) - (z - mu)^2 / (2 sigma^2)\n",
    "    '''\n",
    "    negative_likelihood = torch.log(sigma + 1) + (z - mu) ** 2 / (2 * sigma ** 2) + 6\n",
    "    return negative_likelihood.mean()"
   ]
  },
  {
   "cell_type": "code",
   "execution_count": 151,
   "metadata": {},
   "outputs": [
    {
     "data": {
      "text/plain": [
       "torch.Size([64, 228, 1])"
      ]
     },
     "execution_count": 151,
     "metadata": {},
     "output_type": "execute_result"
    }
   ],
   "source": [
    "ytrain_tensor = torch.cat([Y, Yf], dim=1)\n",
    "ytrain_tensor.shape"
   ]
  },
  {
   "cell_type": "code",
   "execution_count": 152,
   "metadata": {},
   "outputs": [
    {
     "data": {
      "text/plain": [
       "torch.Size([64, 228])"
      ]
     },
     "execution_count": 152,
     "metadata": {},
     "output_type": "execute_result"
    }
   ],
   "source": [
    "z = ytrain_tensor.squeeze(2)\n",
    "\n",
    "negative_likelihood = torch.log(sigma + 1) + (z - mu) ** 2 / (2 * sigma ** 2) + 6\n",
    "negative_likelihood.shape"
   ]
  },
  {
   "cell_type": "code",
   "execution_count": 153,
   "metadata": {},
   "outputs": [],
   "source": [
    "loss = negative_likelihood.mean()"
   ]
  },
  {
   "cell_type": "code",
   "execution_count": 154,
   "metadata": {},
   "outputs": [
    {
     "data": {
      "text/plain": [
       "9028553.0"
      ]
     },
     "execution_count": 154,
     "metadata": {},
     "output_type": "execute_result"
    }
   ],
   "source": [
    "loss.item()"
   ]
  },
  {
   "cell_type": "markdown",
   "metadata": {},
   "source": [
    "## test"
   ]
  },
  {
   "cell_type": "code",
   "execution_count": 183,
   "metadata": {},
   "outputs": [],
   "source": [
    "data_te = data_te[['MT_200','hour','day_of_week']]\n",
    "data_te.reset_index(drop=True, inplace=True)\n",
    "\n",
    "custom_dataset = WindowDataset(data_te, 168, 60)\n",
    "dataloader = DataLoader(custom_dataset, batch_size)  \n",
    "X_te, Y_te, Xf_te, Yf_te = next(iter(dataloader))"
   ]
  },
  {
   "cell_type": "code",
   "execution_count": 184,
   "metadata": {},
   "outputs": [],
   "source": [
    "batch_size = 1"
   ]
  },
  {
   "cell_type": "code",
   "execution_count": 185,
   "metadata": {},
   "outputs": [
    {
     "data": {
      "text/plain": [
       "torch.Size([1, 168, 2])"
      ]
     },
     "execution_count": 185,
     "metadata": {},
     "output_type": "execute_result"
    }
   ],
   "source": [
    "X_te.shape"
   ]
  },
  {
   "cell_type": "code",
   "execution_count": 186,
   "metadata": {},
   "outputs": [
    {
     "data": {
      "text/plain": [
       "torch.Size([1, 168, 1])"
      ]
     },
     "execution_count": 186,
     "metadata": {},
     "output_type": "execute_result"
    }
   ],
   "source": [
    "Y_te.shape"
   ]
  },
  {
   "cell_type": "code",
   "execution_count": null,
   "metadata": {},
   "outputs": [],
   "source": []
  },
  {
   "cell_type": "code",
   "execution_count": 225,
   "metadata": {},
   "outputs": [],
   "source": [
    "# scaler\n",
    "\n",
    "class MeanScaler:\n",
    "    \n",
    "    def fit_transform(self, y):\n",
    "        self.mean = np.mean(y)\n",
    "        return y / self.mean\n",
    "    \n",
    "    def inverse_transform(self, y):\n",
    "        return y * self.mean\n",
    "\n",
    "    def transform(self, y):\n",
    "        return y / self.mean\n",
    "\n",
    "yscaler = MeanScaler()\n",
    "tmp = yscaler.fit_transform(data_tr['MT_200'])"
   ]
  },
  {
   "cell_type": "code",
   "execution_count": 227,
   "metadata": {},
   "outputs": [],
   "source": [
    "yte = Y_te[-1, -seq_len-num_obs_to_train:].data.numpy()\n",
    "yte_ = yscaler.inverse_transform(yte)"
   ]
  },
  {
   "cell_type": "code",
   "execution_count": 228,
   "metadata": {},
   "outputs": [
    {
     "data": {
      "text/plain": [
       "(168, 1)"
      ]
     },
     "execution_count": 228,
     "metadata": {},
     "output_type": "execute_result"
    }
   ],
   "source": [
    "yte_.shape"
   ]
  },
  {
   "cell_type": "code",
   "execution_count": 230,
   "metadata": {},
   "outputs": [
    {
     "data": {
      "text/plain": [
       "torch.Size([1, 60, 1])"
      ]
     },
     "execution_count": 230,
     "metadata": {},
     "output_type": "execute_result"
    }
   ],
   "source": [
    "Yf_te.shape"
   ]
  },
  {
   "cell_type": "code",
   "execution_count": 231,
   "metadata": {},
   "outputs": [
    {
     "data": {
      "text/plain": [
       "torch.Size([1, 168, 1])"
      ]
     },
     "execution_count": 231,
     "metadata": {},
     "output_type": "execute_result"
    }
   ],
   "source": [
    "Y_te.shape"
   ]
  },
  {
   "cell_type": "code",
   "execution_count": 234,
   "metadata": {},
   "outputs": [
    {
     "data": {
      "text/plain": [
       "torch.Size([1, 228, 1])"
      ]
     },
     "execution_count": 234,
     "metadata": {},
     "output_type": "execute_result"
    }
   ],
   "source": [
    "torch.concat([Y_te, Yf_te], dim=1).shape"
   ]
  },
  {
   "cell_type": "code",
   "execution_count": 235,
   "metadata": {},
   "outputs": [
    {
     "data": {
      "text/plain": [
       "-228"
      ]
     },
     "execution_count": 235,
     "metadata": {},
     "output_type": "execute_result"
    }
   ],
   "source": [
    "-seq_len-num_obs_to_train"
   ]
  },
  {
   "cell_type": "code",
   "execution_count": 187,
   "metadata": {},
   "outputs": [
    {
     "data": {
      "text/plain": [
       "torch.Size([1, 60, 2])"
      ]
     },
     "execution_count": 187,
     "metadata": {},
     "output_type": "execute_result"
    }
   ],
   "source": [
    "Xf_te.shape"
   ]
  },
  {
   "cell_type": "code",
   "execution_count": 188,
   "metadata": {},
   "outputs": [
    {
     "data": {
      "text/plain": [
       "torch.Size([1, 60, 1])"
      ]
     },
     "execution_count": 188,
     "metadata": {},
     "output_type": "execute_result"
    }
   ],
   "source": [
    "Yf_te.shape"
   ]
  },
  {
   "cell_type": "code",
   "execution_count": 189,
   "metadata": {},
   "outputs": [],
   "source": [
    "sample_size = 100"
   ]
  },
  {
   "cell_type": "code",
   "execution_count": 192,
   "metadata": {},
   "outputs": [],
   "source": [
    "y_pred, _, _ = model(X_te, Y_te, Xf_te)\n",
    "# y_pred.shape"
   ]
  },
  {
   "cell_type": "code",
   "execution_count": 193,
   "metadata": {},
   "outputs": [
    {
     "data": {
      "text/plain": [
       "torch.Size([1, 60])"
      ]
     },
     "execution_count": 193,
     "metadata": {},
     "output_type": "execute_result"
    }
   ],
   "source": [
    "y_pred.shape"
   ]
  },
  {
   "cell_type": "code",
   "execution_count": 194,
   "metadata": {},
   "outputs": [
    {
     "name": "stderr",
     "output_type": "stream",
     "text": [
      "100%|██████████| 100/100 [00:11<00:00,  8.43it/s]\n"
     ]
    }
   ],
   "source": [
    "result = []\n",
    "for _ in tqdm(range(sample_size)):\n",
    "    y_pred, _, _ = model(X_te, Y_te, Xf_te)\n",
    "    y_pred = y_pred.data.numpy()\n",
    "\n",
    "    result.append(y_pred.reshape((-1, 1)))"
   ]
  },
  {
   "cell_type": "code",
   "execution_count": 196,
   "metadata": {},
   "outputs": [
    {
     "data": {
      "text/plain": [
       "100"
      ]
     },
     "execution_count": 196,
     "metadata": {},
     "output_type": "execute_result"
    }
   ],
   "source": [
    "len(result)"
   ]
  },
  {
   "cell_type": "code",
   "execution_count": 197,
   "metadata": {},
   "outputs": [
    {
     "data": {
      "text/plain": [
       "(60, 1)"
      ]
     },
     "execution_count": 197,
     "metadata": {},
     "output_type": "execute_result"
    }
   ],
   "source": [
    "result[0].shape"
   ]
  },
  {
   "cell_type": "code",
   "execution_count": 198,
   "metadata": {},
   "outputs": [],
   "source": [
    "result = np.concatenate(result, axis=1)\n",
    "p50 = np.quantile(result, 0.5, axis=1)\n",
    "p90 = np.quantile(result, 0.9, axis=1)\n",
    "p10 = np.quantile(result, 0.1, axis=1)"
   ]
  },
  {
   "cell_type": "code",
   "execution_count": 200,
   "metadata": {},
   "outputs": [
    {
     "data": {
      "text/plain": [
       "(60,)"
      ]
     },
     "execution_count": 200,
     "metadata": {},
     "output_type": "execute_result"
    }
   ],
   "source": [
    "p50.shape"
   ]
  },
  {
   "cell_type": "code",
   "execution_count": 201,
   "metadata": {},
   "outputs": [
    {
     "data": {
      "text/plain": [
       "array([-0.03009538, -0.02218692,  0.03299258,  0.01920479, -0.05741754,\n",
       "        0.07099628,  0.04896922, -0.06096033, -0.07469083, -0.16407361,\n",
       "        0.07148814,  0.00889914,  0.06148287,  0.04910575,  0.06924444,\n",
       "        0.08458638,  0.04952827, -0.06622264,  0.09452424,  0.26115923,\n",
       "        0.19488801,  0.05889913,  0.14810732,  0.02208678,  0.13827085,\n",
       "        0.10198727,  0.14348288,  0.24632914,  0.16116728,  0.06796674,\n",
       "        0.0489604 ,  0.14374632, -0.02142227,  0.06214692,  0.05470119,\n",
       "        0.06534778,  0.08969665,  0.22585706,  0.17956793,  0.19355664,\n",
       "        0.08889241,  0.08711808,  0.1115716 ,  0.11639291,  0.05273512,\n",
       "        0.22495956,  0.10837707,  0.17617386,  0.08326267,  0.03783518,\n",
       "        0.23851304,  0.09581303,  0.14109491,  0.18959032,  0.05056559,\n",
       "       -0.02457627,  0.17816032, -0.02600614,  0.22529436,  0.04574969])"
      ]
     },
     "execution_count": 201,
     "metadata": {},
     "output_type": "execute_result"
    }
   ],
   "source": [
    "p50"
   ]
  },
  {
   "cell_type": "code",
   "execution_count": 202,
   "metadata": {},
   "outputs": [
    {
     "data": {
      "text/plain": [
       "<Figure size 1440x360 with 0 Axes>"
      ]
     },
     "execution_count": 202,
     "metadata": {},
     "output_type": "execute_result"
    },
    {
     "data": {
      "text/plain": [
       "<Figure size 1440x360 with 0 Axes>"
      ]
     },
     "metadata": {},
     "output_type": "display_data"
    }
   ],
   "source": [
    "plt.figure(1, figsize=(20, 5))\n",
    "plt.plot([k + seq_len + num_obs_to_train - seq_len \\\n",
    "            for k in range(seq_len)], p50, \"r-\")"
   ]
  },
  {
   "cell_type": "code",
   "execution_count": 206,
   "metadata": {},
   "outputs": [],
   "source": [
    "seq_len = 60"
   ]
  },
  {
   "cell_type": "code",
   "execution_count": 211,
   "metadata": {},
   "outputs": [
    {
     "data": {
      "text/plain": [
       "torch.Size([168, 1])"
      ]
     },
     "execution_count": 211,
     "metadata": {},
     "output_type": "execute_result"
    }
   ],
   "source": [
    "Y_te[-1, -seq_len-num_obs_to_train:].shape"
   ]
  },
  {
   "cell_type": "code",
   "execution_count": 220,
   "metadata": {},
   "outputs": [
    {
     "data": {
      "image/png": "[encoded data removed]",
      "text/plain": [
       "<Figure size 1440x360 with 1 Axes>"
      ]
     },
     "metadata": {
      "needs_background": "light"
     },
     "output_type": "display_data"
    }
   ],
   "source": [
    "plt.figure(1, figsize=(20, 5))\n",
    "plt.plot([k + seq_len + num_obs_to_train - seq_len \\\n",
    "            for k in range(seq_len)], p50, \"r-\")\n",
    "plt.fill_between(x=[k + seq_len + num_obs_to_train - seq_len for k in range(seq_len)], \\\n",
    "            y1=p10, y2=p90, alpha=0.5)\n",
    "yplot = Y_te[-1, -seq_len-num_obs_to_train:]\n",
    "plt.plot(range(len(yplot)), yplot, \"k-\")\n",
    "plt.legend([\"P50 forecast\", \"true\", \"P10-P90 quantile\"], loc=\"upper left\")\n",
    "ymin, ymax = plt.ylim()\n",
    "plt.vlines(seq_len + num_obs_to_train - seq_len, ymin, ymax, color=\"blue\", linestyles=\"dashed\", linewidth=2)\n",
    "plt.ylim(ymin, ymax)\n",
    "plt.xlabel(\"Periods\")\n",
    "plt.ylabel(\"Y\")\n",
    "\n",
    "\n",
    "plt.tight_layout()\n",
    "# plt.show()\n",
    "plt.savefig('./tmp.png')"
   ]
  },
  {
   "cell_type": "code",
   "execution_count": null,
   "metadata": {},
   "outputs": [],
   "source": [
    "X_te, Y_te, Xf_te, Yf_te = next(iter(test_dataloader))  \n"
   ]
  }
 ],
 "metadata": {
  "interpreter": {
   "hash": "d67b72366f26532c5f661c017539146322738586d7661e09ffcd2c8ef92eec78"
  },
  "kernelspec": {
   "display_name": "Python 3.9.7 ('tobigs')",
   "language": "python",
   "name": "python3"
  },
  "language_info": {
   "codemirror_mode": {
    "name": "ipython",
    "version": 3
   },
   "file_extension": ".py",
   "mimetype": "text/x-python",
   "name": "python",
   "nbconvert_exporter": "python",
   "pygments_lexer": "ipython3",
   "version": "3.9.7"
  },
  "orig_nbformat": 4
 },
 "nbformat": 4,
 "nbformat_minor": 2
}
