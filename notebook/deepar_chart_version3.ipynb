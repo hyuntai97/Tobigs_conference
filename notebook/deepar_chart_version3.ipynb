{
 "cells": [
  {
   "cell_type": "code",
   "execution_count": 1,
   "metadata": {},
   "outputs": [],
   "source": [
    "import torch \n",
    "from torch import nn\n",
    "import torch.nn.functional as F \n",
    "from torch.optim import Adam\n",
    "\n",
    "import numpy as np\n",
    "import os\n",
    "import random\n",
    "import matplotlib.pyplot as plt\n",
    "import pickle\n",
    "from tqdm import tqdm\n",
    "import pandas as pd\n",
    "from sklearn.preprocessing import StandardScaler\n",
    "# import util\n",
    "from datetime import date\n",
    "import argparse\n",
    "from progressbar import *\n",
    "import datetime"
   ]
  },
  {
   "cell_type": "markdown",
   "metadata": {},
   "source": [
    "## Config"
   ]
  },
  {
   "cell_type": "code",
   "execution_count": 87,
   "metadata": {},
   "outputs": [],
   "source": [
    "# config \n",
    "\n",
    "num_epochs = 30\n",
    "step_per_epoch = 3\n",
    "n_layers = 1\n",
    "likelihood = 'g'\n",
    "num_obs_to_train = 30\n",
    "embedding_size = 10\n",
    "hidden_size = 50\n",
    "seq_len = 10\n",
    "batch_size=32\n",
    "lr = 1e-3"
   ]
  },
  {
   "cell_type": "markdown",
   "metadata": {},
   "source": [
    "## Load data"
   ]
  },
  {
   "cell_type": "code",
   "execution_count": 20,
   "metadata": {},
   "outputs": [],
   "source": [
    "data = pd.read_csv('../dataset/sample_upbit_daydata.csv',parse_dates=[\"Unnamed: 0\"])"
   ]
  },
  {
   "cell_type": "code",
   "execution_count": 21,
   "metadata": {},
   "outputs": [
    {
     "name": "stdout",
     "output_type": "stream",
     "text": [
      "drop 전의 data shape: (11216, 8)\n",
      "['KRW-AVAX' 'KRW-CELO' 'KRW-GMT' 'KRW-T']\n",
      "drop 후의 data shape: (11000, 8)\n"
     ]
    }
   ],
   "source": [
    "# 100개 미만의 데이터가 있는 ticker는 삭제 \n",
    "\n",
    "print(f'drop 전의 data shape: {data.shape}')\n",
    "tmp = data.groupby('ticker').agg({'Unnamed: 0':'nunique'})\n",
    "drop_ticker = tmp[tmp['Unnamed: 0'] < 100].index.values\n",
    "print(drop_ticker)\n",
    " \n",
    "drop_index = data[data['ticker'].isin(drop_ticker)].index.to_list()\n",
    "data.drop(drop_index, inplace=True)\n",
    "print(f'drop 후의 data shape: {data.shape}')"
   ]
  },
  {
   "cell_type": "code",
   "execution_count": 22,
   "metadata": {},
   "outputs": [],
   "source": [
    "data.rename(columns={'Unnamed: 0':'date'}, inplace=True)\n",
    "\n",
    "data['hour'] = data['date'].apply(lambda x: x.hour)\n",
    "data[\"year\"] = data[\"date\"].apply(lambda x: x.year)\n",
    "data[\"day_of_week\"] = data[\"date\"].apply(lambda x: x.dayofweek)\n",
    "\n",
    "features = [\"hour\", \"day_of_week\"]\n",
    "# # hours = pd.get_dummies(data[\"hour\"])\n",
    "# # dows = pd.get_dummies(data[\"day_of_week\"])\n",
    "hours = data[\"hour\"]\n",
    "dows = data[\"day_of_week\"]"
   ]
  },
  {
   "cell_type": "code",
   "execution_count": 23,
   "metadata": {},
   "outputs": [
    {
     "data": {
      "text/plain": [
       "date           datetime64[ns]\n",
       "ticker                 object\n",
       "open                  float64\n",
       "high                  float64\n",
       "low                   float64\n",
       "close                 float64\n",
       "volume                float64\n",
       "value                 float64\n",
       "hour                    int64\n",
       "year                    int64\n",
       "day_of_week             int64\n",
       "dtype: object"
      ]
     },
     "execution_count": 23,
     "metadata": {},
     "output_type": "execute_result"
    }
   ],
   "source": [
    "data.dtypes"
   ]
  },
  {
   "cell_type": "code",
   "execution_count": 24,
   "metadata": {},
   "outputs": [
    {
     "data": {
      "text/html": [
       "<div>\n",
       "<style scoped>\n",
       "    .dataframe tbody tr th:only-of-type {\n",
       "        vertical-align: middle;\n",
       "    }\n",
       "\n",
       "    .dataframe tbody tr th {\n",
       "        vertical-align: top;\n",
       "    }\n",
       "\n",
       "    .dataframe thead th {\n",
       "        text-align: right;\n",
       "    }\n",
       "</style>\n",
       "<table border=\"1\" class=\"dataframe\">\n",
       "  <thead>\n",
       "    <tr style=\"text-align: right;\">\n",
       "      <th></th>\n",
       "      <th>date</th>\n",
       "      <th>ticker</th>\n",
       "      <th>open</th>\n",
       "      <th>high</th>\n",
       "      <th>low</th>\n",
       "      <th>close</th>\n",
       "      <th>volume</th>\n",
       "      <th>value</th>\n",
       "      <th>hour</th>\n",
       "      <th>year</th>\n",
       "      <th>day_of_week</th>\n",
       "    </tr>\n",
       "  </thead>\n",
       "  <tbody>\n",
       "    <tr>\n",
       "      <th>0</th>\n",
       "      <td>2022-01-29 09:00:00</td>\n",
       "      <td>KRW-BTC</td>\n",
       "      <td>46592000.0</td>\n",
       "      <td>47746000.0</td>\n",
       "      <td>46180000.0</td>\n",
       "      <td>47146000.0</td>\n",
       "      <td>3980.167762</td>\n",
       "      <td>1.862863e+11</td>\n",
       "      <td>9</td>\n",
       "      <td>2022</td>\n",
       "      <td>5</td>\n",
       "    </tr>\n",
       "    <tr>\n",
       "      <th>1</th>\n",
       "      <td>2022-01-30 09:00:00</td>\n",
       "      <td>KRW-BTC</td>\n",
       "      <td>47144000.0</td>\n",
       "      <td>47500000.0</td>\n",
       "      <td>46498000.0</td>\n",
       "      <td>47208000.0</td>\n",
       "      <td>2868.985234</td>\n",
       "      <td>1.350271e+11</td>\n",
       "      <td>9</td>\n",
       "      <td>2022</td>\n",
       "      <td>6</td>\n",
       "    </tr>\n",
       "    <tr>\n",
       "      <th>2</th>\n",
       "      <td>2022-01-31 09:00:00</td>\n",
       "      <td>KRW-BTC</td>\n",
       "      <td>47208000.0</td>\n",
       "      <td>47647000.0</td>\n",
       "      <td>45624000.0</td>\n",
       "      <td>47266000.0</td>\n",
       "      <td>4554.265206</td>\n",
       "      <td>2.112754e+11</td>\n",
       "      <td>9</td>\n",
       "      <td>2022</td>\n",
       "      <td>0</td>\n",
       "    </tr>\n",
       "    <tr>\n",
       "      <th>3</th>\n",
       "      <td>2022-02-01 09:00:00</td>\n",
       "      <td>KRW-BTC</td>\n",
       "      <td>47304000.0</td>\n",
       "      <td>48270000.0</td>\n",
       "      <td>46869000.0</td>\n",
       "      <td>47760000.0</td>\n",
       "      <td>3944.001610</td>\n",
       "      <td>1.874350e+11</td>\n",
       "      <td>9</td>\n",
       "      <td>2022</td>\n",
       "      <td>1</td>\n",
       "    </tr>\n",
       "    <tr>\n",
       "      <th>4</th>\n",
       "      <td>2022-02-02 09:00:00</td>\n",
       "      <td>KRW-BTC</td>\n",
       "      <td>47784000.0</td>\n",
       "      <td>47900000.0</td>\n",
       "      <td>45401000.0</td>\n",
       "      <td>45517000.0</td>\n",
       "      <td>4684.820468</td>\n",
       "      <td>2.192811e+11</td>\n",
       "      <td>9</td>\n",
       "      <td>2022</td>\n",
       "      <td>2</td>\n",
       "    </tr>\n",
       "  </tbody>\n",
       "</table>\n",
       "</div>"
      ],
      "text/plain": [
       "                 date   ticker        open        high         low  \\\n",
       "0 2022-01-29 09:00:00  KRW-BTC  46592000.0  47746000.0  46180000.0   \n",
       "1 2022-01-30 09:00:00  KRW-BTC  47144000.0  47500000.0  46498000.0   \n",
       "2 2022-01-31 09:00:00  KRW-BTC  47208000.0  47647000.0  45624000.0   \n",
       "3 2022-02-01 09:00:00  KRW-BTC  47304000.0  48270000.0  46869000.0   \n",
       "4 2022-02-02 09:00:00  KRW-BTC  47784000.0  47900000.0  45401000.0   \n",
       "\n",
       "        close       volume         value  hour  year  day_of_week  \n",
       "0  47146000.0  3980.167762  1.862863e+11     9  2022            5  \n",
       "1  47208000.0  2868.985234  1.350271e+11     9  2022            6  \n",
       "2  47266000.0  4554.265206  2.112754e+11     9  2022            0  \n",
       "3  47760000.0  3944.001610  1.874350e+11     9  2022            1  \n",
       "4  45517000.0  4684.820468  2.192811e+11     9  2022            2  "
      ]
     },
     "execution_count": 24,
     "metadata": {},
     "output_type": "execute_result"
    }
   ],
   "source": [
    "data.head()"
   ]
  },
  {
   "cell_type": "code",
   "execution_count": 25,
   "metadata": {},
   "outputs": [
    {
     "data": {
      "text/plain": [
       "<AxesSubplot:>"
      ]
     },
     "execution_count": 25,
     "metadata": {},
     "output_type": "execute_result"
    },
    {
     "data": {
      "image/png": "[encoded data removed]",
      "text/plain": [
       "<Figure size 432x288 with 1 Axes>"
      ]
     },
     "metadata": {
      "needs_background": "light"
     },
     "output_type": "display_data"
    }
   ],
   "source": [
    "data[data['ticker']=='KRW-1INCH']['open'].plot()"
   ]
  },
  {
   "cell_type": "code",
   "execution_count": 26,
   "metadata": {},
   "outputs": [
    {
     "data": {
      "text/plain": [
       "ticker\n",
       "KRW-1INCH    100\n",
       "KRW-AAVE     100\n",
       "KRW-ADA      100\n",
       "KRW-AERGO    100\n",
       "KRW-AHT      100\n",
       "            ... \n",
       "KRW-XLM      100\n",
       "KRW-XRP      100\n",
       "KRW-XTZ      100\n",
       "KRW-ZIL      100\n",
       "KRW-ZRX      100\n",
       "Name: date, Length: 110, dtype: int64"
      ]
     },
     "execution_count": 26,
     "metadata": {},
     "output_type": "execute_result"
    }
   ],
   "source": [
    "data.groupby('ticker')['date'].nunique()"
   ]
  },
  {
   "cell_type": "markdown",
   "metadata": {},
   "source": [
    "### Dataset"
   ]
  },
  {
   "cell_type": "code",
   "execution_count": 15,
   "metadata": {},
   "outputs": [],
   "source": [
    "from torch.utils.data import Dataset\n",
    "import torch\n",
    "# from torch.utils import data\n",
    "from torch.utils.data import DataLoader\n",
    "class WindowDataset(Dataset):\n",
    "    '''\n",
    "    Build a custom dataset \n",
    "    \n",
    "    --Return--\n",
    "    \n",
    "    x: inputs\n",
    "    y: targets \n",
    "    z: features\n",
    "    ----------\n",
    "    \n",
    "    '''\n",
    "    \n",
    "    def __init__(self, data, input_window, output_window, stride=1):\n",
    "        # total data length \n",
    "        L = data.shape[0]\n",
    "        \n",
    "        # total number of samples with stride\n",
    "        num_samples = (L - input_window - output_window) // stride + 1\n",
    "        \n",
    "        # input, output \n",
    "        X = []\n",
    "        Y = []\n",
    "        Xf = []\n",
    "        Yf = []\n",
    "        \n",
    "        for i in range(num_samples):\n",
    "            start_x = stride*i\n",
    "            end_x = start_x + input_window \n",
    "            Y.append(data.iloc[start_x: end_x, 0].values)\n",
    "            X.append(data.iloc[start_x: end_x, 1:].values)\n",
    "            start_y = stride*i + input_window\n",
    "            end_y = start_y + output_window \n",
    "            Yf.append(data.iloc[start_y:end_y, 0].values)\n",
    "            Xf.append(data.iloc[start_y:end_y, 1:].values)\n",
    "            \n",
    "        self.X = X\n",
    "        self.Y = Y\n",
    "        self.Xf = Xf\n",
    "        self.Yf = Yf\n",
    "        \n",
    "        self.len = len(X)\n",
    "            \n",
    "    def __len__(self):\n",
    "        return self.len \n",
    "    \n",
    "    def __getitem__(self, idx):\n",
    "        X = torch.FloatTensor(self.X[idx])\n",
    "        Y = torch.FloatTensor(self.Y[idx])\n",
    "        Y = Y.unsqueeze(-1)\n",
    "        Xf = torch.FloatTensor(self.Xf[idx])\n",
    "        Yf = torch.FloatTensor(self.Yf[idx])\n",
    "        Yf = Yf.unsqueeze(-1)\n",
    "        \n",
    "        return X, Y, Xf, Yf"
   ]
  },
  {
   "cell_type": "code",
   "execution_count": 35,
   "metadata": {},
   "outputs": [
    {
     "data": {
      "text/html": [
       "<div>\n",
       "<style scoped>\n",
       "    .dataframe tbody tr th:only-of-type {\n",
       "        vertical-align: middle;\n",
       "    }\n",
       "\n",
       "    .dataframe tbody tr th {\n",
       "        vertical-align: top;\n",
       "    }\n",
       "\n",
       "    .dataframe thead th {\n",
       "        text-align: right;\n",
       "    }\n",
       "</style>\n",
       "<table border=\"1\" class=\"dataframe\">\n",
       "  <thead>\n",
       "    <tr style=\"text-align: right;\">\n",
       "      <th></th>\n",
       "      <th>open</th>\n",
       "      <th>hour</th>\n",
       "      <th>day_of_week</th>\n",
       "    </tr>\n",
       "  </thead>\n",
       "  <tbody>\n",
       "    <tr>\n",
       "      <th>0</th>\n",
       "      <td>46592000.0</td>\n",
       "      <td>9</td>\n",
       "      <td>5</td>\n",
       "    </tr>\n",
       "  </tbody>\n",
       "</table>\n",
       "</div>"
      ],
      "text/plain": [
       "         open  hour  day_of_week\n",
       "0  46592000.0     9            5"
      ]
     },
     "execution_count": 35,
     "metadata": {},
     "output_type": "execute_result"
    }
   ],
   "source": [
    "tmp = data[data['ticker']=='KRW-BTC']\n",
    "tmp = tmp[['open','hour','day_of_week']]\n",
    "tmp.head(1)"
   ]
  },
  {
   "cell_type": "code",
   "execution_count": 42,
   "metadata": {},
   "outputs": [],
   "source": [
    "custom_dataset = WindowDataset(tmp, 30, 10, 1)\n",
    "train_dataloader = DataLoader(custom_dataset, batch_size=32)"
   ]
  },
  {
   "cell_type": "code",
   "execution_count": 43,
   "metadata": {},
   "outputs": [],
   "source": [
    "X,Y,Xf,Yf = next(iter(train_dataloader))"
   ]
  },
  {
   "cell_type": "code",
   "execution_count": 44,
   "metadata": {},
   "outputs": [
    {
     "data": {
      "text/plain": [
       "torch.Size([32, 30, 2])"
      ]
     },
     "execution_count": 44,
     "metadata": {},
     "output_type": "execute_result"
    }
   ],
   "source": [
    "X.shape"
   ]
  },
  {
   "cell_type": "code",
   "execution_count": 45,
   "metadata": {},
   "outputs": [
    {
     "data": {
      "text/plain": [
       "torch.Size([32, 30, 1])"
      ]
     },
     "execution_count": 45,
     "metadata": {},
     "output_type": "execute_result"
    }
   ],
   "source": [
    "Y.shape"
   ]
  },
  {
   "cell_type": "code",
   "execution_count": 46,
   "metadata": {},
   "outputs": [
    {
     "data": {
      "text/plain": [
       "torch.Size([32, 10, 2])"
      ]
     },
     "execution_count": 46,
     "metadata": {},
     "output_type": "execute_result"
    }
   ],
   "source": [
    "Xf.shape"
   ]
  },
  {
   "cell_type": "code",
   "execution_count": 47,
   "metadata": {},
   "outputs": [
    {
     "data": {
      "text/plain": [
       "torch.Size([32, 10, 1])"
      ]
     },
     "execution_count": 47,
     "metadata": {},
     "output_type": "execute_result"
    }
   ],
   "source": [
    "Yf.shape"
   ]
  },
  {
   "cell_type": "markdown",
   "metadata": {},
   "source": [
    "### Scaler function option "
   ]
  },
  {
   "cell_type": "code",
   "execution_count": 59,
   "metadata": {},
   "outputs": [],
   "source": [
    "# scaler\n",
    "\n",
    "class MeanScaler:\n",
    "    \n",
    "    def fit_transform(self, y):\n",
    "        self.mean = np.mean(y)\n",
    "        return y / self.mean\n",
    "    \n",
    "    def inverse_transform(self, y):\n",
    "        return y * self.mean\n",
    "\n",
    "    def transform(self, y):\n",
    "        return y / self.mean\n",
    "\n",
    "class StandardScaler:\n",
    "    \n",
    "    def fit_transform(self, y):\n",
    "        self.mean = np.mean(y)\n",
    "        self.std = np.std(y) + 1e-4\n",
    "        return (y - self.mean) / self.std\n",
    "    \n",
    "    def inverse_transform(self, y):\n",
    "        return y * self.std + self.mean\n",
    "\n",
    "    def transform(self, y):\n",
    "        return (y - self.mean) / self.std"
   ]
  },
  {
   "cell_type": "markdown",
   "metadata": {},
   "source": [
    "## Model"
   ]
  },
  {
   "cell_type": "code",
   "execution_count": 60,
   "metadata": {},
   "outputs": [],
   "source": [
    "class Gaussian(nn.Module):\n",
    "\n",
    "    def __init__(self, hidden_size, output_size):\n",
    "        '''\n",
    "        Gaussian Likelihood Supports Continuous Data\n",
    "        Args:\n",
    "        input_size (int): hidden h_{i,t} column size\n",
    "        output_size (int): embedding size\n",
    "        '''\n",
    "        super(Gaussian, self).__init__()\n",
    "        self.mu_layer = nn.Linear(hidden_size, output_size)\n",
    "        self.sigma_layer = nn.Linear(hidden_size, output_size)\n",
    "\n",
    "        # initialize weights\n",
    "        # nn.init.xavier_uniform_(self.mu_layer.weight)\n",
    "        # nn.init.xavier_uniform_(self.sigma_layer.weight)\n",
    "    \n",
    "    def forward(self, h):\n",
    "        _, hidden_size = h.size()\n",
    "        sigma_t = torch.log(1 + torch.exp(self.sigma_layer(h))) + 1e-6\n",
    "        sigma_t = sigma_t.squeeze(0)\n",
    "        mu_t = self.mu_layer(h).squeeze(0)\n",
    "        return mu_t, sigma_t\n",
    "\n",
    "def gaussian_sample(mu, sigma):\n",
    "    '''\n",
    "    Gaussian Sample\n",
    "    Args:\n",
    "    ytrue (array like)\n",
    "    mu (array like)\n",
    "    sigma (array like): standard deviation\n",
    "    gaussian maximum likelihood using log \n",
    "        l_{G} (z|mu, sigma) = (2 * pi * sigma^2)^(-0.5) * exp(- (z - mu)^2 / (2 * sigma^2))\n",
    "    '''\n",
    "    # likelihood = (2 * np.pi * sigma ** 2) ** (-0.5) * \\\n",
    "    #         torch.exp((- (ytrue - mu) ** 2) / (2 * sigma ** 2))\n",
    "    # return likelihood\n",
    "    gaussian = torch.distributions.normal.Normal(mu, sigma)\n",
    "    ypred = gaussian.sample()\n",
    "    if ypred.dim() == 1:\n",
    "        ypred = ypred.unsqueeze(0)\n",
    "    return ypred\n",
    "\n",
    "def gaussian_likelihood_loss(z, mu, sigma):\n",
    "    '''\n",
    "    Gaussian Liklihood Loss\n",
    "    Args:\n",
    "    z (tensor): true observations, shape (num_ts, num_periods)\n",
    "    mu (tensor): mean, shape (num_ts, num_periods)\n",
    "    sigma (tensor): standard deviation, shape (num_ts, num_periods)\n",
    "    likelihood: \n",
    "    (2 pi sigma^2)^(-1/2) exp(-(z - mu)^2 / (2 sigma^2))\n",
    "    log likelihood:\n",
    "    -1/2 * (log (2 pi) + 2 * log (sigma)) - (z - mu)^2 / (2 sigma^2)\n",
    "    '''\n",
    "    negative_likelihood = torch.log(sigma + 1) + (z - mu) ** 2 / (2 * sigma ** 2) + 6\n",
    "    return negative_likelihood.mean()"
   ]
  },
  {
   "cell_type": "code",
   "execution_count": 61,
   "metadata": {},
   "outputs": [],
   "source": [
    "class DeepAR(nn.Module):\n",
    "\n",
    "    def __init__(self, input_size, embedding_size, hidden_size, num_layers, lr=1e-3, likelihood=\"g\"):\n",
    "        super(DeepAR, self).__init__()\n",
    "\n",
    "        # network\n",
    "        self.input_embed = nn.Linear(1, embedding_size)\n",
    "        self.encoder = nn.LSTM(embedding_size+input_size, hidden_size, \\\n",
    "                num_layers, bias=True, batch_first=True)\n",
    "        if likelihood == \"g\":\n",
    "            self.likelihood_layer = Gaussian(hidden_size, 1)\n",
    "\n",
    "        self.likelihood = likelihood\n",
    "\n",
    "    def forward(self, X, y, Xf):\n",
    "        num_ts, seq_len, _ = X.size() # 64, 168, 2\n",
    "        _, output_horizon, num_features = Xf.size() # 64, 60, 2\n",
    "\n",
    "        ynext = None\n",
    "        ypred = []\n",
    "        mus = []\n",
    "        sigmas = []       \n",
    "        h, c = None, None\n",
    "        for s in range(seq_len + output_horizon):\n",
    "            if s < seq_len:\n",
    "                ynext = y[:, s].view(-1, 1) # (batch_size, 1) \n",
    "                yembed = self.input_embed(ynext).view(num_ts, -1) # (batch_size, embed_size)\n",
    "                x = X[:, s, :].view(num_ts, -1) # (batch_size, num_feature)\n",
    "            else:\n",
    "                yembed = self.input_embed(ynext).view(num_ts, -1) # (batch_size, embed_size)\n",
    "                x = Xf[:, s-seq_len, :].view(num_ts, -1) # (batch_size, num_feature)\n",
    "            x = torch.cat([x, yembed], dim=1) # (batch_size, num_feature+embed_size)\n",
    "            inp = x.unsqueeze(1) # (batch_size, 1, num_feature+embed_size)\n",
    "            if h is None and c is None:\n",
    "                out, (h, c) = self.encoder(inp) # h size (num_layers, num_ts, hidden_size)\n",
    "            else:\n",
    "                out, (h, c) = self.encoder(inp, (h, c))\n",
    "\n",
    "            hs = h[-1, :, :] # (batch_size, hidden_size)\n",
    "            hs = F.relu(hs)\n",
    "            mu, sigma = self.likelihood_layer(hs)\n",
    "            mus.append(mu.view(-1, 1))\n",
    "            sigmas.append(sigma.view(-1, 1))\n",
    "            if self.likelihood == 'g':\n",
    "                ynext = gaussian_sample(mu, sigma)\n",
    "\n",
    "            if s >= seq_len - 1 and s < output_horizon + seq_len - 1:\n",
    "                ypred.append(ynext)\n",
    "                \n",
    "        ypred = torch.cat(ypred, dim=1).view(num_ts, -1)\n",
    "        mu = torch.cat(mus, dim=1).view(num_ts, -1)\n",
    "        sigma = torch.cat(sigmas, dim=1).view(num_ts, -1)\n",
    "        return ypred, mu, sigma   \n",
    "        "
   ]
  },
  {
   "cell_type": "markdown",
   "metadata": {},
   "source": [
    "## Train"
   ]
  },
  {
   "cell_type": "code",
   "execution_count": 64,
   "metadata": {},
   "outputs": [],
   "source": [
    "# metric\n",
    "\n",
    "def MAPE(ytrue, ypred):\n",
    "    ytrue = np.array(ytrue).ravel() + 1e-4\n",
    "    ypred = np.array(ypred).ravel()\n",
    "    return np.mean(np.abs((ytrue - ypred) \\\n",
    "        / ytrue))\n",
    "\n",
    "def MAPEval(y_pred, y_true):\n",
    "    y_true = np.array(y_true).ravel() + 1e-4\n",
    "    y_pred = np.array(y_pred).ravel()    \n",
    "    return np.mean(np.abs((y_true - y_pred) / y_true)) * 100"
   ]
  },
  {
   "cell_type": "markdown",
   "metadata": {},
   "source": [
    "### train test split "
   ]
  },
  {
   "cell_type": "code",
   "execution_count": 63,
   "metadata": {},
   "outputs": [],
   "source": [
    "# KRW-GAS 제외 전부 train \n",
    "# KRW-GAS만 test\n",
    "\n",
    "train_data = data[data['ticker']!='KRW-GAS']\n",
    "test_data = data[data['ticker']=='KRW-GAS']"
   ]
  },
  {
   "cell_type": "code",
   "execution_count": 86,
   "metadata": {},
   "outputs": [],
   "source": [
    "def train(train_data, test_data):\n",
    "    # num_ts, num_periods, num_features = X.shape\n",
    "    model = DeepAR(2, embedding_size, \n",
    "        hidden_size, n_layers)\n",
    "\n",
    "    optimizer = Adam(model.parameters(), lr=lr)\n",
    "    random.seed(42)\n",
    "    \n",
    "    total_losses = []\n",
    "    cnt = 0\n",
    "\n",
    "    ticker_lst = train_data.ticker.unique().tolist()\n",
    "    \n",
    "    for ticker in ticker_lst:\n",
    "        print(f'=========={ticker}==========')\n",
    "\n",
    "        losses = []\n",
    "\n",
    "        data_tr = train_data[train_data['ticker']==ticker]\n",
    "        data_tr = data_tr[['open', 'hour', 'day_of_week']]\n",
    "        data_tr.reset_index(drop=True, inplace=True)\n",
    "\n",
    "        yscaler = MeanScaler()\n",
    "        tmp = yscaler.fit_transform(data_tr['open'])\n",
    "        data_tr['open'] = tmp\n",
    "\n",
    "        custom_dataset = WindowDataset(data_tr, num_obs_to_train, seq_len)\n",
    "        train_dataloader = DataLoader(custom_dataset, batch_size)\n",
    "\n",
    "        #-- train\n",
    "        progress = ProgressBar()     \n",
    "\n",
    "        for epoch in progress(range(num_epochs)):\n",
    "            for X, Y, Xf, Yf in train_dataloader:\n",
    "                ypred, mu, sigma = model(X, Y, Xf)\n",
    "                ytrain_tensor = torch.cat([Y, Yf], dim=1)\n",
    "                z = ytrain_tensor.squeeze(2)\n",
    "                loss = gaussian_likelihood_loss(z, mu, sigma)\n",
    "                losses.append(loss.item())\n",
    "                optimizer.zero_grad()\n",
    "                loss.backward()\n",
    "                optimizer.step()\n",
    "                cnt += 1  \n",
    "\n",
    "        total_losses.append(losses)\n",
    "        \n",
    "    #-- test \n",
    "    mape_list = []\n",
    "    data_te = test_data[['open', 'hour', 'day_of_week']]\n",
    "    data_te.reset_index(drop=True, inplace=True)\n",
    "\n",
    "    tmp = yscaler.transform(data_te['open'])\n",
    "    data_te['open'] = tmp   \n",
    "\n",
    "    custom_dataset = WindowDataset(data_te, num_obs_to_train, seq_len)\n",
    "    test_dataloader = DataLoader(custom_dataset, 1)\n",
    "\n",
    "    X_te, Y_te, Xf_te, Yf_te = next(iter(test_dataloader))  \n",
    "\n",
    "    n_samples = 100\n",
    "    result = []\n",
    "    for _ in tqdm(range(n_samples)):\n",
    "        y_pred, _, _ = model(X_te, Y_te, Xf_te)\n",
    "        y_pred = y_pred.data.numpy()\n",
    "        y_pred = yscaler.inverse_transform(y_pred)\n",
    "\n",
    "        result.append(y_pred.reshape((-1,1)))\n",
    "\n",
    "    result = np.concatenate(result, axis=1)\n",
    "    p50 = np.quantile(result, 0.5, axis=1)\n",
    "    p60 = np.quantile(result, 0.6, axis=1)\n",
    "    p40 = np.quantile(result, 0.4, axis=1)     \n",
    "\n",
    "    y_true = yscaler.inverse_transform(Yf_te.data.numpy())\n",
    "    mape = MAPEval(p50, y_true)\n",
    "    print(\"P50 MAPE: {}\".format(mape))\n",
    "    mape_list.append(mape)    \n",
    "\n",
    "    Y_total = torch.concat([Y_te, Yf_te], dim=1)\n",
    "    Y_total = yscaler.inverse_transform(Y_total.data.numpy())\n",
    "    plt.figure(1, figsize=(20, 5))\n",
    "    plt.plot([k + seq_len + num_obs_to_train - seq_len \\\n",
    "        for k in range(seq_len)], p50, \"r-\")\n",
    "    plt.fill_between(x=[k + seq_len + num_obs_to_train - seq_len for k in range(seq_len)], \\\n",
    "        y1=p40, y2=p60, alpha=0.5)\n",
    "    plt.title('Prediction uncertainty')\n",
    "    yplot = Y_total[-1, -seq_len-num_obs_to_train:]\n",
    "    plt.plot(range(len(yplot)), yplot, \"k-\")\n",
    "    plt.legend([\"P50 forecast\", \"P40-P60 quantile\", \"true\"], loc=\"upper left\")\n",
    "    ymin, ymax = plt.ylim()\n",
    "    plt.vlines(seq_len + num_obs_to_train - seq_len, ymin, ymax, color=\"blue\", linestyles=\"dashed\", linewidth=2)\n",
    "    plt.ylim(ymin, ymax)\n",
    "    plt.xlabel(\"Periods\")\n",
    "    plt.ylabel(\"Y\")\n",
    "    # plt.show()\n",
    "    plt.savefig(f'../img/deepar_pred_version2.png')\n",
    "\n",
    "    return total_losses, mape_list, p50, y_true     \n"
   ]
  },
  {
   "cell_type": "code",
   "execution_count": 88,
   "metadata": {},
   "outputs": [
    {
     "name": "stderr",
     "output_type": "stream",
     "text": [
      "  6% |####                                                                    |\r"
     ]
    },
    {
     "name": "stdout",
     "output_type": "stream",
     "text": [
      "==========KRW-BTC==========\n"
     ]
    },
    {
     "name": "stderr",
     "output_type": "stream",
     "text": [
      "100% |########################################################################|\n",
      "  6% |####                                                                    |\r"
     ]
    },
    {
     "name": "stdout",
     "output_type": "stream",
     "text": [
      "==========KRW-ETH==========\n"
     ]
    },
    {
     "name": "stderr",
     "output_type": "stream",
     "text": [
      "100% |########################################################################|\n",
      "  6% |####                                                                    |\r"
     ]
    },
    {
     "name": "stdout",
     "output_type": "stream",
     "text": [
      "==========KRW-NEO==========\n"
     ]
    },
    {
     "name": "stderr",
     "output_type": "stream",
     "text": [
      "100% |########################################################################|\n",
      "  6% |####                                                                    |\r"
     ]
    },
    {
     "name": "stdout",
     "output_type": "stream",
     "text": [
      "==========KRW-MTL==========\n"
     ]
    },
    {
     "name": "stderr",
     "output_type": "stream",
     "text": [
      "100% |########################################################################|\n",
      " 10% |#######                                                                 |\r"
     ]
    },
    {
     "name": "stdout",
     "output_type": "stream",
     "text": [
      "==========KRW-LTC==========\n"
     ]
    },
    {
     "name": "stderr",
     "output_type": "stream",
     "text": [
      "100% |########################################################################|\n",
      "  6% |####                                                                    |\r"
     ]
    },
    {
     "name": "stdout",
     "output_type": "stream",
     "text": [
      "==========KRW-XRP==========\n"
     ]
    },
    {
     "name": "stderr",
     "output_type": "stream",
     "text": [
      "100% |########################################################################|\n",
      " 10% |#######                                                                 |\r"
     ]
    },
    {
     "name": "stdout",
     "output_type": "stream",
     "text": [
      "==========KRW-ETC==========\n"
     ]
    },
    {
     "name": "stderr",
     "output_type": "stream",
     "text": [
      "100% |########################################################################|\n",
      "  6% |####                                                                    |\r"
     ]
    },
    {
     "name": "stdout",
     "output_type": "stream",
     "text": [
      "==========KRW-OMG==========\n"
     ]
    },
    {
     "name": "stderr",
     "output_type": "stream",
     "text": [
      "100% |########################################################################|\n",
      "  6% |####                                                                    |\r"
     ]
    },
    {
     "name": "stdout",
     "output_type": "stream",
     "text": [
      "==========KRW-SNT==========\n"
     ]
    },
    {
     "name": "stderr",
     "output_type": "stream",
     "text": [
      "100% |########################################################################|\n",
      "  6% |####                                                                    |\r"
     ]
    },
    {
     "name": "stdout",
     "output_type": "stream",
     "text": [
      "==========KRW-WAVES==========\n"
     ]
    },
    {
     "name": "stderr",
     "output_type": "stream",
     "text": [
      "100% |########################################################################|\n",
      " 10% |#######                                                                 |\r"
     ]
    },
    {
     "name": "stdout",
     "output_type": "stream",
     "text": [
      "==========KRW-XEM==========\n"
     ]
    },
    {
     "name": "stderr",
     "output_type": "stream",
     "text": [
      "100% |########################################################################|\n",
      " 10% |#######                                                                 |\r"
     ]
    },
    {
     "name": "stdout",
     "output_type": "stream",
     "text": [
      "==========KRW-QTUM==========\n"
     ]
    },
    {
     "name": "stderr",
     "output_type": "stream",
     "text": [
      "100% |########################################################################|\n",
      "  6% |####                                                                    |\r"
     ]
    },
    {
     "name": "stdout",
     "output_type": "stream",
     "text": [
      "==========KRW-LSK==========\n"
     ]
    },
    {
     "name": "stderr",
     "output_type": "stream",
     "text": [
      "100% |########################################################################|\n",
      "  6% |####                                                                    |\r"
     ]
    },
    {
     "name": "stdout",
     "output_type": "stream",
     "text": [
      "==========KRW-STEEM==========\n"
     ]
    },
    {
     "name": "stderr",
     "output_type": "stream",
     "text": [
      "100% |########################################################################|\n",
      "  6% |####                                                                    |\r"
     ]
    },
    {
     "name": "stdout",
     "output_type": "stream",
     "text": [
      "==========KRW-XLM==========\n"
     ]
    },
    {
     "name": "stderr",
     "output_type": "stream",
     "text": [
      "100% |########################################################################|\n",
      "  6% |####                                                                    |\r"
     ]
    },
    {
     "name": "stdout",
     "output_type": "stream",
     "text": [
      "==========KRW-ARDR==========\n"
     ]
    },
    {
     "name": "stderr",
     "output_type": "stream",
     "text": [
      "100% |########################################################################|\n",
      "  6% |####                                                                    |\r"
     ]
    },
    {
     "name": "stdout",
     "output_type": "stream",
     "text": [
      "==========KRW-ARK==========\n"
     ]
    },
    {
     "name": "stderr",
     "output_type": "stream",
     "text": [
      "100% |########################################################################|\n",
      "  6% |####                                                                    |\r"
     ]
    },
    {
     "name": "stdout",
     "output_type": "stream",
     "text": [
      "==========KRW-STORJ==========\n"
     ]
    },
    {
     "name": "stderr",
     "output_type": "stream",
     "text": [
      "100% |########################################################################|\n",
      "  6% |####                                                                    |\r"
     ]
    },
    {
     "name": "stdout",
     "output_type": "stream",
     "text": [
      "==========KRW-GRS==========\n"
     ]
    },
    {
     "name": "stderr",
     "output_type": "stream",
     "text": [
      "100% |########################################################################|\n",
      "  6% |####                                                                    |\r"
     ]
    },
    {
     "name": "stdout",
     "output_type": "stream",
     "text": [
      "==========KRW-REP==========\n"
     ]
    },
    {
     "name": "stderr",
     "output_type": "stream",
     "text": [
      "100% |########################################################################|\n",
      "  6% |####                                                                    |\r"
     ]
    },
    {
     "name": "stdout",
     "output_type": "stream",
     "text": [
      "==========KRW-ADA==========\n"
     ]
    },
    {
     "name": "stderr",
     "output_type": "stream",
     "text": [
      "100% |########################################################################|\n",
      "  6% |####                                                                    |\r"
     ]
    },
    {
     "name": "stdout",
     "output_type": "stream",
     "text": [
      "==========KRW-SBD==========\n"
     ]
    },
    {
     "name": "stderr",
     "output_type": "stream",
     "text": [
      "100% |########################################################################|\n",
      " 10% |#######                                                                 |\r"
     ]
    },
    {
     "name": "stdout",
     "output_type": "stream",
     "text": [
      "==========KRW-POWR==========\n"
     ]
    },
    {
     "name": "stderr",
     "output_type": "stream",
     "text": [
      "100% |########################################################################|\n",
      "  6% |####                                                                    |\r"
     ]
    },
    {
     "name": "stdout",
     "output_type": "stream",
     "text": [
      "==========KRW-BTG==========\n"
     ]
    },
    {
     "name": "stderr",
     "output_type": "stream",
     "text": [
      "100% |########################################################################|\n",
      "  6% |####                                                                    |\r"
     ]
    },
    {
     "name": "stdout",
     "output_type": "stream",
     "text": [
      "==========KRW-ICX==========\n"
     ]
    },
    {
     "name": "stderr",
     "output_type": "stream",
     "text": [
      "100% |########################################################################|\n",
      "  6% |####                                                                    |\r"
     ]
    },
    {
     "name": "stdout",
     "output_type": "stream",
     "text": [
      "==========KRW-EOS==========\n"
     ]
    },
    {
     "name": "stderr",
     "output_type": "stream",
     "text": [
      "100% |########################################################################|\n",
      "  6% |####                                                                    |\r"
     ]
    },
    {
     "name": "stdout",
     "output_type": "stream",
     "text": [
      "==========KRW-TRX==========\n"
     ]
    },
    {
     "name": "stderr",
     "output_type": "stream",
     "text": [
      "100% |########################################################################|\n",
      "  6% |####                                                                    |\r"
     ]
    },
    {
     "name": "stdout",
     "output_type": "stream",
     "text": [
      "==========KRW-SC==========\n"
     ]
    },
    {
     "name": "stderr",
     "output_type": "stream",
     "text": [
      "100% |########################################################################|\n",
      "  6% |####                                                                    |\r"
     ]
    },
    {
     "name": "stdout",
     "output_type": "stream",
     "text": [
      "==========KRW-ONT==========\n"
     ]
    },
    {
     "name": "stderr",
     "output_type": "stream",
     "text": [
      "100% |########################################################################|\n",
      "  6% |####                                                                    |\r"
     ]
    },
    {
     "name": "stdout",
     "output_type": "stream",
     "text": [
      "==========KRW-ZIL==========\n"
     ]
    },
    {
     "name": "stderr",
     "output_type": "stream",
     "text": [
      "100% |########################################################################|\n",
      "  6% |####                                                                    |\r"
     ]
    },
    {
     "name": "stdout",
     "output_type": "stream",
     "text": [
      "==========KRW-POLY==========\n"
     ]
    },
    {
     "name": "stderr",
     "output_type": "stream",
     "text": [
      "100% |########################################################################|\n",
      "  6% |####                                                                    |\r"
     ]
    },
    {
     "name": "stdout",
     "output_type": "stream",
     "text": [
      "==========KRW-ZRX==========\n"
     ]
    },
    {
     "name": "stderr",
     "output_type": "stream",
     "text": [
      "100% |########################################################################|\n",
      "  6% |####                                                                    |\r"
     ]
    },
    {
     "name": "stdout",
     "output_type": "stream",
     "text": [
      "==========KRW-LOOM==========\n"
     ]
    },
    {
     "name": "stderr",
     "output_type": "stream",
     "text": [
      "100% |########################################################################|\n",
      " 10% |#######                                                                 |\r"
     ]
    },
    {
     "name": "stdout",
     "output_type": "stream",
     "text": [
      "==========KRW-BCH==========\n"
     ]
    },
    {
     "name": "stderr",
     "output_type": "stream",
     "text": [
      "100% |########################################################################|\n",
      "  6% |####                                                                    |\r"
     ]
    },
    {
     "name": "stdout",
     "output_type": "stream",
     "text": [
      "==========KRW-BAT==========\n"
     ]
    },
    {
     "name": "stderr",
     "output_type": "stream",
     "text": [
      "100% |########################################################################|\n",
      "  6% |####                                                                    |\r"
     ]
    },
    {
     "name": "stdout",
     "output_type": "stream",
     "text": [
      "==========KRW-IOST==========\n"
     ]
    },
    {
     "name": "stderr",
     "output_type": "stream",
     "text": [
      "100% |########################################################################|\n",
      "  6% |####                                                                    |\r"
     ]
    },
    {
     "name": "stdout",
     "output_type": "stream",
     "text": [
      "==========KRW-RFR==========\n"
     ]
    },
    {
     "name": "stderr",
     "output_type": "stream",
     "text": [
      "100% |########################################################################|\n",
      "  6% |####                                                                    |\r"
     ]
    },
    {
     "name": "stdout",
     "output_type": "stream",
     "text": [
      "==========KRW-CVC==========\n"
     ]
    },
    {
     "name": "stderr",
     "output_type": "stream",
     "text": [
      "100% |########################################################################|\n",
      "  6% |####                                                                    |\r"
     ]
    },
    {
     "name": "stdout",
     "output_type": "stream",
     "text": [
      "==========KRW-IQ==========\n"
     ]
    },
    {
     "name": "stderr",
     "output_type": "stream",
     "text": [
      "100% |########################################################################|\n",
      "  6% |####                                                                    |\r"
     ]
    },
    {
     "name": "stdout",
     "output_type": "stream",
     "text": [
      "==========KRW-IOTA==========\n"
     ]
    },
    {
     "name": "stderr",
     "output_type": "stream",
     "text": [
      "100% |########################################################################|\n",
      "  6% |####                                                                    |\r"
     ]
    },
    {
     "name": "stdout",
     "output_type": "stream",
     "text": [
      "==========KRW-MFT==========\n"
     ]
    },
    {
     "name": "stderr",
     "output_type": "stream",
     "text": [
      "100% |########################################################################|\n",
      "  6% |####                                                                    |\r"
     ]
    },
    {
     "name": "stdout",
     "output_type": "stream",
     "text": [
      "==========KRW-ONG==========\n"
     ]
    },
    {
     "name": "stderr",
     "output_type": "stream",
     "text": [
      "100% |########################################################################|\n",
      "  6% |####                                                                    |\r"
     ]
    },
    {
     "name": "stdout",
     "output_type": "stream",
     "text": [
      "==========KRW-UPP==========\n"
     ]
    },
    {
     "name": "stderr",
     "output_type": "stream",
     "text": [
      "100% |########################################################################|\n",
      "  6% |####                                                                    |\r"
     ]
    },
    {
     "name": "stdout",
     "output_type": "stream",
     "text": [
      "==========KRW-ELF==========\n"
     ]
    },
    {
     "name": "stderr",
     "output_type": "stream",
     "text": [
      "100% |########################################################################|\n",
      "  6% |####                                                                    |\r"
     ]
    },
    {
     "name": "stdout",
     "output_type": "stream",
     "text": [
      "==========KRW-KNC==========\n"
     ]
    },
    {
     "name": "stderr",
     "output_type": "stream",
     "text": [
      "100% |########################################################################|\n",
      "  6% |####                                                                    |\r"
     ]
    },
    {
     "name": "stdout",
     "output_type": "stream",
     "text": [
      "==========KRW-BSV==========\n"
     ]
    },
    {
     "name": "stderr",
     "output_type": "stream",
     "text": [
      "100% |########################################################################|\n",
      "  6% |####                                                                    |\r"
     ]
    },
    {
     "name": "stdout",
     "output_type": "stream",
     "text": [
      "==========KRW-THETA==========\n"
     ]
    },
    {
     "name": "stderr",
     "output_type": "stream",
     "text": [
      "100% |########################################################################|\n",
      "  6% |####                                                                    |\r"
     ]
    },
    {
     "name": "stdout",
     "output_type": "stream",
     "text": [
      "==========KRW-QKC==========\n"
     ]
    },
    {
     "name": "stderr",
     "output_type": "stream",
     "text": [
      "100% |########################################################################|\n",
      "  6% |####                                                                    |\r"
     ]
    },
    {
     "name": "stdout",
     "output_type": "stream",
     "text": [
      "==========KRW-BTT==========\n"
     ]
    },
    {
     "name": "stderr",
     "output_type": "stream",
     "text": [
      "100% |########################################################################|\n",
      "  6% |####                                                                    |\r"
     ]
    },
    {
     "name": "stdout",
     "output_type": "stream",
     "text": [
      "==========KRW-MOC==========\n"
     ]
    },
    {
     "name": "stderr",
     "output_type": "stream",
     "text": [
      "100% |########################################################################|\n",
      "  6% |####                                                                    |\r"
     ]
    },
    {
     "name": "stdout",
     "output_type": "stream",
     "text": [
      "==========KRW-ENJ==========\n"
     ]
    },
    {
     "name": "stderr",
     "output_type": "stream",
     "text": [
      "100% |########################################################################|\n",
      "  6% |####                                                                    |\r"
     ]
    },
    {
     "name": "stdout",
     "output_type": "stream",
     "text": [
      "==========KRW-TFUEL==========\n"
     ]
    },
    {
     "name": "stderr",
     "output_type": "stream",
     "text": [
      "100% |########################################################################|\n",
      "  6% |####                                                                    |\r"
     ]
    },
    {
     "name": "stdout",
     "output_type": "stream",
     "text": [
      "==========KRW-MANA==========\n"
     ]
    },
    {
     "name": "stderr",
     "output_type": "stream",
     "text": [
      "100% |########################################################################|\n",
      "  6% |####                                                                    |\r"
     ]
    },
    {
     "name": "stdout",
     "output_type": "stream",
     "text": [
      "==========KRW-ANKR==========\n"
     ]
    },
    {
     "name": "stderr",
     "output_type": "stream",
     "text": [
      "100% |########################################################################|\n",
      "  6% |####                                                                    |\r"
     ]
    },
    {
     "name": "stdout",
     "output_type": "stream",
     "text": [
      "==========KRW-AERGO==========\n"
     ]
    },
    {
     "name": "stderr",
     "output_type": "stream",
     "text": [
      "100% |########################################################################|\n",
      " 10% |#######                                                                 |\r"
     ]
    },
    {
     "name": "stdout",
     "output_type": "stream",
     "text": [
      "==========KRW-ATOM==========\n"
     ]
    },
    {
     "name": "stderr",
     "output_type": "stream",
     "text": [
      "100% |########################################################################|\n",
      "  6% |####                                                                    |\r"
     ]
    },
    {
     "name": "stdout",
     "output_type": "stream",
     "text": [
      "==========KRW-TT==========\n"
     ]
    },
    {
     "name": "stderr",
     "output_type": "stream",
     "text": [
      "100% |########################################################################|\n",
      "  6% |####                                                                    |\r"
     ]
    },
    {
     "name": "stdout",
     "output_type": "stream",
     "text": [
      "==========KRW-CRE==========\n"
     ]
    },
    {
     "name": "stderr",
     "output_type": "stream",
     "text": [
      "100% |########################################################################|\n",
      "  6% |####                                                                    |\r"
     ]
    },
    {
     "name": "stdout",
     "output_type": "stream",
     "text": [
      "==========KRW-MBL==========\n"
     ]
    },
    {
     "name": "stderr",
     "output_type": "stream",
     "text": [
      "100% |########################################################################|\n",
      "  6% |####                                                                    |\r"
     ]
    },
    {
     "name": "stdout",
     "output_type": "stream",
     "text": [
      "==========KRW-WAXP==========\n"
     ]
    },
    {
     "name": "stderr",
     "output_type": "stream",
     "text": [
      "100% |########################################################################|\n",
      "  6% |####                                                                    |\r"
     ]
    },
    {
     "name": "stdout",
     "output_type": "stream",
     "text": [
      "==========KRW-HBAR==========\n"
     ]
    },
    {
     "name": "stderr",
     "output_type": "stream",
     "text": [
      "100% |########################################################################|\n",
      "  6% |####                                                                    |\r"
     ]
    },
    {
     "name": "stdout",
     "output_type": "stream",
     "text": [
      "==========KRW-MED==========\n"
     ]
    },
    {
     "name": "stderr",
     "output_type": "stream",
     "text": [
      "100% |########################################################################|\n",
      "  6% |####                                                                    |\r"
     ]
    },
    {
     "name": "stdout",
     "output_type": "stream",
     "text": [
      "==========KRW-MLK==========\n"
     ]
    },
    {
     "name": "stderr",
     "output_type": "stream",
     "text": [
      "100% |########################################################################|\n",
      "  6% |####                                                                    |\r"
     ]
    },
    {
     "name": "stdout",
     "output_type": "stream",
     "text": [
      "==========KRW-STPT==========\n"
     ]
    },
    {
     "name": "stderr",
     "output_type": "stream",
     "text": [
      "100% |########################################################################|\n",
      "  6% |####                                                                    |\r"
     ]
    },
    {
     "name": "stdout",
     "output_type": "stream",
     "text": [
      "==========KRW-ORBS==========\n"
     ]
    },
    {
     "name": "stderr",
     "output_type": "stream",
     "text": [
      "100% |########################################################################|\n",
      "  6% |####                                                                    |\r"
     ]
    },
    {
     "name": "stdout",
     "output_type": "stream",
     "text": [
      "==========KRW-VET==========\n"
     ]
    },
    {
     "name": "stderr",
     "output_type": "stream",
     "text": [
      "100% |########################################################################|\n",
      "  6% |####                                                                    |\r"
     ]
    },
    {
     "name": "stdout",
     "output_type": "stream",
     "text": [
      "==========KRW-CHZ==========\n"
     ]
    },
    {
     "name": "stderr",
     "output_type": "stream",
     "text": [
      "100% |########################################################################|\n",
      "  6% |####                                                                    |\r"
     ]
    },
    {
     "name": "stdout",
     "output_type": "stream",
     "text": [
      "==========KRW-STMX==========\n"
     ]
    },
    {
     "name": "stderr",
     "output_type": "stream",
     "text": [
      "100% |########################################################################|\n",
      "  6% |####                                                                    |\r"
     ]
    },
    {
     "name": "stdout",
     "output_type": "stream",
     "text": [
      "==========KRW-DKA==========\n"
     ]
    },
    {
     "name": "stderr",
     "output_type": "stream",
     "text": [
      "100% |########################################################################|\n",
      "  6% |####                                                                    |\r"
     ]
    },
    {
     "name": "stdout",
     "output_type": "stream",
     "text": [
      "==========KRW-HIVE==========\n"
     ]
    },
    {
     "name": "stderr",
     "output_type": "stream",
     "text": [
      "100% |########################################################################|\n",
      "  6% |####                                                                    |\r"
     ]
    },
    {
     "name": "stdout",
     "output_type": "stream",
     "text": [
      "==========KRW-KAVA==========\n"
     ]
    },
    {
     "name": "stderr",
     "output_type": "stream",
     "text": [
      "100% |########################################################################|\n",
      "  6% |####                                                                    |\r"
     ]
    },
    {
     "name": "stdout",
     "output_type": "stream",
     "text": [
      "==========KRW-AHT==========\n"
     ]
    },
    {
     "name": "stderr",
     "output_type": "stream",
     "text": [
      "100% |########################################################################|\n",
      " 10% |#######                                                                 |\r"
     ]
    },
    {
     "name": "stdout",
     "output_type": "stream",
     "text": [
      "==========KRW-LINK==========\n"
     ]
    },
    {
     "name": "stderr",
     "output_type": "stream",
     "text": [
      "100% |########################################################################|\n",
      "  6% |####                                                                    |\r"
     ]
    },
    {
     "name": "stdout",
     "output_type": "stream",
     "text": [
      "==========KRW-XTZ==========\n"
     ]
    },
    {
     "name": "stderr",
     "output_type": "stream",
     "text": [
      "100% |########################################################################|\n",
      "  6% |####                                                                    |\r"
     ]
    },
    {
     "name": "stdout",
     "output_type": "stream",
     "text": [
      "==========KRW-BORA==========\n"
     ]
    },
    {
     "name": "stderr",
     "output_type": "stream",
     "text": [
      "100% |########################################################################|\n",
      "  6% |####                                                                    |\r"
     ]
    },
    {
     "name": "stdout",
     "output_type": "stream",
     "text": [
      "==========KRW-JST==========\n"
     ]
    },
    {
     "name": "stderr",
     "output_type": "stream",
     "text": [
      "100% |########################################################################|\n",
      "  6% |####                                                                    |\r"
     ]
    },
    {
     "name": "stdout",
     "output_type": "stream",
     "text": [
      "==========KRW-CRO==========\n"
     ]
    },
    {
     "name": "stderr",
     "output_type": "stream",
     "text": [
      "100% |########################################################################|\n",
      "  6% |####                                                                    |\r"
     ]
    },
    {
     "name": "stdout",
     "output_type": "stream",
     "text": [
      "==========KRW-TON==========\n"
     ]
    },
    {
     "name": "stderr",
     "output_type": "stream",
     "text": [
      "100% |########################################################################|\n",
      "  6% |####                                                                    |\r"
     ]
    },
    {
     "name": "stdout",
     "output_type": "stream",
     "text": [
      "==========KRW-SXP==========\n"
     ]
    },
    {
     "name": "stderr",
     "output_type": "stream",
     "text": [
      "100% |########################################################################|\n",
      "  6% |####                                                                    |\r"
     ]
    },
    {
     "name": "stdout",
     "output_type": "stream",
     "text": [
      "==========KRW-HUNT==========\n"
     ]
    },
    {
     "name": "stderr",
     "output_type": "stream",
     "text": [
      "100% |########################################################################|\n",
      "  6% |####                                                                    |\r"
     ]
    },
    {
     "name": "stdout",
     "output_type": "stream",
     "text": [
      "==========KRW-PLA==========\n"
     ]
    },
    {
     "name": "stderr",
     "output_type": "stream",
     "text": [
      "100% |########################################################################|\n",
      "  6% |####                                                                    |\r"
     ]
    },
    {
     "name": "stdout",
     "output_type": "stream",
     "text": [
      "==========KRW-DOT==========\n"
     ]
    },
    {
     "name": "stderr",
     "output_type": "stream",
     "text": [
      "100% |########################################################################|\n",
      " 10% |#######                                                                 |\r"
     ]
    },
    {
     "name": "stdout",
     "output_type": "stream",
     "text": [
      "==========KRW-SRM==========\n"
     ]
    },
    {
     "name": "stderr",
     "output_type": "stream",
     "text": [
      "100% |########################################################################|\n",
      "  6% |####                                                                    |\r"
     ]
    },
    {
     "name": "stdout",
     "output_type": "stream",
     "text": [
      "==========KRW-MVL==========\n"
     ]
    },
    {
     "name": "stderr",
     "output_type": "stream",
     "text": [
      "100% |########################################################################|\n",
      "  6% |####                                                                    |\r"
     ]
    },
    {
     "name": "stdout",
     "output_type": "stream",
     "text": [
      "==========KRW-STRAX==========\n"
     ]
    },
    {
     "name": "stderr",
     "output_type": "stream",
     "text": [
      "100% |########################################################################|\n",
      "  6% |####                                                                    |\r"
     ]
    },
    {
     "name": "stdout",
     "output_type": "stream",
     "text": [
      "==========KRW-AQT==========\n"
     ]
    },
    {
     "name": "stderr",
     "output_type": "stream",
     "text": [
      "100% |########################################################################|\n",
      "  6% |####                                                                    |\r"
     ]
    },
    {
     "name": "stdout",
     "output_type": "stream",
     "text": [
      "==========KRW-GLM==========\n"
     ]
    },
    {
     "name": "stderr",
     "output_type": "stream",
     "text": [
      "100% |########################################################################|\n",
      "  6% |####                                                                    |\r"
     ]
    },
    {
     "name": "stdout",
     "output_type": "stream",
     "text": [
      "==========KRW-SSX==========\n"
     ]
    },
    {
     "name": "stderr",
     "output_type": "stream",
     "text": [
      "100% |########################################################################|\n",
      "  3% |##                                                                      |\r"
     ]
    },
    {
     "name": "stdout",
     "output_type": "stream",
     "text": [
      "==========KRW-META==========\n"
     ]
    },
    {
     "name": "stderr",
     "output_type": "stream",
     "text": [
      "100% |########################################################################|\n",
      "  6% |####                                                                    |\r"
     ]
    },
    {
     "name": "stdout",
     "output_type": "stream",
     "text": [
      "==========KRW-FCT2==========\n"
     ]
    },
    {
     "name": "stderr",
     "output_type": "stream",
     "text": [
      "100% |########################################################################|\n",
      "  6% |####                                                                    |\r"
     ]
    },
    {
     "name": "stdout",
     "output_type": "stream",
     "text": [
      "==========KRW-CBK==========\n"
     ]
    },
    {
     "name": "stderr",
     "output_type": "stream",
     "text": [
      "100% |########################################################################|\n",
      "  6% |####                                                                    |\r"
     ]
    },
    {
     "name": "stdout",
     "output_type": "stream",
     "text": [
      "==========KRW-SAND==========\n"
     ]
    },
    {
     "name": "stderr",
     "output_type": "stream",
     "text": [
      "100% |########################################################################|\n",
      "  6% |####                                                                    |\r"
     ]
    },
    {
     "name": "stdout",
     "output_type": "stream",
     "text": [
      "==========KRW-HUM==========\n"
     ]
    },
    {
     "name": "stderr",
     "output_type": "stream",
     "text": [
      "100% |########################################################################|\n",
      "  6% |####                                                                    |\r"
     ]
    },
    {
     "name": "stdout",
     "output_type": "stream",
     "text": [
      "==========KRW-DOGE==========\n"
     ]
    },
    {
     "name": "stderr",
     "output_type": "stream",
     "text": [
      "100% |########################################################################|\n",
      "  6% |####                                                                    |\r"
     ]
    },
    {
     "name": "stdout",
     "output_type": "stream",
     "text": [
      "==========KRW-STRK==========\n"
     ]
    },
    {
     "name": "stderr",
     "output_type": "stream",
     "text": [
      "100% |########################################################################|\n",
      "  6% |####                                                                    |\r"
     ]
    },
    {
     "name": "stdout",
     "output_type": "stream",
     "text": [
      "==========KRW-PUNDIX==========\n"
     ]
    },
    {
     "name": "stderr",
     "output_type": "stream",
     "text": [
      "100% |########################################################################|\n",
      "  6% |####                                                                    |\r"
     ]
    },
    {
     "name": "stdout",
     "output_type": "stream",
     "text": [
      "==========KRW-FLOW==========\n"
     ]
    },
    {
     "name": "stderr",
     "output_type": "stream",
     "text": [
      "100% |########################################################################|\n",
      "  6% |####                                                                    |\r"
     ]
    },
    {
     "name": "stdout",
     "output_type": "stream",
     "text": [
      "==========KRW-DAWN==========\n"
     ]
    },
    {
     "name": "stderr",
     "output_type": "stream",
     "text": [
      "100% |########################################################################|\n",
      "  6% |####                                                                    |\r"
     ]
    },
    {
     "name": "stdout",
     "output_type": "stream",
     "text": [
      "==========KRW-AXS==========\n"
     ]
    },
    {
     "name": "stderr",
     "output_type": "stream",
     "text": [
      "100% |########################################################################|\n",
      "  6% |####                                                                    |\r"
     ]
    },
    {
     "name": "stdout",
     "output_type": "stream",
     "text": [
      "==========KRW-STX==========\n"
     ]
    },
    {
     "name": "stderr",
     "output_type": "stream",
     "text": [
      "100% |########################################################################|\n",
      "  6% |####                                                                    |\r"
     ]
    },
    {
     "name": "stdout",
     "output_type": "stream",
     "text": [
      "==========KRW-XEC==========\n"
     ]
    },
    {
     "name": "stderr",
     "output_type": "stream",
     "text": [
      "100% |########################################################################|\n",
      "  6% |####                                                                    |\r"
     ]
    },
    {
     "name": "stdout",
     "output_type": "stream",
     "text": [
      "==========KRW-SOL==========\n"
     ]
    },
    {
     "name": "stderr",
     "output_type": "stream",
     "text": [
      "100% |########################################################################|\n",
      "  6% |####                                                                    |\r"
     ]
    },
    {
     "name": "stdout",
     "output_type": "stream",
     "text": [
      "==========KRW-MATIC==========\n"
     ]
    },
    {
     "name": "stderr",
     "output_type": "stream",
     "text": [
      "100% |########################################################################|\n",
      "  6% |####                                                                    |\r"
     ]
    },
    {
     "name": "stdout",
     "output_type": "stream",
     "text": [
      "==========KRW-NU==========\n"
     ]
    },
    {
     "name": "stderr",
     "output_type": "stream",
     "text": [
      "100% |########################################################################|\n",
      "  6% |####                                                                    |\r"
     ]
    },
    {
     "name": "stdout",
     "output_type": "stream",
     "text": [
      "==========KRW-AAVE==========\n"
     ]
    },
    {
     "name": "stderr",
     "output_type": "stream",
     "text": [
      "100% |########################################################################|\n",
      "  6% |####                                                                    |\r"
     ]
    },
    {
     "name": "stdout",
     "output_type": "stream",
     "text": [
      "==========KRW-1INCH==========\n"
     ]
    },
    {
     "name": "stderr",
     "output_type": "stream",
     "text": [
      "100% |########################################################################|\n",
      "  6% |####                                                                    |\r"
     ]
    },
    {
     "name": "stdout",
     "output_type": "stream",
     "text": [
      "==========KRW-ALGO==========\n"
     ]
    },
    {
     "name": "stderr",
     "output_type": "stream",
     "text": [
      "100% |########################################################################|\n",
      "  6% |####                                                                    |\r"
     ]
    },
    {
     "name": "stdout",
     "output_type": "stream",
     "text": [
      "==========KRW-NEAR==========\n"
     ]
    },
    {
     "name": "stderr",
     "output_type": "stream",
     "text": [
      "100% |########################################################################|\n",
      "  6% |####                                                                    |\r"
     ]
    },
    {
     "name": "stdout",
     "output_type": "stream",
     "text": [
      "==========KRW-WEMIX==========\n"
     ]
    },
    {
     "name": "stderr",
     "output_type": "stream",
     "text": [
      "100% |########################################################################|\n",
      "C:\\Users\\82108\\AppData\\Local\\Temp\\ipykernel_1896\\80665431.py:53: SettingWithCopyWarning: \n",
      "A value is trying to be set on a copy of a slice from a DataFrame.\n",
      "Try using .loc[row_indexer,col_indexer] = value instead\n",
      "\n",
      "See the caveats in the documentation: https://pandas.pydata.org/pandas-docs/stable/user_guide/indexing.html#returning-a-view-versus-a-copy\n",
      "  data_te['open'] = tmp\n",
      "100%|██████████| 100/100 [00:01<00:00, 64.41it/s]\n"
     ]
    },
    {
     "name": "stdout",
     "output_type": "stream",
     "text": [
      "P50 MAPE: 4.28217162305659\n"
     ]
    },
    {
     "data": {
      "image/png": "[encoded data removed]",
      "text/plain": [
       "<Figure size 1440x360 with 1 Axes>"
      ]
     },
     "metadata": {
      "needs_background": "light"
     },
     "output_type": "display_data"
    }
   ],
   "source": [
    "losses, mape_list, p50, Yf_true = train(train_data, test_data)"
   ]
  },
  {
   "cell_type": "code",
   "execution_count": 90,
   "metadata": {},
   "outputs": [
    {
     "data": {
      "text/plain": [
       "109"
      ]
     },
     "execution_count": 90,
     "metadata": {},
     "output_type": "execute_result"
    }
   ],
   "source": [
    "len(losses)"
   ]
  },
  {
   "cell_type": "code",
   "execution_count": 91,
   "metadata": {},
   "outputs": [
    {
     "data": {
      "text/plain": [
       "array([6004.19189453, 5864.06054688, 5733.46630859, 5569.69995117,\n",
       "       5724.68164062, 5647.66723633, 5609.10009766, 5475.1081543 ,\n",
       "       5531.59179688, 5317.5144043 ])"
      ]
     },
     "execution_count": 91,
     "metadata": {},
     "output_type": "execute_result"
    }
   ],
   "source": [
    "p50"
   ]
  },
  {
   "cell_type": "code",
   "execution_count": 92,
   "metadata": {},
   "outputs": [
    {
     "data": {
      "text/plain": [
       "array([5890.    , 6220.    , 6264.9995, 6075.    , 6000.    , 5730.    ,\n",
       "       5765.    , 5585.    , 5515.    , 5740.    ], dtype=float32)"
      ]
     },
     "execution_count": 92,
     "metadata": {},
     "output_type": "execute_result"
    }
   ],
   "source": [
    "Yf_true.ravel()"
   ]
  },
  {
   "cell_type": "code",
   "execution_count": null,
   "metadata": {},
   "outputs": [],
   "source": []
  }
 ],
 "metadata": {
  "interpreter": {
   "hash": "d67b72366f26532c5f661c017539146322738586d7661e09ffcd2c8ef92eec78"
  },
  "kernelspec": {
   "display_name": "Python 3.9.7 ('tobigs')",
   "language": "python",
   "name": "python3"
  },
  "language_info": {
   "codemirror_mode": {
    "name": "ipython",
    "version": 3
   },
   "file_extension": ".py",
   "mimetype": "text/x-python",
   "name": "python",
   "nbconvert_exporter": "python",
   "pygments_lexer": "ipython3",
   "version": "3.9.7"
  },
  "orig_nbformat": 4
 },
 "nbformat": 4,
 "nbformat_minor": 2
}
